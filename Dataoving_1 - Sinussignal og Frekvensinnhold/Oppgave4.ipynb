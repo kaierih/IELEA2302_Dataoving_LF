{
 "cells": [
  {
   "cell_type": "markdown",
   "metadata": {
    "nbgrader": {
     "grade": false,
     "grade_id": "cell-623402ac50ae8986",
     "locked": true,
     "schema_version": 3,
     "solution": false,
     "task": false
    }
   },
   "source": [
    "<nav class=\"navbar navbar-default\">\n",
    "  <div class=\"container-fluid\">\n",
    "    <div class=\"navbar-header\">\n",
    "      <a class=\"navbar-brand\" href=\"0_Dataoving1_Forside.ipynb\">Dataøving 1</a>\n",
    "    </div>\n",
    "    <ul class=\"nav navbar-nav\">\n",
    "        <li><a href=\"Oppgave1.ipynb\">Oppgave 1 - Komplekse Signal</a></li>\n",
    "        <li><a href=\"Oppgave2.ipynb\">Oppgave 2 - Generering og analyse av C-dur skala</a></li>\n",
    "        <li><a href=\"Oppgave3.ipynb\">Oppgave 3 - Amplitudemodulasjon</a></li>\n",
    "        <li class=\"active\"><a href=\"Oppgave4.ipynb\">Oppgave 4 -Frekvensdeteksjon</a></li>\n",
    "    </ul>\n",
    "  </div>\n",
    "</nav>\n",
    "\n",
    "# Frekvensdeteksjon\n",
    "\n",
    "__Læringsmål__:\n",
    "* Hvordan frekvensforskyvning kan anvendes til å undersøke tilstedeværelsen av en gitt frekvenskomponent i et signal.\n",
    "\n",
    "__Om Oppgaven__:\n",
    "* Denne oppgaven tar utgangspunkt i en praktisk problemstilling, og demonstrerer et mulig anvendelsesområde for teorien vi har jobbet med i de foregående oppgavene.\n",
    "\n",
    "__Bibliotek og notebook-konfigurasjon:__"
   ]
  },
  {
   "cell_type": "code",
   "execution_count": 1,
   "metadata": {},
   "outputs": [],
   "source": [
    "from numpy import sin, cos, pi, exp, mean   # Sentrale matematiske funksjoner for oppgaven\n",
    "import numpy as np                          # Importer funksjonalitet fra numpy biblioteket med prefiks \"np\"\n",
    "import matplotlib.pyplot as plt             # Importer pyplot modulen i matplotlib med prefiks \"plt\"\n",
    "import scipy.io                             # Datafil I/O\n",
    "\n",
    "%matplotlib notebook"
   ]
  },
  {
   "cell_type": "markdown",
   "metadata": {
    "nbgrader": {
     "grade": false,
     "grade_id": "cell-b4cf024db12ff18a",
     "locked": true,
     "schema_version": 3,
     "solution": false,
     "task": false
    }
   },
   "source": [
    "## Problemstilling: tilstandsovervåking av maskineri\n",
    "\n",
    "En vindmølleprodusent opplever utfordringer rundt slitte kulelager i kontaktpunktet til en av akslingene i vindmøllene. Det er spesielt skader på kulene som følge av slitasje som har vist seg å være en gjenganger ved feilsøking på vindmøllene.\n",
    "Produsenten har et ønske om å kunne overvåke tilstanden av det aktuelle kulelageret i vindmøllen med hjelp av en vibrasjonssensor. Denne sensoren skal plasseres på utsiden av kulelageret, og en liten datamaskin skal analyse signalet fra sensoren for å plukke opp tegn til slitasje så tidlig som mulig.\n",
    "\n",
    "![](Figurer/4_kulelager.png)\n",
    "\n",
    "Prinsippet som ligger til grunn for dette systemet, er at hver av kulene vil rotere rundt sin egen akse 2.65 ganger for hver omdreining av akslingen. Og siden et gitt punkt på kula vil komme i kontakt med både indre og ytre ring i kulelageret, betyr dette at en skadet kule vil forårsake $2\\cdot2.65=5.3$ rykninger i kulelageret per omdreining av akslingen. \n",
    "Disse rykningene, i tillegg til mye annet, vil så plukkes opp av vibrasjonssensoren i form av et elektrisk signal som kan analyseres. Dette betyr at hvis kulelageret har utviklet en skade på en kule, så burde det være tydelig i siganlet fra vibrasjonssensoren $x(t)$ at den inneholder en distinkt frekvenskomponent med frekvens lik 5.3 ganger antall omdreininger per sekund $(\\rho)$ som har økt i styrke i takt med skadeutviklingen. \n",
    "\n",
    "For å teste ut prinsippet, settes det opp en testrigg hvor aksling med kulelager og sensor festes til en motor hvor vi kan styre rotasjonshastigheten. Med rotasjonshastigheten konstant lik 10 omdreininger per sekund utføres tre ulike målinger på samme kulelager. Signalene fra målingene ($x_1(t)$, $x_2(t)$ og $x_3(t)$)  med korresponderende sampletidspunkt $t$ er lagret i .mat-filen `kulelager.mat`. Kodecellen nedenfor laster inn data fra filen og lagrer det i array med navn `t`, `x1`, `x2` og `x3`."
   ]
  },
  {
   "cell_type": "code",
   "execution_count": 2,
   "metadata": {},
   "outputs": [],
   "source": [
    "fileData = scipy.io.loadmat(\"kulelager.mat\")\n",
    "\n",
    "t = fileData[\"t\"]\n",
    "x1 = fileData[\"x1\"]\n",
    "x2 = fileData[\"x2\"]\n",
    "x3 = fileData[\"x3\"]"
   ]
  },
  {
   "cell_type": "markdown",
   "metadata": {
    "nbgrader": {
     "grade": false,
     "grade_id": "cell-a0ec565d23c971f2",
     "locked": true,
     "schema_version": 3,
     "solution": false,
     "task": false
    }
   },
   "source": [
    "### Enkel frekvensdeteksjon med frekvensmiksing\n",
    "Hvis det er en skade på én av kulene i kulelageret, burde målesignalet inneholde en merkbar sinuskomponent med frekvens $f = 10\\cdot 5.3 = 53 Hz$. Vi skal nå bruke frekvensmiksing som et verktøy til å avgjøre tilstedeværelsen av en slik sinuskomponent i signalene $x_1(t)$, $x_2(t)$ og $x_3(t)$. Illustrasjonen nedenfor viser hva resultatet blir når et ***eksempelsignal*** med frekvensinnhold blant annet for $f = 53Hz$ mikses med \"demodulasjonsbølge\" med frekvens nøyaktig lik $f_c = 53 Hz$.\n",
    "\n",
    "![](Figurer/Frekvensmiksing.gif)\n",
    "\n",
    "\n",
    "Her ser vi et plot av frekvensinnholdet til signalet som skal analyseres, en bærebølge, og det resulterende tosidige spekteret til et frekvensmikset/demodulert signal.\n",
    "\n",
    "Det som er av spesiell interesse er at vi nå får signalinnhold for $f= 0 Hz$, omsluttet av den røde rammen. Det er fordi den delen av signalet som før var en sinusbølge med nøyaktig 53 Hz frekvens produserer nå et _konstantledd_ i signalet. Ved å regne ut middelverdien til det \"demodulerte\" signalet $y(t) = x(t)\\cdot \\cos(2\\pi \\cdot 53 \\cdot t)$, skal vi dermed kunne estimere ut hvor stor amplituden til signalkomponenten med frekvens lik 53 Hz er. \n",
    "\n",
    "Dette kan også forklares matematisk ved å studere hva som skjer når vi multipliserer sammen to sinusbølger med lik frekvens. Det gir føglende trigonometriske identitet:\n",
    "$$\\cos(2\\pi \\cdot f \\cdot t)\\cdot \\cos(2\\pi \\cdot f \\cdot t) = \\frac{1}{2} + \\frac{1}{2} \\cdot \\cos(2\\pi \\cdot 2 f \\cdot t)$$\n",
    "Dette betyr at signalet får et konstantledd som tilsvarer halvparten av amplituden til sinusbølgen."
   ]
  },
  {
   "cell_type": "markdown",
   "metadata": {
    "nbgrader": {
     "grade": false,
     "grade_id": "cell-b3ee246768f7a5b7",
     "locked": true,
     "schema_version": 3,
     "solution": false,
     "task": false
    }
   },
   "source": [
    "## a) \n",
    "* Utfør frekvensmiksing på signalene $x_1(t)$, $x_2(t)$ og $x_3(t)$ med en ren _cosinusbølge_ $\\cos(2\\pi \\cdot 53 \\cdot t)$. Bruk så funksjonen `mean()` til å finne middelverdien til de ulike signalbitene. Hva sier resultatet om tilstanden til kulelageret i de tre målingene?"
   ]
  },
  {
   "cell_type": "code",
   "execution_count": 3,
   "metadata": {
    "nbgrader": {
     "grade": true,
     "grade_id": "cell-981ab258e5dc7c7c",
     "locked": false,
     "points": 1,
     "schema_version": 3,
     "solution": true,
     "task": false
    }
   },
   "outputs": [
    {
     "name": "stdout",
     "output_type": "stream",
     "text": [
      "0.5339620123189395 -0.015509297476033001 0.3212503681696936\n"
     ]
    }
   ],
   "source": [
    "### BEGIN SOLUTION\n",
    "A_1 = mean(x1*cos(2*pi*53*t))\n",
    "A_2 = mean(x2*cos(2*pi*53*t))\n",
    "A_3 = mean(x3*cos(2*pi*53*t))\n",
    "print(A_1, A_2, A_3)\n",
    "### END SOLUTION"
   ]
  },
  {
   "cell_type": "markdown",
   "metadata": {
    "nbgrader": {
     "grade": true,
     "grade_id": "cell-f15a4a177d6ef6da",
     "locked": false,
     "points": 1,
     "schema_version": 3,
     "solution": true,
     "task": false
    }
   },
   "source": [
    "* Signalet $x_1(t)$ er ut ifra målingen som inneholder en 53 Hz sinuskomponent med høyest amplitude.\n",
    "* Signalet $x_2(t)$ har til sammenligning veldig lite frekvensinnhold for 53 Hz.\n",
    "* Signalet $x_3(t)$ har frekvensinnhold for 53 Hz igjen, men noe lavere verdi enn $x_1(t)$"
   ]
  },
  {
   "cell_type": "markdown",
   "metadata": {
    "nbgrader": {
     "grade": false,
     "grade_id": "cell-620a7b5e0b05f1b4",
     "locked": true,
     "schema_version": 3,
     "solution": false,
     "task": false
    }
   },
   "source": [
    "### Men hva med fase?\n",
    "Vi har hittil antatt at sinuskomponentene i det målte signalet, og sinusbølgen vi bruker til å frekvensforskyve signalinnholdet ned til $f=0 Hz$ er i fase med hverandre. I realiteten er sannsynligheten for at dette forekommer svært liten, ettersom vi ikke enda har noen faseinformasjon om det signalet vi prøver å analysere. Vi kan regne ut matematisk hva som skjer når to sinussignal med lik frekvens og ulik fase multipliseres sammen:\\\n",
    "\\\n",
    "$$\\cos(2\\pi \\cdot f \\cdot t + \\phi)\\cdot \\cos(2\\pi \\cdot f \\cdot t) = \\frac{e^{j(2\\pi \\cdot f \\cdot t + \\phi)} + e^{-j(2\\pi \\cdot f \\cdot t + \\phi)}}{2} \\cdot \\frac{e^{j(2\\pi \\cdot f \\cdot t)} + e^{-j(2\\pi \\cdot f \\cdot t)}}{2}$$ \\\n",
    "\\\n",
    "$$ = \\frac{e^{j(2\\pi \\cdot f \\cdot t + \\phi)}\\cdot e^{j(2\\pi \\cdot f \\cdot t)} +e^{j(2\\pi \\cdot f \\cdot t + \\phi)}\\cdot e^{-j(2\\pi \\cdot f \\cdot t)} + e^{-j(2\\pi \\cdot f \\cdot t + \\phi)}\\cdot e^{j(2\\pi \\cdot f \\cdot t)} + e^{-j(2\\pi \\cdot f \\cdot t + \\phi)}\\cdot e^{-j(2\\pi \\cdot f \\cdot t)}}{4}$$ \\\n",
    "\\\n",
    "$$ = \\frac{e^{j(4\\pi \\cdot f \\cdot t + \\phi)} +e^{j\\phi} + e^{-j\\phi} + e^{-j(4\\pi \\cdot f \\cdot t + \\phi)}}{4}$$ \\\n",
    "\\\n",
    "$$ = \\frac{1}{2} \\cdot \\cos(\\phi) + \\frac{1}{2}\\cdot \\cos(4\\pi \\cdot f \\cdot t + \\phi)$$\n",
    "\n",
    "Middelverdien blir altså $\\frac{1}{2}\\cdot \\cos(\\phi)$, og metoden vi benytter i deloppgave __a)__ kan dermed gi nesten helt tilfeldige resultater avhengig av hva faseinformasjonen til signalet vi skal analysere er. Problemet her er _overlappingen_ vi ser i figuren ovenfor. Når to slike frekvenskomponenter forskyves slik at de overlapper med hverandre, vil hver frekvenskomponent summeres i tråd med _vektoraddisjonsprinsippet_ fra kapittel 2 avhengig av hva deres respektive faser er. Dette betyr at frekvensmiksing med en ren sinusbølge i seg selv ikke vil kunne gi pålitelig informasjon om skadeutvikling på kulelageret."
   ]
  },
  {
   "cell_type": "markdown",
   "metadata": {
    "nbgrader": {
     "grade": false,
     "grade_id": "cell-bdbe3dca7b6c9f1b",
     "locked": true,
     "schema_version": 3,
     "solution": false,
     "task": false
    }
   },
   "source": [
    "## b) \n",
    "* Vi skal se nærmere på hvordan fase påvirker analysen vår. Utfør frekvensmiksing middelverdiutregning slik som i deloppgave __a)__, men nå med en _sinusbølge_ $\\sin(2\\pi \\cdot 53 \\cdot t)$. Sammenlign resultatene med deloppgave __a)__ og kommenter."
   ]
  },
  {
   "cell_type": "code",
   "execution_count": 4,
   "metadata": {
    "nbgrader": {
     "grade": true,
     "grade_id": "cell-f97328bc3f65619a",
     "locked": false,
     "points": 1,
     "schema_version": 3,
     "solution": true,
     "task": false
    }
   },
   "outputs": [
    {
     "name": "stdout",
     "output_type": "stream",
     "text": [
      "-0.08107328345997603 0.4816248526565814 0.3844009327169547\n"
     ]
    }
   ],
   "source": [
    "### BEGIN SOLUTION\n",
    "A_1 = mean(x1*sin(2*pi*53*t))\n",
    "A_2 = mean(x2*sin(2*pi*53*t))\n",
    "A_3 = mean(x3*sin(2*pi*53*t))\n",
    "print(A_1, A_2, A_3)\n",
    "### END SOLUTION"
   ]
  },
  {
   "cell_type": "markdown",
   "metadata": {
    "nbgrader": {
     "grade": true,
     "grade_id": "cell-4081122ca00ed6fc",
     "locked": false,
     "points": 1,
     "schema_version": 3,
     "solution": true,
     "task": false
    }
   },
   "source": [
    "* Signalet $x_1(t)$ ser i dette tilfellet nesten ikke ut til å ha noe frevkensinnhold for $f=53Hz$.\n",
    "* Signalet $x_2(t)$ ser i dette tilfellet ut til å ha høyest frevkensinnhold for $f=53Hz$, med en middelverdi på ca. 0.5.\n",
    "* Signalet $x_3(t)$ har frekvensinnhold for 53 Hz også, og ser ut til å være nesten lik som i deloppgave **a**."
   ]
  },
  {
   "cell_type": "markdown",
   "metadata": {
    "nbgrader": {
     "grade": false,
     "grade_id": "cell-17ad0d7f1e318cfa",
     "locked": true,
     "schema_version": 3,
     "solution": false,
     "task": false
    }
   },
   "source": [
    "### Kompleks frekvensmiksing\n",
    "Som nevnt, så oppstår komplikasjoner når vi får overlapping i frekvensinnholdet rundt $f=0 Hz$ etter multiplikasjon med en sinusbølge. Problemet oppstår fordi frekvensmiksing splitter signalinnholdet i to like store kopier, og forskyver kopiene i hver sin retning langs frekvensaksen. Dette unngår vi om vi kan frekvensforskyve signalet kun i én retning, noe vi får til ved å bruke en roterende kompleks vektor heller enn en sinusbølge (ettersom en sinusbølge regnes som summen av to komplekse roterende vektorer med både positiv og negativ frekvenskomponent).\n",
    "\n",
    "$$e^{-j2\\pi \\cdot 53 \\cdot t} = \\cos(2\\pi \\cdot 53 \\cdot t) - j\\sin(2\\pi \\cdot 53 \\cdot t)$$\n",
    "\n",
    "Figuren nedenfor viser hvordan dette vil påvirke signalinnholdet i frekvensplanet. Vi ser tydelig at det _ikke_ forekommer noen overlapping mellom signalkopier i det frekvensforskjøvne signalet $y(t) = x(t)\\cdot e^{-j2\\pi \\cdot 53 \\cdot t}$.\n",
    "![](Figurer/Kompleks_frekvensmiksing.gif)\n",
    "Vi kan se for oss at middelverdi-utregningen er et _veldig_ smalt vindu som lar oss se frekvensinnholdet til signalet akkurat i frekvensen $f=0$. Ved å utnytte frekvensforskyvning kan vi skyve andre deler av frekvensspekteret foran \"vinduet\", og dermed se andre deler av frekvensinnholdet."
   ]
  },
  {
   "cell_type": "markdown",
   "metadata": {
    "nbgrader": {
     "grade": false,
     "grade_id": "cell-5a7d11790f7e23a0",
     "locked": true,
     "schema_version": 3,
     "solution": false,
     "task": false
    }
   },
   "source": [
    "## c)\n",
    "* Vi dermed kan bruke resultatet fra deloppgaven __a)__ og __b)__ til å finne styrken til $53 Hz$ frekvenskomponenten i de tre målingene:\n",
    "$$y(t)=x(t)\\cdot e^{-j2\\pi \\cdot 53 \\cdot t} = x(t)\\cdot \\cos(2\\pi \\cdot 53 \\cdot t) - x(t)\\cdot j\\sin(2\\pi \\cdot 53 \\cdot t)$$\n",
    "Regn ut den \"sanne\" amplituden til $53 Hz$ frekvenskomponenten i de tre signalene, og kommenter på eventuelle sammenhenger du ser i de tre målingene."
   ]
  },
  {
   "cell_type": "code",
   "execution_count": 10,
   "metadata": {
    "nbgrader": {
     "grade": true,
     "grade_id": "cell-a2618fedb7e59ee7",
     "locked": false,
     "points": 1,
     "schema_version": 3,
     "solution": true,
     "task": false
    }
   },
   "outputs": [
    {
     "name": "stdout",
     "output_type": "stream",
     "text": [
      "0.5400817603758461\n",
      "0.48187450337683757\n",
      "0.5009649450039677\n"
     ]
    }
   ],
   "source": [
    "### BEGIN SOLUTION\n",
    "A_1 = np.sqrt(mean(x1*cos(2*pi*53*t))**2 + mean(x1*sin(2*pi*53*t))**2)\n",
    "A_2 = np.sqrt(mean(x2*cos(2*pi*53*t))**2 + mean(x2*sin(2*pi*53*t))**2)\n",
    "A_3 = np.sqrt(mean(x3*cos(2*pi*53*t))**2 + mean(x3*sin(2*pi*53*t))**2)\n",
    "print(A_1, A_2, A_3, sep=\"\\n\")\n",
    "### END SOLUTION"
   ]
  },
  {
   "cell_type": "markdown",
   "metadata": {
    "nbgrader": {
     "grade": true,
     "grade_id": "cell-87145a8085c009b6",
     "locked": false,
     "points": 1,
     "schema_version": 3,
     "solution": true,
     "task": false
    }
   },
   "source": [
    "* Alle tre målingene ser her ut til å ha nesten likt frekvensinnhold for $f=53Hz$. Dette gir mening dersom man anser resultatene fra **a** og **b** som partielle løsninger. Når \"resonansen\" med en cosinusfunksjon er høy så er den tilsvarende lav for en sinusfunksjon, og vise versa.\n",
    "\n",
    "* Konklusjonen vi kan trekke fra dette er at alle tre målingene inneholder en $53Hz$ frekvenskomponent med ca. lik amplitude, noe som ikke indikerer at det har skjedd noen utvikling av skadeomfang i tidsperioden hvor målingene er tatt."
   ]
  },
  {
   "cell_type": "markdown",
   "metadata": {
    "nbgrader": {
     "grade": false,
     "grade_id": "cell-09d2f7ead89e28c0",
     "locked": true,
     "schema_version": 3,
     "solution": false,
     "task": false
    }
   },
   "source": [
    "## Koblingen mellom Frekvensforksyvning og Fouriertransormasjon:\n",
    "\n",
    "Vi har i denne oppgaven sett på hvordan vi kan bruke frekvensforsyvning av et signal til å omforme en av frekvenskomponentene i et signal til ett konstantledd. Resultatet kan behandles videre ved bruke enkel middelverdiutregning til å regne ut konstantleddet, noe som gir en indikasjon på amplituden til den aktuelle frekvenskomponenten i det opprinnelige signalet. \n",
    "\n",
    "Hvis man vil utføre en mer grundig analyse av signalet og identifisere \"alle\" frekvenskomponentene, så kan dette utføres ved å gjenta prosessen mange ganger med ulik carrier-frekvens hver gang. Hvis vi sier at signalet vi analyserer har en varighet $T_0$, og vi vil identifisere egenskapene alle frekvenskomponentene $a_k$ som fullfører et heltall $k$ antall svingninger i løpet av tidsperioden $T_0$, så kan denne analysen ta følgende matematiske form:\n",
    "\n",
    "$$a_k = \\frac{1}{T_0} \\cdot \\int_{0}^{T_0}x(t)\\cdot e^{-j\\frac{2\\pi \\cdot k \\cdot t}{T_0}}dt, \\ \\ \\ \\ \\ k \\in Z$$\n",
    "\n",
    "Dette er formelen for Fourierrekke-dekomponenring av en periodisk funksjon $x(t)$ som dere har arbeidet med i Matematiske Metoder 2. Det er også verdt å bemerke at fourierrekke-koeffisientene $a_k$ her vil gi informasjon om både _amplituden_ og _fasen_ til hver av frekvenskomponentene i signalet $x(t)$."
   ]
  }
 ],
 "metadata": {
  "celltoolbar": "Create Assignment",
  "kernelspec": {
   "display_name": "Python 3",
   "language": "python",
   "name": "python3"
  },
  "language_info": {
   "codemirror_mode": {
    "name": "ipython",
    "version": 3
   },
   "file_extension": ".py",
   "mimetype": "text/x-python",
   "name": "python",
   "nbconvert_exporter": "python",
   "pygments_lexer": "ipython3",
   "version": "3.8.3"
  }
 },
 "nbformat": 4,
 "nbformat_minor": 4
}
