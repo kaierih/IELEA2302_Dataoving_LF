{
 "cells": [
  {
   "cell_type": "markdown",
   "metadata": {
    "nbgrader": {
     "grade": false,
     "grade_id": "cell-e39c2ad7e7f46207",
     "locked": true,
     "schema_version": 3,
     "solution": false,
     "task": false
    }
   },
   "source": [
    "<nav class=\"navbar navbar-default\">\n",
    "  <div class=\"container-fluid\">\n",
    "    <div class=\"navbar-header\">\n",
    "      <a class=\"navbar-brand\" href=\"0_Dataoving1_Forside.ipynb\">Dataøving 1</a>\n",
    "    </div>\n",
    "    <ul class=\"nav navbar-nav\">\n",
    "        <li class=\"active\"><a href=\"Oppgave1.ipynb\">Oppgave 1 - Komplekse Signal</a></li>\n",
    "        <li><a href=\"Oppgave2.ipynb\">Oppgave 2 - Generering og analyse av C-dur skala</a></li>\n",
    "        <li><a href=\"Oppgave3.ipynb\">Oppgave 3 - Amplitudemodulasjon</a></li>\n",
    "        <li><a href=\"Oppgave4.ipynb\">Oppgave 4 -Frekvensdeteksjon</a></li>\n",
    "    </ul>\n",
    "  </div>\n",
    "</nav>\n",
    "\n",
    "# Komplekse signal\n",
    "\n",
    "__Læringsmål__:\n",
    "* Generering av sinussignal og komplekse signal som numpy ndarray\n",
    "* Frekvensinnhold for sinussignal\n",
    "* Betydningen av tosidig frekvensspekter\n",
    "\n",
    "__Bibliotek og notebook-konfigurasjon:__"
   ]
  },
  {
   "cell_type": "code",
   "execution_count": 1,
   "metadata": {},
   "outputs": [],
   "source": [
    "from numpy import sin, cos, pi, exp         # Sentrale funksjoner for oppgaven\n",
    "import numpy as np                          # Importer funksjonalitet fra numpy biblioteket med prefiks \"np\"\n",
    "import matplotlib.pyplot as plt             # Importer pyplot modulen i matplotlib med prefiks \"plt\"\n",
    "from funksjoner_data2 import displayDualSpectrum \n",
    "\n",
    "%matplotlib ipympl"
   ]
  },
  {
   "cell_type": "markdown",
   "metadata": {
    "nbgrader": {
     "grade": false,
     "grade_id": "cell-2df3479c4643604e",
     "locked": true,
     "schema_version": 3,
     "solution": false,
     "task": false
    }
   },
   "source": [
    "## Komplekse signal i Python \n",
    "\n",
    "I Signalbehandling kommer vi til å regne mye på komplekse tall og funksjoner. I Python kan man lage komplekse tall ved bruk av bokstaven 'j' bak et tall. Eksempelet nedenfor viser hvordan man kan lage komplekse tall enten med kartesiske komponenter eller polarkomponenter:\n",
    "\n",
    "```python\n",
    "z = x + 1j*y            # 'x' er reell del og 'y' er imaginær del\n",
    "z = r*exp(1j*theta)    # 'r' er absoluttverdi og 'theta' er vinkel i radianer\n",
    "```\n",
    "\n",
    "_P.S. Her brukes vi `exp()`-funksjonen fra biblioteket `numpy` istedenfor f.eks. `math`. Dette fordi funksjonene fra i `numpy` også kan håndtere store arrays som input, og ikke bare enkeltverdier, noe som vil være essensielt videre i oppgaven._\n",
    "\n",
    "Vi vet ifra teorien at et reelt sinusformet signal kan dekomponeres til to komplekse eksponentialer med motsatt rotasjonsretning: $$A \\cdot \\cos \\left(2\\pi f \\cdot t + \\phi \\right) = \\frac{A}{2}\\cdot e^{j\\phi} \\cdot e^{j2\\pi f \\cdot t} +  \\frac{A}{2}\\cdot e^{-j\\phi} \\cdot e^{-j2\\pi f \\cdot t}$$\n",
    "\n",
    "I denne oppgaven skal vi analysere tre ulike signal som er representert med hvert sitt ledd i likningen over.\n",
    "- $x(t) = A \\cdot \\cos(2\\pi f\\cdot t + \\phi )$ \n",
    "- $z_1(t)=\\frac{A}{2}\\cdot e^{j\\phi} \\cdot e^{j2\\pi f \\cdot t}$ \n",
    "- $z_2(t) = \\frac{A}{2}\\cdot e^{-j\\phi} \\cdot e^{-j2\\pi f \\cdot t}$"
   ]
  },
  {
   "cell_type": "markdown",
   "metadata": {
    "nbgrader": {
     "grade": false,
     "grade_id": "cell-daf9a29faea383de",
     "locked": true,
     "schema_version": 3,
     "solution": false,
     "task": false
    }
   },
   "source": [
    "## a)\n",
    "- Nedenfor ser du kode som genererer en array __t__, som representerer en serie med tidspunkt fordelt utover et tidsintervall på 2 sekund. Bruk denne videre til å generere 2 sekund av signalene __xt__ ($x(t)$), __zt_1__ ($z_1(t)$) og __zt_2__ ($z_2(t)$) når $A = 5$, $f = 100$ og $\\phi = \\frac{\\pi}{5}$."
   ]
  },
  {
   "cell_type": "code",
   "execution_count": 2,
   "metadata": {
    "nbgrader": {
     "grade": true,
     "grade_id": "cell-c863dae9a1138da5",
     "locked": false,
     "points": 2,
     "schema_version": 3,
     "solution": true,
     "task": false
    }
   },
   "outputs": [],
   "source": [
    "fs = 500     # Samplingsfrekvens\n",
    "T = 2        # Signalvarighet\n",
    "\n",
    "# Lag en array med 500 tidsverdier per sekund i 2 sekund.\n",
    "# (\"endpoint=False\" betyr at siste punkt blir 1.998s og ikke 2.0s)\n",
    "t = np.linspace(0, T, T*fs, endpoint=False) \n",
    "\n",
    "### BEGIN SOLUTION\n",
    "A = 5\n",
    "f = 100\n",
    "phi = pi/5\n",
    "\n",
    "xt = A*cos(2*pi*f*t)\n",
    "zt_1 = A/2*exp(1j*(2*pi*f*t+phi))\n",
    "zt_2 = A/2*exp(-1j*(2*pi*f*t-phi))\n",
    "### END SOLUTION"
   ]
  },
  {
   "cell_type": "markdown",
   "metadata": {
    "nbgrader": {
     "grade": false,
     "grade_id": "cell-0971dd8c79089f1c",
     "locked": true,
     "schema_version": 3,
     "solution": false,
     "task": false
    }
   },
   "source": [
    "Funksjonen `displayDualSpectrum(xt, fs)` er skrevet spesielt for denne dataøvingen. Det er en void-funksjon som genererer et tosidig plot av frekvensinnholdet til en signal-array `xt` som funksjon av frekvens i Hertz _(hz)_ basert på angitt samplingsfrekvens `fs`.\n",
    "\n",
    "Eksempel på bruk:\n",
    "```python\n",
    "    xt = # Signalgenerasjon slik som i deloppgave a)\n",
    "    fs = 100 # Eksempel på samplingsfrekvens\n",
    "    displayDualSpectrum(xt, fs)\n",
    "```"
   ]
  },
  {
   "cell_type": "markdown",
   "metadata": {
    "nbgrader": {
     "grade": false,
     "grade_id": "cell-e3cac315b991c3e2",
     "locked": true,
     "schema_version": 3,
     "solution": false,
     "task": false
    }
   },
   "source": [
    "## b)\n",
    "- Bruk så funksjonen __displayDualSpectrum()__ og __subplot()__ til å lage en figur som viser frekvensinnholdet til de tre signalene."
   ]
  },
  {
   "cell_type": "code",
   "execution_count": 3,
   "metadata": {
    "nbgrader": {
     "grade": true,
     "grade_id": "cell-e1e58fe13fcf0787",
     "locked": false,
     "points": 2,
     "schema_version": 3,
     "solution": true,
     "task": false
    }
   },
   "outputs": [
    {
     "data": {
      "application/vnd.jupyter.widget-view+json": {
       "model_id": "5b172ebe3a3c46bfb81d746027b3e88c",
       "version_major": 2,
       "version_minor": 0
      },
      "text/plain": [
       "Canvas(toolbar=Toolbar(toolitems=[('Home', 'Reset original view', 'home', 'home'), ('Back', 'Back to previous …"
      ]
     },
     "metadata": {},
     "output_type": "display_data"
    }
   ],
   "source": [
    "### BEGIN SOLUTION\n",
    "plt.figure()\n",
    "plt.subplot(3,1,1)\n",
    "displayDualSpectrum(xt, fs)\n",
    "plt.ylabel(\"x(t)\")\n",
    "plt.subplot(3,1,2)\n",
    "displayDualSpectrum(zt_1, fs)\n",
    "plt.ylabel(\"z1(t)\")\n",
    "plt.subplot(3,1,3)\n",
    "displayDualSpectrum(zt_2, fs)\n",
    "plt.ylabel(\"z2(t)\")\n",
    "plt.show()\n",
    "### END SOLUTION"
   ]
  },
  {
   "cell_type": "markdown",
   "metadata": {
    "nbgrader": {
     "grade": false,
     "grade_id": "cell-864d8ec77635b3e6",
     "locked": true,
     "schema_version": 3,
     "solution": false,
     "task": false
    }
   },
   "source": [
    "## c) \n",
    "* Studer det tosidige frekvensspekteret til $x(t)$, $z_1(t)$ og $z_2(t)$. Hvorfor har $x(t)$ både positivt og negativt frekvensinnhold? Forklar sammenhengen mellom $x(t)$, $z_1(t)$ og $z_2(t)$ ved å henvise til de tre grafene."
   ]
  },
  {
   "cell_type": "markdown",
   "metadata": {
    "nbgrader": {
     "grade": true,
     "grade_id": "cell-dd8af200ee874285",
     "locked": false,
     "points": 1,
     "schema_version": 3,
     "solution": true,
     "task": false
    }
   },
   "source": [
    "__Svar:__ \n",
    "\n",
    "Rent matematisk så er $x(t) = z_1(t) + z_2(t)$. \n",
    "\n",
    "Dette kan vi tydelig se ut ifra figurene ettersom frekvensinnholdet til $x(t)$ er en sammensetning av frekvensinnholdet til $z_1(t)$ og $z_2(t)$"
   ]
  }
 ],
 "metadata": {
  "celltoolbar": "Create Assignment",
  "kernelspec": {
   "display_name": "Python 3",
   "language": "python",
   "name": "python3"
  },
  "language_info": {
   "codemirror_mode": {
    "name": "ipython",
    "version": 3
   },
   "file_extension": ".py",
   "mimetype": "text/x-python",
   "name": "python",
   "nbconvert_exporter": "python",
   "pygments_lexer": "ipython3",
   "version": "3.8.3"
  }
 },
 "nbformat": 4,
 "nbformat_minor": 4
}
