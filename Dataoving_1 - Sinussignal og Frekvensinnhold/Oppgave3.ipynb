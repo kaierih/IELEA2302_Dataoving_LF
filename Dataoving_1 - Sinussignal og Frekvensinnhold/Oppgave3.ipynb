{
 "cells": [
  {
   "cell_type": "markdown",
   "metadata": {
    "nbgrader": {
     "grade": false,
     "grade_id": "cell-623402ac50ae8986",
     "locked": true,
     "schema_version": 3,
     "solution": false,
     "task": false
    }
   },
   "source": [
    "<nav class=\"navbar navbar-default\">\n",
    "  <div class=\"container-fluid\">\n",
    "    <div class=\"navbar-header\">\n",
    "      <a class=\"navbar-brand\" href=\"0_Dataoving1_Forside.ipynb\">Dataøving 1</a>\n",
    "    </div>\n",
    "    <ul class=\"nav navbar-nav\">\n",
    "        <li><a href=\"Oppgave1.ipynb\">Oppgave 1 - Komplekse Signal</a></li>\n",
    "        <li><a href=\"Oppgave2.ipynb\">Oppgave 2 - Generering og analyse av C-dur skala</a></li>\n",
    "        <li class=\"active\"><a href=\"Oppgave3.ipynb\">Oppgave 3 - Amplitudemodulasjon</a></li>\n",
    "        <li><a href=\"Oppgave4.ipynb\">Oppgave 4 -Frekvensdeteksjon</a></li>\n",
    "    </ul>\n",
    "  </div>\n",
    "</nav>\n",
    "\n",
    "# Amplitudemodulasjon\n",
    "\n",
    "__Læringsmål__:\n",
    "* Forståelse for konseptet frekvensforskyvning\n",
    "* Effekten av frekvensmiksing på frekvensinnholdet til et signal\n",
    "\n",
    "__Bibliotek og notebook-konfigurasjon:__"
   ]
  },
  {
   "cell_type": "code",
   "execution_count": 1,
   "metadata": {},
   "outputs": [],
   "source": [
    "from numpy import sin, cos, pi, exp, empty  # Sentrale funksjoner for oppgaven\n",
    "import numpy as np                          # Importer funksjonalitet fra numpy biblioteket med prefiks \"np\"\n",
    "import matplotlib.pyplot as plt             # Importer pyplot modulen i matplotlib med prefiks \"plt\"\n",
    "\n",
    "\n",
    "from funksjoner_data2 import displayDualSpectrum # Vedlegg til dataøving 2\n",
    "%matplotlib ipympl"
   ]
  },
  {
   "cell_type": "markdown",
   "metadata": {
    "nbgrader": {
     "grade": false,
     "grade_id": "cell-b4cf024db12ff18a",
     "locked": true,
     "schema_version": 3,
     "solution": false,
     "task": false
    }
   },
   "source": [
    "Amplitudemodulasjon (AM) er en gammel teknikk som ble brukt til å overføre analoge signal ved hjelp av radiobølger. Grunnkonseptet går ut på å multiplisere (mikse) det analoge signalet med en bærebølge med mye høyere frekvens, slik at man ender opp med et informasjonsbærende signal hvor spektralinnholdet er sentrert rundt carrier frekvensen . Bildet nedenfor viser et utklipp et signal, en bærebølge, og det resulterende AM signalet.\n",
    "\n",
    "![](Figurer/Amplitudemodulasjon.png)\n",
    "\n",
    "Resultatet blir en såkalt \"Beat Note\" hvor vi får én gjenkjennbar hovedfrekvens som varierer i amplitude over tid."
   ]
  },
  {
   "cell_type": "markdown",
   "metadata": {
    "nbgrader": {
     "grade": false,
     "grade_id": "cell-a5e7978d6c00cfec",
     "locked": true,
     "schema_version": 3,
     "solution": false,
     "task": false
    }
   },
   "source": [
    "Vi tar utgangspunkt i et basis-signal $x(t)$ som kan beskrives matematisk som følger:\n",
    "$$x(t) = A_0 + A_1 \\cdot \\cos(2\\pi \\cdot f_1 \\cdot t) + A_2 \\cdot \\cos(2\\pi \\cdot f_2 \\cdot t)$$\n",
    "Vi skal deretter lage et amplitudemodulert signal $y(t) = x(t) \\cdot cos(2\\pi \\cdot f_c \\cdot t)$ der $f_c$ er carrier-frekvensen. Parametrene settes i kodecellen nedenfor."
   ]
  },
  {
   "cell_type": "code",
   "execution_count": 2,
   "metadata": {},
   "outputs": [],
   "source": [
    "Fs = 240 # Samplingsfrekvens\n",
    "F1 = 8\n",
    "F2 = 12\n",
    "A0 = 0.48\n",
    "A1 = 0.31\n",
    "A2 = 0.19\n",
    "Fc = 50 #Carrier Frekvens\n",
    "T = 20  #Signalets varighet i sekund"
   ]
  },
  {
   "cell_type": "markdown",
   "metadata": {
    "nbgrader": {
     "grade": false,
     "grade_id": "cell-93c2195d81039d4a",
     "locked": true,
     "schema_version": 3,
     "solution": false,
     "task": false
    }
   },
   "source": [
    "## a)\n",
    "* Fullfør koden i cellen nedenfor slik at vi har to signal i form av array objekter `xt` og `yt` som inneholder signalene $x(t)$ og $y(t)$ som beskrevet ovenfor. "
   ]
  },
  {
   "cell_type": "code",
   "execution_count": 3,
   "metadata": {
    "nbgrader": {
     "grade": true,
     "grade_id": "cell-eb38a4f6130f07fd",
     "locked": false,
     "points": 2,
     "schema_version": 3,
     "solution": true,
     "task": false
    },
    "scrolled": false
   },
   "outputs": [
    {
     "data": {
      "application/vnd.jupyter.widget-view+json": {
       "model_id": "ac893e72f74a4090a00d1ebad57abb79",
       "version_major": 2,
       "version_minor": 0
      },
      "text/plain": [
       "Canvas(toolbar=Toolbar(toolitems=[('Home', 'Reset original view', 'home', 'home'), ('Back', 'Back to previous …"
      ]
     },
     "metadata": {},
     "output_type": "display_data"
    }
   ],
   "source": [
    "# Signalgenerasjon:\n",
    "\n",
    "t = np.linspace(0, T, T*Fs, endpoint=False) # \n",
    "\n",
    "### BEGIN SOLUTION\n",
    "xt = A0 + A1*cos(2*pi*F1*t)+ A2*cos(2*pi*F2*t)# Implementer riktig formel her\n",
    "yt = xt*cos(2*pi*Fc*t) # Implementer riktig formel her\n",
    "### END SOLUTION\n",
    "\n",
    "# Plotting av signalspektrum:\n",
    "plt.close(1)\n",
    "plt.figure(1, figsize=(8,6))\n",
    "plt.subplot(5,1,(1,2))\n",
    "displayDualSpectrum(xt,Fs)\n",
    "plt.title('Basisbånd-signal x(t)')\n",
    "plt.subplot(5,1,(4,5))\n",
    "displayDualSpectrum(yt,Fs)\n",
    "plt.title('Frekvensmikset signal y(t)')\n",
    "plt.show()"
   ]
  },
  {
   "cell_type": "markdown",
   "metadata": {
    "nbgrader": {
     "grade": false,
     "grade_id": "cell-9487478809e77ddf",
     "locked": true,
     "schema_version": 3,
     "solution": false,
     "task": false
    }
   },
   "source": [
    "## b)\n",
    "Prøv deg fram med å justere de ulike signalparametrene, og svar på følgende kontrollspørsmål:\n",
    "* Hvorfor har vi ulik amplitude for signalkomponentene i delplot 1 og delplot 2?\n",
    "* Hva avgjør _båndbredden_ til signalet $y(t)$"
   ]
  },
  {
   "cell_type": "markdown",
   "metadata": {
    "nbgrader": {
     "grade": true,
     "grade_id": "cell-f8e4945a9a4eca89",
     "locked": false,
     "points": 2,
     "schema_version": 3,
     "solution": true,
     "task": false
    }
   },
   "source": [
    "* Signalet har blitt frekvensforskjøvet med to komplekse eksponentialer som har amplitude lik 0.5, og motsatt rotasjonsretning. Vi får da to \"kopier\" av frekvensinnholdet til $x(t)$ forskjøvet i frekvens, og med halvparten av amplituden hver.\n",
    "* Båndbredden til signalet $y(t)$ er avgjort av hvor bredden til det _tosidige_ frekvensspekteret til $x(t)$. Det vil si at $B = 2\\cdot \\max(f_1, f_2) = 24 Hz$"
   ]
  },
  {
   "cell_type": "markdown",
   "metadata": {
    "nbgrader": {
     "grade": false,
     "grade_id": "cell-4562070157701086",
     "locked": true,
     "schema_version": 3,
     "solution": false,
     "task": false
    }
   },
   "source": [
    "## c)\n",
    "\n",
    "* Lag et nytt signal $v(t) = y(t)\\cdot \\cos(2\\pi \\cdot f_c \\cdot t)$ og vis det tosidige spekteret til $v(t)$ i en ny figur. Kommenter på hva som skjer med frekvensinnholdet til det nye signalet."
   ]
  },
  {
   "cell_type": "code",
   "execution_count": 4,
   "metadata": {
    "nbgrader": {
     "grade": true,
     "grade_id": "cell-44be8693bcd2edc3",
     "locked": false,
     "points": 1,
     "schema_version": 3,
     "solution": true,
     "task": false
    }
   },
   "outputs": [
    {
     "data": {
      "application/vnd.jupyter.widget-view+json": {
       "model_id": "944dfac4ff084b52aa64e9d2f895e357",
       "version_major": 2,
       "version_minor": 0
      },
      "text/plain": [
       "Canvas(toolbar=Toolbar(toolitems=[('Home', 'Reset original view', 'home', 'home'), ('Back', 'Back to previous …"
      ]
     },
     "metadata": {},
     "output_type": "display_data"
    }
   ],
   "source": [
    "### BEGIN SOLUTION\n",
    "plt.figure(2)\n",
    "vt = yt*cos(2*pi*Fc*t)\n",
    "displayDualSpectrum(vt, Fs)\n",
    "### END SOLUTION"
   ]
  },
  {
   "cell_type": "markdown",
   "metadata": {
    "nbgrader": {
     "grade": true,
     "grade_id": "cell-4ee5400df04a1bfc",
     "locked": false,
     "points": 1,
     "schema_version": 3,
     "solution": true,
     "task": false
    }
   },
   "source": [
    "Vi ser tydelig at frekvensinnholdet i signalet $y(t)$ splittes på nytt, og forskyves igjen i begge retnigner. Det interessante nå er at vi får en overlapping i basisbåndet igjen, noe som gir en delvis rekonstruksjon av frekvensinnholdet til $x(t)$."
   ]
  },
  {
   "cell_type": "markdown",
   "metadata": {
    "nbgrader": {
     "grade": false,
     "grade_id": "cell-cae915ed90885917",
     "locked": true,
     "schema_version": 3,
     "solution": false,
     "task": false
    }
   },
   "source": [
    "## d) \n",
    "* Bruk så funksjonen `numpy.mean()` til å regne ut gjennomsnittsverdien til de genererte signalene $x(t)$, $y(t)$ og $v(t)$. Kommenter på sammenhengen med frekvensplotene fra de tidligere deloppgavene."
   ]
  },
  {
   "cell_type": "code",
   "execution_count": 5,
   "metadata": {
    "nbgrader": {
     "grade": true,
     "grade_id": "cell-2f00dfe3c20c6621",
     "locked": false,
     "points": 1,
     "schema_version": 3,
     "solution": true,
     "task": false
    }
   },
   "outputs": [
    {
     "name": "stdout",
     "output_type": "stream",
     "text": [
      "x(t) average: 0.48\n",
      "y(t) average: 0.0\n",
      "v(t) average: 0.24\n"
     ]
    }
   ],
   "source": [
    "### BEGIN SOLUTION\n",
    "print(\"x(t) average:\", round(np.mean(xt), 3))\n",
    "print(\"y(t) average:\", round(np.mean(yt),3))\n",
    "print(\"v(t) average:\", round(np.mean(vt),3))\n",
    "### END SOLUTION"
   ]
  },
  {
   "cell_type": "markdown",
   "metadata": {
    "nbgrader": {
     "grade": true,
     "grade_id": "cell-c0b41bac4ff4d125",
     "locked": false,
     "points": 1,
     "schema_version": 3,
     "solution": true,
     "task": false
    }
   },
   "source": [
    "Konstantleddet i et signal er det samme som en frekvenskomponent der $f=0$. Dette betyr at \"stolpen\" i frekvensspekteret ved $f=0$ vil tilsvare gjennomsnittsverdien til signalet.\n",
    "\n",
    "Dette stemmer veldig bra, da $x(t)$ og $v(t)$ har gjennomsnittsverdier på henholdsvis 0.48 og 0.24, noe som stemmer bra med figurene. $y(t)$ har gjennnomsnittsverdi lik 0, noe som også stemmer da frekvensinnholdet ikke viser noen frekvenskomponent ved $f=0$."
   ]
  }
 ],
 "metadata": {
  "celltoolbar": "Create Assignment",
  "kernelspec": {
   "display_name": "Python 3",
   "language": "python",
   "name": "python3"
  },
  "language_info": {
   "codemirror_mode": {
    "name": "ipython",
    "version": 3
   },
   "file_extension": ".py",
   "mimetype": "text/x-python",
   "name": "python",
   "nbconvert_exporter": "python",
   "pygments_lexer": "ipython3",
   "version": "3.8.3"
  }
 },
 "nbformat": 4,
 "nbformat_minor": 4
}
