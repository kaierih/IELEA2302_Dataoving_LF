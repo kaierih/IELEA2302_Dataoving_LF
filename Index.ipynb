{
 "cells": [
  {
   "cell_type": "markdown",
   "metadata": {},
   "source": [
    "# Tilgjengelige Løsningsforslag:\n",
    "\n",
    "<br>\n",
    "Løsningsforslag publiseres etter at øvinger er rettet og tilbakemelding distribuert.\n",
    "<br>\n",
    "\n",
    "\n",
    "Dataøving | Sist Oppdatert\n",
    "--- | ---\n",
    "[Dataøving 0 - Introduksjon](Dataoving_0%20-%20Introduksjon/0_Dataoving0_Forside.ipynb) | 28. Januar 2021\n",
    "[Dataøving 1 - Sinussignal og Frekvensinnhold](Dataoving_1%20Sinussignal%20og%20Frekvensinnhold/0_Dataoving1_Forside.ipynb) | 10. Februar 2021"
   ]
  }
 ],
 "metadata": {
  "kernelspec": {
   "display_name": "Python 3",
   "language": "python",
   "name": "python3"
  },
  "language_info": {
   "codemirror_mode": {
    "name": "ipython",
    "version": 3
   },
   "file_extension": ".py",
   "mimetype": "text/x-python",
   "name": "python",
   "nbconvert_exporter": "python",
   "pygments_lexer": "ipython3",
   "version": "3.8.5"
  }
 },
 "nbformat": 4,
 "nbformat_minor": 4
}
