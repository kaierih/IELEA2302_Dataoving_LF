{
 "cells": [
  {
   "cell_type": "markdown",
   "metadata": {
    "nbgrader": {
     "grade": false,
     "grade_id": "cell-ec00fdf7702d5ef3",
     "locked": true,
     "schema_version": 3,
     "solution": false,
     "task": false
    }
   },
   "source": [
    "<nav class=\"navbar navbar-default\">\n",
    "  <div class=\"container-fluid\">\n",
    "    <div class=\"navbar-header\">\n",
    "      <a class=\"navbar-brand\" href=\"0_Dataoving3.ipynb\">Dataøving 3</a>\n",
    "    </div>\n",
    "    <ul class=\"nav navbar-nav\">\n",
    "        <li><a href=\"Oppgave1.ipynb\">Oppgave 1 - Introduksjon til spektral lekkasje</a></li>\n",
    "        <li><a href=\"Oppgave2.ipynb\">Oppgave 2 - Zero Padding og DTFT</a></li>\n",
    "        <li class=\"active\"><a href=\"Oppgave3.ipynb\">Oppgave 3 - Vindusfunksjoner</a></li>\n",
    "        <li><a href=\"Oppgave4.ipynb\">Oppgave 4 - Spektrogram: <i>Tilstandsovervåking av maskineri del 2</i></a></li>\n",
    "    </ul>\n",
    "  </div>\n",
    "</nav>\n",
    "\n",
    "# Vindusfunksjoner\n",
    "\n",
    "**Tema:**\n",
    "* Hvordan observasjon av et signalutklipp påvirker analysen av signalet.\n",
    "* Egenskaper til rektangulære vindu\n",
    "* Egenskaper til Hammingvindu m.m.\n",
    "\n",
    "**Læringsmål:**\n",
    "* Hvordan motvirke spektral lekkasje med vindusfunksjoner.\n",
    "\n",
    "**Bibliotek og notebook-konfigurasjon:**"
   ]
  },
  {
   "cell_type": "code",
   "execution_count": 1,
   "metadata": {},
   "outputs": [],
   "source": [
    "from numpy import sin, cos, pi, exp, empty, mean, absolute, angle # Sentrale matematiske funksjoner\n",
    "from numpy.fft import fft, ifft             # DFT og IDFT\n",
    "import numpy as np                          # Importer funksjonalitet fra numpy biblioteket med prefiks \"np\"\n",
    "import matplotlib.pyplot as plt             # Importer pyplot modulen i matplotlib med prefiks \"plt\"\n",
    "import scipy.signal.windows as win          # Importerer funksjonalitet for å generere en rekke vindusfunksjoner\n",
    "from scipy.io import loadmat                # Lesing av data fra '.mat' fil\n",
    "\n",
    "%matplotlib inline"
   ]
  },
  {
   "cell_type": "markdown",
   "metadata": {
    "nbgrader": {
     "grade": false,
     "grade_id": "cell-e56fb76c63fceb59",
     "locked": true,
     "schema_version": 3,
     "solution": false,
     "task": false
    }
   },
   "source": [
    "### Introduksjon:\n",
    "\n",
    "I oppgave 1 så vi på årsaken til at spektral lekkasje oppstår. I denne oppgaven skal vi se nærmere på hvordan spektral lekkasje kan forklares matematisk, og hvordan det kan motvirkes.\n",
    "\n",
    "#### \"Vanlig\" DFT og rektangulære vindu\n",
    "\n",
    "Basisen for å utregne Diskrét Fouriertransformasjon av et digitalt signal $x[n]$ er alltid å velge et utdrag av signalet med endelig lengde $N$ sampler. Én måte å beskrive denne operasjonen på er å si at signalet $x[n]$ mikses med en **rektangulær vindusfunksjon** $w_r[n]$ for å produsere signalutklippet $x_w[n]$.\n",
    "\n",
    "$$ w_r[n] = \n",
    "\\begin{cases}\n",
    "1,\\ \\ 0\\leq n < N \\\\\n",
    "0,\\ \\ \\text{ellers}\n",
    "\\end{cases}\n",
    "$$\n",
    "\n",
    "$$ x_w[n] = x[n]\\cdot w_r[n]$$\n",
    "\n",
    "Et eksempel på dette er illustrert i figuren nedenfor for sinussignalet $x[n] = \\cos\\left(\\frac{\\pi}{20}\\cdot n \\right)$.\n",
    "\n",
    "![](Figurer/Oppg3fig1.png)\n",
    "\n",
    "I eksempelet ovenfor multipliseres altså et digitalt signal $w_r[n]$ med en sinussekvens $x[n]$. Dette fører til amplitudemodulasjon, og *vindusfunksjonen* $w_r[n]$ blir frekvensforskjøvet. Dersom vi kjenner frekvensinnholdet til vindusfunksjonen $w_r[n]$, kan vi da enkelt regne ut frekvensinnholdet til signalutdraget $x_w[n]$. \n",
    "\n",
    "#### Rektangulære vindu i frekvensdomenet\n",
    "\n",
    "For å få full oversikt over frekvenskomposisjonen til et rektangulært vindu, tar vi Diskret-Tids Fourier Transformasjon (DTFT) av en rektangulær vindusfunksjon $w_r[n]$ med lengde $N$ sampler:\n",
    "\n",
    "$$\n",
    "\\begin{align}\n",
    "W_r(\\hat{\\omega}) &= DTFT(w_r[n])\\\\\n",
    "&= \\sum_{n=-\\infty}^{\\infty} e^{-j\\hat{\\omega}n}\\cdot w_r[n]\\\\\n",
    "&= \\sum_{n=0}^{N-1} e^{-j\\hat{\\omega}n}\\cdot 1 \\\\\n",
    "\\end{align}\n",
    "$$\n",
    "\n",
    "Dette kan forenkles videre ved å benytte formelen for geometrisk rekkeutvikling og Eulers formel. Resultatet er kjent som Dirichlet-formelen:\n",
    "\n",
    "$$\n",
    "W_r(\\hat{\\omega})= e^{-j\\hat{\\omega}\\frac{N-1}{2}}\\cdot \\frac{\\sin(N \\cdot \\hat{\\omega}\\ /\\ 2)}{\\sin(\\hat{\\omega}\\ /\\ 2)}\n",
    "$$\n",
    "\n",
    "Det tosidige frekvensspekteret $\\left|W_r(\\hat{\\omega})\\right|$ til en rektangulær vindusfunksjon med lengde $N=16$, ser du i figuren nedenfor. Det er synlig at frekvensspekteret består av en \"hovedlobe\" og flere \"sidelober\", og differansen i nivå mellom hovedlobe og sidelobe forteller noe om hvor mye spektral lekkasje som oppstår.\n",
    "\n",
    "\n",
    "<img src=\"Figurer/Oppg3fig2.png\" style=\"width: 60%\" />\n",
    "\n",
    "Frekvensspekteret til et endelig langt utklipp av en sinusbølge med lengde $N$ sampler vil dermed være sammensatt av to frekvensforskjøvne kopier av frekvensspekteret i figuren ovenfor. Dette er illustrert med en animasjon.\n",
    "\n",
    "![](Figurer/windowing_compressed.gif)\n",
    "\n",
    "En effektiv metode for å motvirke spektral lekkasje er ved å vekte signalutklippet med en annen vindusfunksjon som ikke har så \"skarpe kanter\" som et rektangulært vindu. Ideelt sett skulle frekvensinnholdet til en slik vindusfunksjon vært en deltapuls i $\\hat{\\omega} = 0$, noe som ville tilsi at den ikke har noe variasjon over tid. Da dette er umulig å få til så lenge vindusfunksjonen ikke kan ha uendelig lengde, må man finne andre metoder å tilnærme seg ideelt frekvensinnhold. Én av de mest populære vindusfunksjonene er kjent som *hammingvindu*.\n",
    "\n",
    "### Hammingvindu\n",
    "\n",
    "Et hammingvindu er en vindusfunksjon som nedskalerer verdien til samplene i starten og slutten av utklippet, og dermed reduserer \"sprang\" i begynnelsen og slutten av vinduet. Uttrykket for et $N$-punkts hammingvindu $w_h[n]$ er gitt nedenfor. \n",
    "\n",
    "$$w_h[n] = 0.54 - 0.46\\cdot\\cos \\left(2\\pi  \\frac{n}{N} \\right)$$\n",
    "\n",
    "Nedenfor ser du hvordan et hammingvindu vil brukes til å vekte et sinussignal i forkant av fouriertransformasjonen. Her vil det være signalet $x_w[n]$ som brukes som input til en DFT.\n",
    "\n",
    "\n",
    "![](Figurer/Hamming_Windowing.png)\n",
    "\n",
    "\n",
    "Frekvensinnholdet til denne vindusfunksjonen er ganske forskjellig fra rektangulære vindu, og har en nivåforskjell mellom hovedlobe og sidelobe på ? dB. Kodecellen nedenfor bruker en innebygd funksjon i modulen `scipy.signal` til å generere et hammingvindu med lengde $N=16$, og plotter frekvensinnholdet i ***logaritmisk skala***. Du kan lese mer om de ulike vindusfunksjonene tilgjengelig i `scipy.signal` [her](https://docs.scipy.org/doc/scipy/reference/signal.windows.html?highlight=windows#module-scipy.signal.windows).\n"
   ]
  },
  {
   "cell_type": "code",
   "execution_count": 2,
   "metadata": {},
   "outputs": [
    {
     "data": {
      "image/png": "[encoded data removed]",
      "text/plain": [
       "<Figure size 432x288 with 1 Axes>"
      ]
     },
     "metadata": {
      "needs_background": "light"
     },
     "output_type": "display_data"
    }
   ],
   "source": [
    "# Parametre\n",
    "N = 16           # Lengde på signalvindu\n",
    "DTFT_res = 500   # Oppløsning på \"DTFT\"-kurven\n",
    "\n",
    "# Utregning av frekvensinnhold \"W_f\" og frekvens-akse \"f\"\n",
    "w_n = win.hamming(N)\n",
    "W_f = np.fft.fft(w_n, n=DTFT_res)\n",
    "#W_f = W_f\n",
    "W_f = np.fft.fftshift(W_f) # Sentrerer DFT rundt 0.\n",
    "f = np.linspace(-1, 1, DTFT_res, endpoint=False)\n",
    "\n",
    "# Plotting av figur\n",
    "plt.close(1)\n",
    "plt.figure(1)\n",
    "plt.plot(f, 20*np.log10(abs(W_f)))\n",
    "plt.xlabel(r'Digital frekvens $\\hat{\\omega}\\ (\\times \\pi\\ $rad/sample$)$')\n",
    "plt.ylabel(r'$20\\cdot\\log_{10}\\left(W\\left(e^{j\\hat{\\omega}}\\right)\\right)$')\n",
    "plt.title(r'Vindusfunksjon Amplitudespekter')\n",
    "plt.xlim([-1, 1])\n",
    "plt.ylim(ymin = round(np.log10(np.real(W_f[int(DTFT_res/2)]))-4)*20)\n",
    "plt.grid(True)"
   ]
  },
  {
   "cell_type": "markdown",
   "metadata": {
    "nbgrader": {
     "grade": false,
     "grade_id": "cell-46443d188c7de751",
     "locked": true,
     "schema_version": 3,
     "solution": false,
     "task": false
    }
   },
   "source": [
    "## Oppgave:\n",
    "Filen `Oppgave2.mat` inneholder et signal merket `'x[n]'`. Kodecellen nedenfor laster inn de aktuelle dataene dataene fra `.mat`-filen, lagrer de i variabelen `x_n` og lager et stolpediagram av signalet."
   ]
  },
  {
   "cell_type": "code",
   "execution_count": 3,
   "metadata": {
    "nbgrader": {
     "grade": false,
     "grade_id": "cell-c170446f68ae3a83",
     "locked": true,
     "schema_version": 3,
     "solution": false,
     "task": false
    }
   },
   "outputs": [
    {
     "data": {
      "text/plain": [
       "Text(0.5, 1.0, '$x[n]$')"
      ]
     },
     "execution_count": 3,
     "metadata": {},
     "output_type": "execute_result"
    },
    {
     "data": {
      "image/png": "[encoded data removed]",
      "text/plain": [
       "<Figure size 576x288 with 1 Axes>"
      ]
     },
     "metadata": {
      "needs_background": "light"
     },
     "output_type": "display_data"
    }
   ],
   "source": [
    "data = loadmat('Datafiler/Oppgave3.mat', squeeze_me=True)\n",
    "xn = data['x[n]']\n",
    "N = len(xn)\n",
    "n = np.arange(N)\n",
    "plt.close(2);plt.figure(2, figsize=(8,4))\n",
    "plt.stem(n, xn, markerfmt='.', basefmt='grey', use_line_collection=True)\n",
    "plt.xlim([0, N])\n",
    "plt.xlabel(r'Samplenummer $n$')\n",
    "plt.title(r'$x[n]$')"
   ]
  },
  {
   "cell_type": "markdown",
   "metadata": {
    "nbgrader": {
     "grade": false,
     "grade_id": "cell-368b9d40ae648764",
     "locked": true,
     "schema_version": 3,
     "solution": false,
     "task": false
    }
   },
   "source": [
    "### a) \n",
    "\n",
    "Utfør beregninger i kodecellen nedenfor slik at en ny figur viser en representasjon av signalets amplitudespekter $|X[k]|$. Hor mange sinus-komponenter ser det ut som signalet består av hvis du dømmer etter signalets DFT? Stemmer dette bra med det vi ser i tidsplotet?"
   ]
  },
  {
   "cell_type": "code",
   "execution_count": 4,
   "metadata": {
    "nbgrader": {
     "grade": true,
     "grade_id": "cell-329f94503c833755",
     "locked": false,
     "points": 1,
     "schema_version": 3,
     "solution": true,
     "task": false
    }
   },
   "outputs": [
    {
     "data": {
      "text/plain": [
       "Text(0.5, 1.0, '$|X[k]|$')"
      ]
     },
     "execution_count": 4,
     "metadata": {},
     "output_type": "execute_result"
    },
    {
     "data": {
      "image/png": "[encoded data removed]",
      "text/plain": [
       "<Figure size 576x288 with 1 Axes>"
      ]
     },
     "metadata": {
      "needs_background": "light"
     },
     "output_type": "display_data"
    }
   ],
   "source": [
    "### BEGIN SOLUTION\n",
    "Xk = fft(xn)\n",
    "plt.close(3);plt.figure(3, figsize=(8,4))\n",
    "plt.stem(n, np.abs(Xk), markerfmt='.', basefmt='grey', use_line_collection=True)\n",
    "plt.xlim([0, N])\n",
    "plt.xlabel(r'Frekvenskomponent $k$')\n",
    "plt.title(r'$|X[k]|$')\n",
    "### END SOLUTION"
   ]
  },
  {
   "cell_type": "markdown",
   "metadata": {
    "nbgrader": {
     "grade": true,
     "grade_id": "cell-7430e75b1121c680",
     "locked": false,
     "points": 1,
     "schema_version": 3,
     "solution": true,
     "task": false
    }
   },
   "source": [
    "Ved å se på amplitudespekteret $X[k]$, er det ikke noen indikasjon på at signalet består av mer enn 1 sinuskomponent."
   ]
  },
  {
   "cell_type": "markdown",
   "metadata": {
    "nbgrader": {
     "grade": false,
     "grade_id": "cell-76615b73794e1b0a",
     "locked": true,
     "schema_version": 3,
     "solution": false,
     "task": false
    }
   },
   "source": [
    "## b) \n",
    "Velg en vindusfunksjon fra `scipy.signal.window`, og generer et vindu med samme lengde som signalet fra datafilen. Bruk så dette vinduet til å vekte signalet, regn ut en ny DFT av det vektede signalet, og vis et stolpediagram av DFT-sekvensen i en ny figur. Hvor mange separate sinuskomponenter klarer du å identifisere ut ifra signalets DFT når en vindusfunksjon er tatt i bruk?"
   ]
  },
  {
   "cell_type": "code",
   "execution_count": 5,
   "metadata": {
    "nbgrader": {
     "grade": true,
     "grade_id": "cell-9f657f9499c23bcd",
     "locked": false,
     "points": 1,
     "schema_version": 3,
     "solution": true,
     "task": false
    }
   },
   "outputs": [
    {
     "data": {
      "text/plain": [
       "Text(0.5, 1.0, '$|X[k]|$')"
      ]
     },
     "execution_count": 5,
     "metadata": {},
     "output_type": "execute_result"
    },
    {
     "data": {
      "image/png": "[encoded data removed]",
      "text/plain": [
       "<Figure size 576x288 with 1 Axes>"
      ]
     },
     "metadata": {
      "needs_background": "light"
     },
     "output_type": "display_data"
    }
   ],
   "source": [
    "### BEGIN SOLUTION\n",
    "w_n = win.hamming(N)\n",
    "Xk = fft(xn*w_n)\n",
    "plt.close(3);plt.figure(3, figsize=(8,4))\n",
    "plt.stem(n, np.abs(Xk), markerfmt='.', basefmt='grey', use_line_collection=True)\n",
    "plt.xlim([0, N])\n",
    "plt.xlabel(r'Frekvenskomponent $k$')\n",
    "plt.title(r'$|X[k]|$')\n",
    "### END SOLUTION"
   ]
  },
  {
   "cell_type": "markdown",
   "metadata": {
    "nbgrader": {
     "grade": true,
     "grade_id": "cell-b32e9476cea5803d",
     "locked": false,
     "points": 1,
     "schema_version": 3,
     "solution": true,
     "task": false
    }
   },
   "source": [
    "Når vi bruker et Hammingvindu til å vekte signalet før utregning av FFT, er det vil amplitudespekteret tydelig vise to adskilte toppunkt, som representerer hver sin sinuskomponent."
   ]
  }
 ],
 "metadata": {
  "celltoolbar": "Create Assignment",
  "kernelspec": {
   "display_name": "Python 3",
   "language": "python",
   "name": "python3"
  },
  "language_info": {
   "codemirror_mode": {
    "name": "ipython",
    "version": 3
   },
   "file_extension": ".py",
   "mimetype": "text/x-python",
   "name": "python",
   "nbconvert_exporter": "python",
   "pygments_lexer": "ipython3",
   "version": "3.8.3"
  }
 },
 "nbformat": 4,
 "nbformat_minor": 4
}
