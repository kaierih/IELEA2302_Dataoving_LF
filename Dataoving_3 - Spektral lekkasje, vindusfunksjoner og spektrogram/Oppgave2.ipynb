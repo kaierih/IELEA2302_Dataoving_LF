{
 "cells": [
  {
   "cell_type": "markdown",
   "metadata": {
    "nbgrader": {
     "grade": false,
     "grade_id": "cell-6556411a91bfca4b",
     "locked": true,
     "schema_version": 3,
     "solution": false,
     "task": false
    }
   },
   "source": [
    "<nav class=\"navbar navbar-default\">\n",
    "  <div class=\"container-fluid\">\n",
    "    <div class=\"navbar-header\">\n",
    "      <a class=\"navbar-brand\" href=\"0_Dataoving3.ipynb\">Dataøving 3</a>\n",
    "    </div>\n",
    "    <ul class=\"nav navbar-nav\">\n",
    "        <li><a href=\"Oppgave1.ipynb\">Oppgave 1 - Introduksjon til spektral lekkasje</a></li>\n",
    "        <li class=\"active\"><a href=\"Oppgave2.ipynb\">Oppgave 2 - Zero Padding og DTFT</a></li>\n",
    "        <li><a href=\"Oppgave3.ipynb\">Oppgave 3 - Vindusfunksjoner</a></li>\n",
    "        <li><a href=\"Oppgave4.ipynb\">Oppgave 4 - Spektrogram: <i>Tilstandsovervåking av maskineri del 2</i></a></li>\n",
    "    </ul>\n",
    "  </div>\n",
    "</nav>\n",
    "\n",
    "## Zero Padding\n",
    "\n",
    "#### Tema:\n",
    "* Oppløsningsbåndbredde\n",
    "* Zero Padding\n",
    "* Frekvensdeteksjon\n",
    "\n",
    "#### Læringsmål:\n",
    "* Bruke zero padding til å produsere ønsket detaljnivå ved frekvensanalyse.\n",
    "\n",
    "#### Bibliotek og notebook-konfigurasjon:"
   ]
  },
  {
   "cell_type": "code",
   "execution_count": 1,
   "metadata": {},
   "outputs": [],
   "source": [
    "from numpy import sin, cos, pi, exp, empty, mean, absolute, angle # Sentrale matematiske funksjoner\n",
    "from numpy.fft import fft, ifft             # DFT og IDFT\n",
    "import numpy as np                          # Importer funksjonalitet fra numpy biblioteket med prefiks \"np\"\n",
    "import matplotlib.pyplot as plt             # Importer pyplot modulen i matplotlib med prefiks \"plt\"\n",
    "from scipy.io import loadmat                # Lesing av data fra '.mat' fil\n",
    "\n",
    "%matplotlib ipympl"
   ]
  },
  {
   "cell_type": "markdown",
   "metadata": {
    "nbgrader": {
     "grade": false,
     "grade_id": "cell-7919aafd3d36120e",
     "locked": true,
     "schema_version": 3,
     "solution": false,
     "task": false
    }
   },
   "source": [
    "### Introduksjon:\n",
    "\n",
    "To begrep som dukker opp mye i frekvensanalyse er *vinduslengde* og *oppløsningsbåndbredde*. Disse er nært knyttet til hverandre og kan oppsummeres som følger:\n",
    "\n",
    "#### Vinduslengde:\n",
    "* Antallet sampler som brukes til å utregne Diskret Fouriertransformasjon.\n",
    "* Bokstaven $N$ brukes ofte i denne sammenheng, og kan løst tolkes som \"et heltall\".\n",
    "\n",
    "#### Oppløsningsbåndbredde $\\Delta f\\ / \\ \\Delta \\hat{\\omega}$:\n",
    "* Båndbredden til frekvensområdet i signalet (i $Hz$ eller $rad/sample$), som representeres med ett enkelt element i DFT-sekvensen $X[k]$.\n",
    "$$ \\Delta f = \\frac{f_s}{N}$$\n",
    "$$ \\Delta \\hat{\\omega} = \\frac{2\\pi}{N}$$\n",
    "* Den utregnede verdien $X[k]$ for et gitt heltall $k$ \"dekker\" altså frekvensområdet $k\\cdot \\Delta f \\pm \\frac{\\Delta f}{2}$.\n",
    "\n",
    "Dersom det er ønskelig med et høyt detaljnivå for frekvensanalysen av et signal, krever dette altså å ta i bruk en stor vinduslengde $N$. Problemet med å bruke en stor vinduslengde $N$ er at det innebærer å observere signalet over et lengre tidsintervall, og kan føre til en lite informativ estimasjon av frekvensinnnhold dersom dersom frekvensinnholdet til signalet endrer seg mye i løpet av dette tidsintervallet.\n",
    "\n",
    "Én metode for å øke detaljnivå uten bruke et større antall signalsampler er med ***Zero Padding***. Prinsippet er ganske enkelt å forlenge signalutklippet med et valgfritt antall sampler med verdi lik null, og så utføre DFT av det forlengede signalet. \n",
    "\n",
    "![](Figurer/zero_padding_1.png) \n",
    "\n",
    "Det er viktig å bemerke at dette ikke gir samme resultat som å øke vinduslengden $N$. Større vinduslengde $N$ betyr at man innhenter mer informasjon imens zero padding heller \"fyller ut\" med informasjonen som allerede er tilgjengelig. Resultatet blir flere sampler av frekvensinnholdet, men disse vil sample verdier langs det opprinnelige signalutdragets Diskret-Tids Fourier Transformasjon (DTFT) som er et *kontinuerlig* funksjonsuttrykk. Dette er illustrert i de to figurene nedenfor, hvor det er tydelig at signalets DTFT (den røde kurven) forblir uendret, samtidig som zero padding gir flere sampler *langs* den røde kurven.\n",
    "\n",
    "![](Figurer/zero_padding_2.png) \n",
    "\n",
    "`fft()`-funksjonen til `numpy` har en mulighet for å ta i bruk zero padding ved utregning av en DFT-sekvens. Funksonen har en valgfri parameter `n` som angir lengden til det utvidede signalutklippet etter zero padding. \n",
    "\n",
    "```python\n",
    "# Eksempel:\n",
    "np.fft.fft(xn, n=128)\n",
    "```"
   ]
  },
  {
   "cell_type": "markdown",
   "metadata": {
    "nbgrader": {
     "grade": false,
     "grade_id": "cell-f1f9debf00ada4a1",
     "locked": true,
     "schema_version": 3,
     "solution": false,
     "task": false
    }
   },
   "source": [
    "## Oppgave:\n",
    "\n",
    "Filen `Datafiler/Oppgave2.mat` inneholder 25 sampler av en sinussekvens $x[n]$ merket med nøkkelordet `'x[n]'`, der signalet er samplet med samplingsfrekvensen angitt av verdien merket med nøkkelordet `'fs'`. Kodecellen leser dataene fra `.mat`-filen, og lagrer de i variablene `x_n` og `fs`."
   ]
  },
  {
   "cell_type": "code",
   "execution_count": 2,
   "metadata": {},
   "outputs": [],
   "source": [
    "data = loadmat('Datafiler/Oppgave2.mat', squeeze_me=True)\n",
    "x_n = data['x[n]']\n",
    "fs = data['fs']"
   ]
  },
  {
   "cell_type": "markdown",
   "metadata": {
    "nbgrader": {
     "grade": false,
     "grade_id": "cell-08b968c64ce1b216",
     "locked": true,
     "schema_version": 3,
     "solution": false,
     "task": false
    }
   },
   "source": [
    "### a)\n",
    "Bruk zero padding til å regne ut frekvensinnholdet til $x_2[n]$ for 50 punkter i frekvensplanet. Vis resultatet i en figur, og skalér x-aksen slik at den viser fysisk frekvens (Hz)."
   ]
  },
  {
   "cell_type": "code",
   "execution_count": 3,
   "metadata": {
    "nbgrader": {
     "grade": true,
     "grade_id": "cell-3befe78bd3ed2f25",
     "locked": false,
     "points": 2,
     "schema_version": 3,
     "solution": true,
     "task": false
    }
   },
   "outputs": [
    {
     "data": {
      "application/vnd.jupyter.widget-view+json": {
       "model_id": "ee700112351c4e21baa649461bcc3864",
       "version_major": 2,
       "version_minor": 0
      },
      "text/plain": [
       "Canvas(toolbar=Toolbar(toolitems=[('Home', 'Reset original view', 'home', 'home'), ('Back', 'Back to previous …"
      ]
     },
     "metadata": {},
     "output_type": "display_data"
    },
    {
     "name": "stdout",
     "output_type": "stream",
     "text": [
      "Sinusbølgens frekvens: 3.458\n"
     ]
    }
   ],
   "source": [
    "### BEGIN SOLUTION\n",
    "nfft=fs*1000\n",
    "Xk = fft(x_n, n=nfft)\n",
    "f = np.linspace(0, fs, nfft, endpoint=False)\n",
    "plt.close(1); plt.figure(1)\n",
    "plt.plot(f, np.abs(Xk))\n",
    "\n",
    "f_sine = f[np.argmax(np.abs(Xk))]\n",
    "print(\"Sinusbølgens frekvens:\",f_sine)\n",
    "### END SOLUTION"
   ]
  },
  {
   "cell_type": "markdown",
   "metadata": {
    "nbgrader": {
     "grade": false,
     "grade_id": "cell-fec0669bc00c06c8",
     "locked": true,
     "schema_version": 3,
     "solution": false,
     "task": false
    }
   },
   "source": [
    "### b)\n",
    "Du skal nå finne hva frekvensen til sinssekvensen $x[n]$ er (i Hz). Dette kan gjøres ved å øke oppløsningen, og identifisere hvor toppunktet til Diskret-Tids Fouriertransformen er. Svaret skal oppgis med én desimal presisjon, noe som tilsvarer en oppløsningsbåndbredde $\\Delta f = 0.1Hz$. Jobb videre med kodecellen fra oppgave **a** for å løse oppgaven.\n",
    "\n",
    "*P.S. For store datamengder er det mer hensiktsmessig å lage en kontinuerlig graf med `plot()` istedenfor å lage et spolpediagram med `stem()`.*"
   ]
  },
  {
   "cell_type": "markdown",
   "metadata": {
    "nbgrader": {
     "grade": true,
     "grade_id": "cell-991d2b085851d336",
     "locked": false,
     "points": 2,
     "schema_version": 3,
     "solution": true,
     "task": false
    }
   },
   "source": [
    "For å få en oppløsningsbåndbredde $\\Delta f = 0.1Hz$, må vi ha en et tilstrekkelig stort antall datapunkt i DFT-sekvensen. \n",
    "\\begin{align}\n",
    "\\Delta f &= 0.1 = \\frac{f_s}{\\text{nfft}} \\\\\n",
    "\\text{nfft} &= \\frac{f_s}{0.1} = 10\\cdot f_s \n",
    "\\end{align}\n",
    "Vi kan da bruke `np.argmax()` til å finne toppunktet. Kurven har første toppunkt i $f=3.5Hz$, som dermed vil være frekvensen til sinusbølgen."
   ]
  }
 ],
 "metadata": {
  "celltoolbar": "Create Assignment",
  "kernelspec": {
   "display_name": "Python 3",
   "language": "python",
   "name": "python3"
  },
  "language_info": {
   "codemirror_mode": {
    "name": "ipython",
    "version": 3
   },
   "file_extension": ".py",
   "mimetype": "text/x-python",
   "name": "python",
   "nbconvert_exporter": "python",
   "pygments_lexer": "ipython3",
   "version": "3.8.3"
  }
 },
 "nbformat": 4,
 "nbformat_minor": 4
}
