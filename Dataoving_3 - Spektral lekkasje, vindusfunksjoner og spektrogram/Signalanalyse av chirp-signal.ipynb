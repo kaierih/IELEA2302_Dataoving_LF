{
 "cells": [
  {
   "cell_type": "markdown",
   "metadata": {},
   "source": [
    "# Signalanalyse av chirp-signal\n",
    "\n",
    "Koden nedenfor vil generere et chirp-signal, som består av én tone med gradvis økende frekvens. Disse er beskrevet i detalj i delkapittel 3-7 i boka.\n",
    "\n",
    "SignalAnalyzer verktøyet kan brukes til å utføre frekvensanalyse av et utklipp av chirp-signalet. Her vil du kunne se at lengre varighet på signalutklippet vil produsere et bredere bånd i frekvensanalye-figuren som viser alle frekvensene chirp-tonen har vert gjennom i løpet av det tidsvinduet"
   ]
  },
  {
   "cell_type": "code",
   "execution_count": 3,
   "metadata": {
    "scrolled": false
   },
   "outputs": [
    {
     "data": {
      "application/vnd.jupyter.widget-view+json": {
       "model_id": "5fcd60a701924d9a97c6bf9f4ab1df79",
       "version_major": 2,
       "version_minor": 0
      },
      "text/plain": [
       "Canvas(toolbar=Toolbar(toolitems=[('Home', 'Reset original view', 'home', 'home'), ('Back', 'Back to previous …"
      ]
     },
     "metadata": {},
     "output_type": "display_data"
    },
    {
     "data": {
      "application/vnd.jupyter.widget-view+json": {
       "model_id": "e221b65e71fb49ee9c80ccfbe72f8021",
       "version_major": 2,
       "version_minor": 0
      },
      "text/plain": [
       "VBox(children=(FloatSlider(value=0.0, continuous_update=False, description='Signal segment start (seconds):', …"
      ]
     },
     "metadata": {},
     "output_type": "display_data"
    },
    {
     "data": {
      "application/vnd.jupyter.widget-view+json": {
       "model_id": "83068f89080e4e64b49a801b8e1c8f47",
       "version_major": 2,
       "version_minor": 0
      },
      "text/plain": [
       "Output()"
      ]
     },
     "metadata": {},
     "output_type": "display_data"
    },
    {
     "data": {
      "text/plain": [
       "<Kildekode_data3.signalAnalyzer at 0x7f5abb579070>"
      ]
     },
     "execution_count": 3,
     "metadata": {},
     "output_type": "execute_result"
    }
   ],
   "source": [
    "import scipy.signal as sig\n",
    "import numpy as np\n",
    "import matplotlib.pyplot as plt\n",
    "from Kildekode_data3 import *\n",
    "\n",
    "%matplotlib ipympl\n",
    "\n",
    "fs = 4000 # Samplingsfrekvens\n",
    "T = 10    # Signal varighet\n",
    "t = np.linspace(0, T, fs*T, endpoint=False)\n",
    "\n",
    "# Lag et eksempelsignal med eksponentielt økende frekvens\n",
    "x_t = sig.chirp(t, 100, T, 2000, method='logarithmic')\n",
    "\n",
    "# Start SignalAnalyzer\n",
    "signalAnalyzer(x_t, fs, figsize=(8, 6))"
   ]
  }
 ],
 "metadata": {
  "kernelspec": {
   "display_name": "Python 3",
   "language": "python",
   "name": "python3"
  },
  "language_info": {
   "codemirror_mode": {
    "name": "ipython",
    "version": 3
   },
   "file_extension": ".py",
   "mimetype": "text/x-python",
   "name": "python",
   "nbconvert_exporter": "python",
   "pygments_lexer": "ipython3",
   "version": "3.8.3"
  }
 },
 "nbformat": 4,
 "nbformat_minor": 4
}
