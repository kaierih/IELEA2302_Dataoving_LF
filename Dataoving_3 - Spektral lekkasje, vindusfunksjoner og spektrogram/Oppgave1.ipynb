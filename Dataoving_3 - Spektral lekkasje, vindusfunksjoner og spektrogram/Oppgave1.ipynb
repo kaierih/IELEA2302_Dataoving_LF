{
 "cells": [
  {
   "cell_type": "markdown",
   "metadata": {
    "nbgrader": {
     "grade": false,
     "grade_id": "cell-650692098df92da8",
     "locked": true,
     "schema_version": 3,
     "solution": false,
     "task": false
    }
   },
   "source": [
    "<nav class=\"navbar navbar-default\">\n",
    "  <div class=\"container-fluid\">\n",
    "    <div class=\"navbar-header\">\n",
    "      <a class=\"navbar-brand\" href=\"0_Dataoving3.ipynb\">Dataøving 3</a>\n",
    "    </div>\n",
    "    <ul class=\"nav navbar-nav\">\n",
    "        <li class=\"active\"><a href=\"Oppgave1.ipynb\">Oppgave 1 - Introduksjon til spektral lekkasje</a></li>\n",
    "        <li><a href=\"Oppgave2.ipynb\">Oppgave 2 - Zero Padding og DTFT</a></li>\n",
    "        <li><a href=\"Oppgave3.ipynb\">Oppgave 3 - Vindusfunksjoner</a></li>\n",
    "        <li><a href=\"Oppgave4.ipynb\">Oppgave 4 - Spektrogram: <i>Tilstandsovervåking av maskineri del 2</i></a></li>\n",
    "    </ul>\n",
    "  </div>\n",
    "</nav>\n",
    "\n",
    "# Hva er spektral lekkasje?\n",
    "\n",
    "**Tema:**\n",
    "- Vinduslengde og signalperioder\n",
    "- Spektral lekkasje\n",
    "\n",
    "**Læringsmål:**\n",
    "- Forstå årsaken til spektral lekkasje\n",
    "- Forsåt betydningen av vinduslengde for utregnet Diskrét Fouriertransformasjon\n",
    "\n",
    "**Bibliotek og notebook-konfigurasjon:**"
   ]
  },
  {
   "cell_type": "code",
   "execution_count": 1,
   "metadata": {},
   "outputs": [],
   "source": [
    "from numpy import sin, cos, pi, exp, empty, mean, absolute, angle # Sentrale matematiske funksjoner\n",
    "from numpy.fft import fft, ifft             # DFT og IDFT\n",
    "import numpy as np                          # Importer funksjonalitet fra numpy biblioteket med prefiks \"np\"\n",
    "import scipy.signal as sig                  # Importerer signalbehandlingsmodulen til scipy\n",
    "import matplotlib.pyplot as plt             # Importer pyplot modulen i matplotlib med prefiks \"plt\"\n",
    "import csv                                  # Håndtering av .csv fil\n",
    "\n",
    "%matplotlib ipympl"
   ]
  },
  {
   "cell_type": "markdown",
   "metadata": {
    "nbgrader": {
     "grade": false,
     "grade_id": "cell-fed548d96ced4ec2",
     "locked": true,
     "schema_version": 3,
     "solution": false,
     "task": false
    }
   },
   "source": [
    "## Introduksjon\n",
    "\n",
    "I dataøving 3 arbeidet vi med Diskrét Fouriertransformasjon fra et teoretisk ståsted, og utforsket hvordan hvert element i en DFT (sammen med en komplekskonjugert \"tvilling\") representerer nøyaktig én sinussekvens i tidsdomenet. Dessverre gjelder dette *kun* for sinussekvenser med den egenskapen at de er periodisk over samme antall sampler $N$ som går inn i fouriertransformasjonen, noe vi kaller **vinduslengden**. \n",
    "\n",
    "I praktiske sammenhenger der frekvensanalyse av et ukjent signal skal utføres kan man nesten garantere at signalet *ikke* er periodisk over vinduslengden, og det oppstår noe som kalles **spektral lekkasje**. I dette tilfellet vil fouriertransformasjon gi sinusbølge-komponentene til et signal som *er* periodisk med vinduslengden. Effekten av dette gjør seg selv svært synlig dersom man prøver å rekonstruere et tidskontinuerlig signal fra en DFT.\n",
    "\n",
    "### Eksempel: rekonstruert sinusbølge.\n",
    "\n",
    "Signalet $x(t) = \\cos \\left( 2\\pi \\cdot 1.6 \\cdot t \\right)$ samples med en samplingsfrekvens $f_s = 16$, noe som gir signalet $x[n] = \\cos \\left( \\frac{\\pi}{5} \\cdot n \\right)$. Et utsnitt på $N=16$ sampler, tilsvarende $\\frac{N}{f_s} = \\frac{16}{16} = 1$ sekund, benyttes til å fouriertransformere signalet. Det man ender opp med er komposisjonen til et nytt signal $y(t)$ som **er** periodisk over vinduslengden (altså ett sekund), og kun har riktig verdi akkurat i de 16 samplingstidspunktene som er brukt.\n",
    "\n",
    "![](Figurer/SpektralLekkasje.png)\n",
    "\n",
    "Å beregne en 16-punkts DFT kan med andre ord betraktes som å \"finne en måte å gjengi akkurat disse 16 utvalgte samplene, kun med bruk av sinussekvenser som er periodiske over 16 sampler\". Det følger dermed at det resulterende sammensatte signalet også vil være periodisk over 16 sampler. Mer generelt betyr det at en $N$-punkts DFT dekomponerer et signalutklipp i en rekke sinussekvenser med normalisert vinkelfrekvens $\\hat{\\omega}_k = 2\\pi \\frac{k}{N}, \\ \\ \\ k \\in \\{0, 1, 2, \\ldots N/2\\}$.  \n",
    "\n",
    "Resultatet av dette er en representasjon av sinussekvensen $x[n]$ i frekvensplanet som er fordelt utover et større antall frekvenskomponenter, da ingen av komponentene man har \"lov\" til å bruke har samme frekvens som sinussekvensen $x[n]$. Figuren nedenfor viser frekvensinnholdet slik det framstår ut ifra $|X[k]|$ utregnet med 16-punkts DFT, representert sammen med det reelle frekvensinnholdet til $x(t)$. \n",
    "\n",
    "![](Figurer/SpektralLekkasje2.png)\n",
    "\n",
    "Det figuren illustrerer er at frekvensinnholdet til sinusbølgen ikke kan representeres med noen av de spesifikke frekvensene DFT-sekvensen er sammensatt av. Dermed oppstår en fordeling av signalet utover de 16 tilgjengelige frekvenskomponentene, og det er dette som kalles spektral lekkasje.\n",
    "\n",
    "Kodecellen nedenfor viser et eksempel på programkode som genererer $N=16$ sampler av signalet $x[n]$, regner ut DFT-sekvensen $X[k]$ basert på de 16 samplene, og viser resultatet i et stolpediagram."
   ]
  },
  {
   "cell_type": "code",
   "execution_count": 2,
   "metadata": {},
   "outputs": [
    {
     "data": {
      "application/vnd.jupyter.widget-view+json": {
       "model_id": "d8692641fd484c6eb982cd82a65c0068",
       "version_major": 2,
       "version_minor": 0
      },
      "text/plain": [
       "Canvas(toolbar=Toolbar(toolitems=[('Home', 'Reset original view', 'home', 'home'), ('Back', 'Back to previous …"
      ]
     },
     "metadata": {},
     "output_type": "display_data"
    }
   ],
   "source": [
    "# Lukk evt. eksisterende figur 1 og lag en ny figur 1.\n",
    "# Dette for å unngå akkumulering av figurer i bakgrunnen som tar opp minne.\n",
    "plt.close(1) \n",
    "plt.figure(1)\n",
    "\n",
    "# Parametre\n",
    "N = 16      # Antall sampler av sinusbølge i DFT\n",
    "f_0 = 1.6   # Frekvens sinusbølge i Hz\n",
    "f_s = 16    # Samplingsfrekvens\n",
    "\n",
    "# Utregning av sinussekvens og kalkulasjon av DFT\n",
    "n = np.arange(N)\n",
    "x_n = cos(2*pi*f_0/f_s*n)\n",
    "X_k = fft(x_n)\n",
    "\n",
    "# Funksjonen \"stem()\" brukes til å lage et stolpediagram av DFT-sekvensens absoluttverdi |X[k]|\n",
    "# Påfølgende linjer utfører tilpasninger av figuren\n",
    "plt.stem(n, # Samplenummer (heltall fom. 0 tom. 15)\n",
    "         np.absolute(X_k),   # DFT-sekvensens absoluttverdi |X[k]|\n",
    "         linefmt='-',        # Linjestil stolper\n",
    "         markerfmt='o',      # Punktstil for stem-markere. Default er 'o' (stor prikk)\n",
    "         basefmt='grey',     # Farge på y=0 aksen\n",
    "         use_line_collection=True # Hvordan \"stem()\" skal håndtere dataene. \"True\" er sterkt anbefalt.\n",
    "         )\n",
    "plt.xlabel(\"DFT-indeks 'k'\") # Merknad på x-aksen\n",
    "plt.ylabel(r\"$|X[k]|$\")      # Merknad på y-aksen\n",
    "plt.xlim([0, N])             # Grenseverdier i x-retning\n",
    "plt.ylim(ymin=0)             # y-aksen starter i y=0\n",
    "plt.grid(True)               # Aktiver rutenett "
   ]
  },
  {
   "cell_type": "markdown",
   "metadata": {
    "nbgrader": {
     "grade": false,
     "grade_id": "cell-5ed9fb94f1ec655e",
     "locked": true,
     "schema_version": 3,
     "solution": false,
     "task": false
    }
   },
   "source": [
    "## Oppgave:\n",
    "\n",
    "Denne oppgaven tar utgangspunkt i et signal $x(t)$ bestående av to sinuskomponenter:\n",
    "\n",
    "$$x(t) = 2\\cos\\left(19\\pi\\cdot t + \\frac{\\pi}{3}\\right) + \\cos\\left(23\\pi \\cdot t \\right)$$\n",
    "\n",
    "Signalet samples med samplingsfrekvens $f_s = 80 Hz$ for å prodsere signalet $x[n]$. \n",
    "\n",
    "## a)\n",
    "Skriv kode som genererer $N=32$ sampler av signalet $x[n]$. "
   ]
  },
  {
   "cell_type": "code",
   "execution_count": 3,
   "metadata": {
    "nbgrader": {
     "grade": true,
     "grade_id": "cell-9d850da758621a48",
     "locked": false,
     "points": 1,
     "schema_version": 3,
     "solution": true,
     "task": false
    }
   },
   "outputs": [
    {
     "data": {
      "application/vnd.jupyter.widget-view+json": {
       "model_id": "042c3598051549158ff35381efff616c",
       "version_major": 2,
       "version_minor": 0
      },
      "text/plain": [
       "Canvas(toolbar=Toolbar(toolitems=[('Home', 'Reset original view', 'home', 'home'), ('Back', 'Back to previous …"
      ]
     },
     "metadata": {},
     "output_type": "display_data"
    },
    {
     "data": {
      "text/plain": [
       "Text(0.5, 0, 'Frekvens (Hz)')"
      ]
     },
     "execution_count": 3,
     "metadata": {},
     "output_type": "execute_result"
    }
   ],
   "source": [
    "### BEGIN SOLUTION\n",
    "fs = 80\n",
    "N = 160\n",
    "n = np.arange(N)\n",
    "xn = 2*cos(19*pi*n/fs + pi/3) + cos(23*pi*n/fs)\n",
    "f = fs/N*n\n",
    "\n",
    "Xk = fft(xn)\n",
    "plt.close(2); plt.figure(2)\n",
    "plt.stem(f, np.abs(Xk), markerfmt='.', basefmt='grey', use_line_collection=True)\n",
    "plt.xlabel('Frekvens (Hz)')\n",
    "### END SOLUTION"
   ]
  },
  {
   "cell_type": "markdown",
   "metadata": {
    "nbgrader": {
     "grade": false,
     "grade_id": "cell-8993a45a5f52c8fe",
     "locked": true,
     "points": 1,
     "schema_version": 3,
     "solution": false,
     "task": true
    }
   },
   "source": [
    "## b)\n",
    "Utvid koden i cellen over til å regne ut DFT-sekvensen $X[k]$, og generer et stolpediagram som viser amplitudespekteret $|X[k]|$ til signalet $x[n]$. "
   ]
  },
  {
   "cell_type": "markdown",
   "metadata": {
    "nbgrader": {
     "grade": false,
     "grade_id": "cell-6c8967686ab779b7",
     "locked": true,
     "points": 1,
     "schema_version": 3,
     "solution": false,
     "task": true
    }
   },
   "source": [
    "## c)\n",
    "\n",
    "Gjør ytterligere endringer på koden slik at figuren viser tosidig frekvensspekter, og x-aksen nå viser frekvens (i Hz), og ikke indeksverdien 'k'."
   ]
  },
  {
   "cell_type": "markdown",
   "metadata": {
    "nbgrader": {
     "grade": false,
     "grade_id": "cell-5bd87c8dd66254c3",
     "locked": true,
     "schema_version": 3,
     "solution": false,
     "task": false
    }
   },
   "source": [
    "## d) \n",
    "Eksperimentér videre med vinduslengder $N$. Finn en vinduslengde vinduslengde $N$ der de to sinuskomponentene vises som to adskilte topper i amplitudespekteret."
   ]
  },
  {
   "cell_type": "markdown",
   "metadata": {
    "nbgrader": {
     "grade": true,
     "grade_id": "cell-f8e88bd4d27ee0ff",
     "locked": false,
     "points": 1,
     "schema_version": 3,
     "solution": true,
     "task": false
    }
   },
   "source": [
    "Ved å prøve seg frem med ulike verdier av $N$ ser det ut til at vinduslengde $N=54$ er blant de første tilfellene der vi tydelig ser to ulike sinuskomponenter."
   ]
  },
  {
   "cell_type": "markdown",
   "metadata": {
    "nbgrader": {
     "grade": false,
     "grade_id": "cell-644cee637d04bb7e",
     "locked": true,
     "schema_version": 3,
     "solution": false,
     "task": false
    }
   },
   "source": [
    "### e)\n",
    "\n",
    "Klarer du å finne en vinduslengde $N$ slik at spektral lekkasje ikke forekommer? I såfall, hva er den?"
   ]
  },
  {
   "cell_type": "markdown",
   "metadata": {
    "nbgrader": {
     "grade": true,
     "grade_id": "cell-a1862873556a3c00",
     "locked": false,
     "points": 1,
     "schema_version": 3,
     "solution": true,
     "task": false
    }
   },
   "source": [
    "De to sinuskomponentene har følgende digitale frekvenser:\n",
    "\\begin{align}\n",
    "\\hat{\\omega}_1 &= \\frac{19\\pi}{f_s} = 2\\pi \\cdot \\frac{9.5}{80} = 2\\pi \\cdot \\frac{19}{160}\\\\\n",
    "\\hat{\\omega}_2 &= \\frac{23\\pi}{f_s} = 2\\pi \\cdot \\frac{11.5}{80}= 2\\pi \\cdot \\frac{23}{160}\n",
    "\\end{align}\n",
    "Dette betyr at dersom vi observerer signalet over $t=2s$ eller $N=2\\cdot f_s = 160$ sampler, vil begge sinuskomponentene fullføre et heltall antall perioder i løpet av vinduslengden $N=160$."
   ]
  }
 ],
 "metadata": {
  "celltoolbar": "Create Assignment",
  "kernelspec": {
   "display_name": "Python 3",
   "language": "python",
   "name": "python3"
  },
  "language_info": {
   "codemirror_mode": {
    "name": "ipython",
    "version": 3
   },
   "file_extension": ".py",
   "mimetype": "text/x-python",
   "name": "python",
   "nbconvert_exporter": "python",
   "pygments_lexer": "ipython3",
   "version": "3.8.3"
  }
 },
 "nbformat": 4,
 "nbformat_minor": 4
}
