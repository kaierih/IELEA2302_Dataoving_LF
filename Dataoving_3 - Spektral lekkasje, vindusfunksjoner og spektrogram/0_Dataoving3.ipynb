{
 "cells": [
  {
   "cell_type": "markdown",
   "metadata": {},
   "source": [
    "# Dataøving 3 - Spektral lekkasje, vindusfunksjoner og spektrogram\n",
    "\n",
    "Denne øvingen utforsker begrensningene til diskrét fouriertransformasjon som verktøy i frekvensanalyse, og ulike metoder som brukes i praktisk signalanalyse for å omgås disse begrensnsingene.\n",
    "\n",
    "### Relevant lesestoff: \n",
    "- Delkapittel 8.1 - 8.6 i boka DSP First\n",
    "- Delkapittel 7.1 - 7.2 i boka DSP First\n",
    "- Forelesningspresentasjoner fra uke _6, 7 & 8_\n",
    "\n",
    "### Introduksjon:\n",
    "Tema for dataøvingen:\n",
    "* Spektral Lekkasje \n",
    "    - Hva skjer når vi utfører en DFT på signal som *ikke* er periodisk med lengden på DFT-segmentet?\n",
    "* Vindusfunksjoner\n",
    "    - Hva gjør vindusfunksjoner med signalet?\n",
    "    - Kobling til AM\n",
    "* Hvordan spektral lekkasje kan \"kamuflere\" frekvenskomponenter.\n",
    "* Signalanalyse i både frekvens og tid\n",
    "    - Uskarphetsprinsipp\n",
    "    - Spektrogram\n",
    "    \n",
    "\n",
    "\n",
    "### Oppgaver:\n",
    "Oppgave | Tema \n",
    "--- | --- \n",
    "[Oppgave 1](Oppgave1.ipynb) | Introduksjon til Spektral Lekkasje\n",
    "[Oppgave 2](Oppgave2.ipynb) | Zero Padding og DTFT\n",
    "[Oppgave 3](Oppgave3.ipynb) | Vindusfunksjoner\n",
    "[Oppgave 4](Oppgave4.ipynb) | Spektrogram: *Frekvensanalyse av kulelager del 2*"
   ]
  }
 ],
 "metadata": {
  "kernelspec": {
   "display_name": "Python 3",
   "language": "python",
   "name": "python3"
  },
  "language_info": {
   "codemirror_mode": {
    "name": "ipython",
    "version": 3
   },
   "file_extension": ".py",
   "mimetype": "text/x-python",
   "name": "python",
   "nbconvert_exporter": "python",
   "pygments_lexer": "ipython3",
   "version": "3.8.3"
  }
 },
 "nbformat": 4,
 "nbformat_minor": 4
}
