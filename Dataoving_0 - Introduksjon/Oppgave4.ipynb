{
 "cells": [
  {
   "cell_type": "markdown",
   "metadata": {
    "nbgrader": {
     "grade": false,
     "grade_id": "cell-590d4cadbee5d5c3",
     "locked": true,
     "schema_version": 3,
     "solution": false,
     "task": false
    }
   },
   "source": [
    "<nav class=\"navbar navbar-default\">\n",
    "  <div class=\"container-fluid\">\n",
    "    <div class=\"navbar-header\">\n",
    "      <a class=\"navbar-brand\" href=\"_Dataoving1.ipynb\">Dataøving 1</a>\n",
    "    </div>\n",
    "    <ul class=\"nav navbar-nav\">\n",
    "        <li><a href=\"Oppgave1.ipynb\">Oppgave 1 - Fra matematiske uttrykk til python-kode</a></li>\n",
    "        <li><a href=\"Oppgave2.ipynb\">Oppgave 2 - Plotting av matematiske funksjoner</a></li>\n",
    "        <li><a href=\"Oppgave3.ipynb\">Oppgave 3 - Plotting av flere datasett</a></li>\n",
    "        <li class=\"active\"><a href=\"Oppgave4.ipynb\">Oppgave 4 - Analyse av lydsignal</a></li>\n",
    "        <li><a href=\"Oppgave5.ipynb\">Oppgave 5 - For de som vil ha en ekstra utfordring</a></li>\n",
    "    </ul>\n",
    "  </div>\n",
    "</nav>\n",
    "\n",
    "# Analyse av Lydsignal\n",
    "\n",
    "**Læringsmål:**\n",
    "* Kjenne til sammenhengen mellom samplenummer og samplingstidspunkt\n",
    "* Kunne tyde grafisk fremstilling av signal i både tid- og frekvensplan\n",
    "* Bli kjent med konseptet *grunnfrekvens*\n",
    "\n",
    "**Forarbeid:**\n",
    "* Ha hodetelefoner tilgjengelig\n",
    "\n",
    "**Bibliotek og notebook-konfigurasjon:**"
   ]
  },
  {
   "cell_type": "code",
   "execution_count": 1,
   "metadata": {},
   "outputs": [],
   "source": [
    "from numpy import sin, cos, exp, sqrt, log, pi\n",
    "import numpy as np\n",
    "import matplotlib.pyplot as plt\n",
    "from scipy.io import wavfile                # Lydfil I/O\n",
    "from kildekode_data1 import signalAnalyzer\n",
    "\n",
    "%matplotlib ipympl"
   ]
  },
  {
   "cell_type": "markdown",
   "metadata": {
    "nbgrader": {
     "grade": false,
     "grade_id": "cell-55155abda00db9d5",
     "locked": true,
     "schema_version": 3,
     "solution": false,
     "task": false
    }
   },
   "source": [
    "**Importering av lydfil.**\n",
    "\n",
    "Vi skal nå bruke Python til å analysere et lydklipp med spekkhoggerlyder, [orca.wav](orca.wav). Koden nedenfor laster inn lydsignalet som et numpy ndarray `xn` med flyttall mellom -1,0 og 1,0. Dette er en liste med *alle* samplene i lydklippet. I tillegg henter vi også informasjon om samplingsfrekvensen til lydklippet i variabelen `fs`. "
   ]
  },
  {
   "cell_type": "code",
   "execution_count": 2,
   "metadata": {},
   "outputs": [],
   "source": [
    "fs, data = wavfile.read(r'orca.wav') # les audiofilen 'orca.wav' og lagre til variablene 'fs' og 'data'\n",
    "xn = data/0x8000"
   ]
  },
  {
   "cell_type": "markdown",
   "metadata": {
    "nbgrader": {
     "grade": false,
     "grade_id": "cell-7219288243356cd1",
     "locked": true,
     "schema_version": 3,
     "solution": false,
     "task": false
    }
   },
   "source": [
    "## a)\n",
    "Kjør cellen ovenfor, og undersøk variablene `xn`og `fs`.\\\n",
    "Svar på følgende spørsmål:\n",
    "* Hva er samplingsfrekvensen $f_s$ til lydsignalet?\n",
    "* Hva er samplingsperioden $T_s$ til lydsignalet?\n",
    "* Hvor mange sampler består lydfilen av?\n",
    "* Hva er lengden til lydfilen i sekund?"
   ]
  },
  {
   "cell_type": "markdown",
   "metadata": {
    "nbgrader": {
     "grade": true,
     "grade_id": "cell-0054e3ebb22ce000",
     "locked": false,
     "points": 1,
     "schema_version": 3,
     "solution": true,
     "task": false
    }
   },
   "source": [
    "* Hva er samplingsfrekvensen $f_s$ til lydsignalet? $f_s = 22050 Hz$\n",
    "* Hva er samplingsperioden $T_s$ til lydsignalet?   $T_s = \\frac{1}{22050 Hz} \\approx 45 \\mu s$\n",
    "* Hvor mange sampler består lydfilen av? Antall sampler $N$: `len(xn) = 70411`\n",
    "* Hva er lengden til lydfilen i sekund?  Lydfil Varighet: $T = \\frac{N}{22050} \\approx 3.19 s$"
   ]
  },
  {
   "cell_type": "markdown",
   "metadata": {
    "nbgrader": {
     "grade": false,
     "grade_id": "cell-fccf9d4a7dc5dfe9",
     "locked": true,
     "schema_version": 3,
     "solution": false,
     "task": false
    }
   },
   "source": [
    "**Bruk av funksjonen `signalAnalyzer()`**\n",
    "\n",
    "Med denne dataøvingen følger en funksjon som genererer en figur med plot av signalinnhold i både tid og frekvens for et bestemt utklipp av et digitalt signal. Denne kan brukes til å velge ut et segment av lydsignalet `xn` og analysere dette i både tids- og frekvensdomenet. Denne skal vi bruke videre i oppgaven til å analysere innholdet lydfilen `orca.wav`."
   ]
  },
  {
   "cell_type": "code",
   "execution_count": 3,
   "metadata": {
    "scrolled": false
   },
   "outputs": [
    {
     "data": {
      "application/vnd.jupyter.widget-view+json": {
       "model_id": "905549bac24b48fa9cc6732ab517eaeb",
       "version_major": 2,
       "version_minor": 0
      },
      "text/plain": [
       "Canvas(toolbar=Toolbar(toolitems=[('Home', 'Reset original view', 'home', 'home'), ('Back', 'Back to previous …"
      ]
     },
     "metadata": {},
     "output_type": "display_data"
    },
    {
     "data": {
      "application/vnd.jupyter.widget-view+json": {
       "model_id": "6ed1d8cc0ee0468e80b3a87dd4e7d04e",
       "version_major": 2,
       "version_minor": 0
      },
      "text/plain": [
       "HBox(children=(VBox(children=(BoundedIntText(value=4000, description='Signal segment start (sample number):', …"
      ]
     },
     "metadata": {},
     "output_type": "display_data"
    },
    {
     "data": {
      "application/vnd.jupyter.widget-view+json": {
       "model_id": "9306598182c34a1591134124e99a7eb3",
       "version_major": 2,
       "version_minor": 0
      },
      "text/plain": [
       "Output()"
      ]
     },
     "metadata": {},
     "output_type": "display_data"
    }
   ],
   "source": [
    "signalAnalyzer(xn, fs);\n",
    "# Starter opp et grafisk verktøy for å analysere signalet xn\n",
    "# Her kan du velge første og siste sample i et \"signalvindu\" du ønsker \n",
    "# å inspisere nærmere. Du kan også velge om verktøyet skal vise signalkurven\n",
    "# som funksjon av tid, eller signalets frekvensinnhold."
   ]
  },
  {
   "cell_type": "markdown",
   "metadata": {
    "nbgrader": {
     "grade": false,
     "grade_id": "cell-365fd705346b4185",
     "locked": true,
     "schema_version": 3,
     "solution": false,
     "task": false
    }
   },
   "source": [
    "## b)\n",
    "Vi vil studere et mindre utklipp av signalet i tidsintervallet $2.20s \\leq t < 2.30s$ i større detalj. Finn ut hvilket sampleintervall som korresponderer med dette tidsintervallet, og bruk verktøyet `signalAnalyzer()` til å vise en analyse av lydklippet i dette tidsintervallet. Verifiser med figuren at utklippet du har valgt er riktig. Oppgaven besvares med å regne ut de to samplenummerene nedenfor.\n",
    "\n",
    "P.S. Husk at du kan zoome inn på fuiguren, og lese av x- og y koordinater ved å holde musepekeren over et punkt på grafen."
   ]
  },
  {
   "cell_type": "code",
   "execution_count": 10,
   "metadata": {
    "nbgrader": {
     "grade": true,
     "grade_id": "cell-149b1427d10b793b",
     "locked": false,
     "points": 1,
     "schema_version": 3,
     "solution": true,
     "task": false
    }
   },
   "outputs": [
    {
     "name": "stdout",
     "output_type": "stream",
     "text": [
      "48510 50715\n",
      "0.002662000000000031 375.6574004507845\n"
     ]
    }
   ],
   "source": [
    "n_1 = round(2.20*fs)\n",
    "n_2 = round(2.30*fs)\n",
    "\n",
    "print(n_1, n_2)\n",
    "\n",
    "T_0 = (2.21858-2.20527)/5\n",
    "f_0 = 1/T_0\n",
    "print(T_0, f_0)"
   ]
  },
  {
   "cell_type": "markdown",
   "metadata": {
    "nbgrader": {
     "grade": false,
     "grade_id": "cell-1ef348bc5e2931af",
     "locked": true,
     "schema_version": 3,
     "solution": false,
     "task": false
    }
   },
   "source": [
    "## c)\n",
    "Grunnfrekvensen $f_0$ til et periodisk signal defineres som hvor mange ganger et gitt signalmønster gjentear seg selv i løpet av ett sekund. Dette kan beskrives matematisk med følgende formel:\n",
    "$$ x(t) = x\\left( t-\\frac{k}{f_0} \\right), \\ \\ \\ k \\in \\mathbb{Z}$$\n",
    "Signal hentet fra virkeligheten er sjeldent 100% periodiske, men de kan allikevel ha en dominerende periodisk komponent. \n",
    "* Studer tidsplottet av signalsegmentet fra oppgave a, og finn grunnperioden $T_0 = \\frac{1}{f_0}$ ved å måle distanse i tid mellom gjentagende signalmøsnter. Du kan lese av x/y verdier for ethvert punkt på en figur ved å holde musepekeren over det aktuelle punktet.\n",
    "*P.S.: Her kan det være en fordel å måle over et større antall perioder (f.eks. 5) og så dele på 5 for å få en gjennomsnittsmåling. Dette vil redusere målefeil* "
   ]
  },
  {
   "cell_type": "markdown",
   "metadata": {
    "nbgrader": {
     "grade": true,
     "grade_id": "cell-c39e5b4904bb6264",
     "locked": false,
     "points": 1,
     "schema_version": 3,
     "solution": true,
     "task": false
    }
   },
   "source": [
    "Forslag:\n",
    "\n",
    "Telte fem hele signalperioder i intervallet $ 2.20527s < t < 2.21858s$. Dette gir:\n",
    "\n",
    "$$5\\cdot T_0 = 2.21858s - 2.20527s$$\n",
    "$$T_0 \\approx 2.66 ms$$ "
   ]
  },
  {
   "cell_type": "markdown",
   "metadata": {
    "nbgrader": {
     "grade": false,
     "grade_id": "cell-5b1d010e8d788879",
     "locked": true,
     "schema_version": 3,
     "solution": false,
     "task": false
    }
   },
   "source": [
    "# d) \n",
    "En annen egenskap som kjennetegner sterkt periodiske signal med en grunnfrekvens $f_0$ er at de er satt sammen primært av frekvenskomponenter med som alle er harmoniske med grunnfrekvensen: $f \\in \\{1\\cdot f_0, \\ 2\\cdot f_0, \\ 3\\cdot f_0, \\ \\ldots \\}$. Dette kan vi identifisere ved å studere frekvensspekteret til et signal, ettersom det vil oppstå en serie med toppunkt med jevne frekvensintervall $f_0$.\n",
    "\n",
    "* Studer plottet av frekvensspekteret til signalet, og finn signalets grunnfrekvens $f_0$.\n",
    "* Kontroller svaret ved å sammenlikne med lønsingen fra deloppgave **c**."
   ]
  },
  {
   "cell_type": "markdown",
   "metadata": {
    "nbgrader": {
     "grade": true,
     "grade_id": "cell-eeed5539d76893b2",
     "locked": false,
     "points": 1,
     "schema_version": 3,
     "solution": true,
     "task": false
    }
   },
   "source": [
    "Forslag:\n",
    "\n",
    "De tre første toppunktene er: \n",
    "$$\\{372Hz, 744Hz,  1138Hz, \\ldots\\}$$\n",
    "\n",
    "Her er det noe unøyaktighet grunnet litt lav oppløsning i frekvensanalysen, men grunnfrekvensen kan sies å være omtrent \n",
    "\n",
    "$$f_0 = 372Hz$$\n",
    "\n",
    "\n",
    "Utregnet grunnfrekvens med basis i grunnperiode fra oppgave c:\n",
    "$$ f_0 = \\frac{1}{T_0} = \\frac{1}{2.66ms} \\approx 376 Hz$$\n",
    "\n",
    "Ikke nøyaktig likt resultatet fra oppgave c, men forskjellen er liten. Tatt i betraktning at frekvensoppløsningen er såppas lav for dette korte utklippet, er det ikke uventet at vi får litt avvik."
   ]
  }
 ],
 "metadata": {
  "celltoolbar": "Create Assignment",
  "kernelspec": {
   "display_name": "Python 3",
   "language": "python",
   "name": "python3"
  },
  "language_info": {
   "codemirror_mode": {
    "name": "ipython",
    "version": 3
   },
   "file_extension": ".py",
   "mimetype": "text/x-python",
   "name": "python",
   "nbconvert_exporter": "python",
   "pygments_lexer": "ipython3",
   "version": "3.8.5"
  }
 },
 "nbformat": 4,
 "nbformat_minor": 4
}
