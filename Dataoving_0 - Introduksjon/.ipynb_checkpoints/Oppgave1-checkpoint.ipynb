{
 "cells": [
  {
   "cell_type": "markdown",
   "metadata": {
    "nbgrader": {
     "grade": false,
     "grade_id": "cell-eea061c74d7cfe3b",
     "locked": true,
     "schema_version": 3,
     "solution": false,
     "task": false
    }
   },
   "source": [
    "<nav class=\"navbar navbar-default\">\n",
    "  <div class=\"container-fluid\">\n",
    "    <div class=\"navbar-header\">\n",
    "      <a class=\"navbar-brand\" href=\"_Dataoving1.ipynb\">Dataøving 1</a>\n",
    "    </div>\n",
    "    <ul class=\"nav navbar-nav\">\n",
    "        <li class=\"active\"><a href=\"Oppgave1.ipynb\">Oppgave 1 - Fra matematiske uttrykk til python-kode</a></li>\n",
    "        <li><a href=\"Oppgave2.ipynb\">Oppgave 2 - Plotting av matematiske funksjoner</a></li>\n",
    "        <li><a href=\"Oppgave3.ipynb\">Oppgave 3 - Plotting av flere datasett</a></li>\n",
    "        <li><a href=\"Oppgave4.ipynb\">Oppgave 4 - Analyse av lydsignal</a></li>\n",
    "        <li><a href=\"Oppgave5.ipynb\">Oppgave 5 - For de som vil ha en ekstra utfordring</a></li>\n",
    "    </ul>\n",
    "  </div>\n",
    "</nav>\n",
    "\n",
    "# Fra matematiske uttrykk til python-kode\n",
    "\n",
    "__Læringsmål__:\n",
    "* Bli kjent med numpy-klassen ndarray\n",
    "* Være i stand til å generere en tallrekke med utgangspunkt i et matematisk funksjonsuttrykk"
   ]
  },
  {
   "cell_type": "markdown",
   "metadata": {
    "nbgrader": {
     "grade": false,
     "grade_id": "cell-5bcdca38d16b7797",
     "locked": true,
     "schema_version": 3,
     "solution": false,
     "task": false
    }
   },
   "source": [
    "## Digitale Signal som tallrekker\n",
    "\n",
    "Enhver serie med innsamlet data over tid kan anses som et digitalt signal. Et eksempel på dette kunne vært følgende korte serie med vindstyrke-målinger:\n",
    "```python\n",
    "t = [0, 10, 20, 30, 40, 50]   # Måletidspunkt i sekund\n",
    "vt = [3, 2, 5, 1, 2, 8]       # Vindstyrke målt i m/s \n",
    "```\n",
    "Her har vi altså to lister, hvor den éne er en serie med måletidspunkt `t`, og den andre er en serie med vindstyrkemålinger `vt` tatt i tidspunktene angitt i listen `t`. Intervallet mellom målinger ser vi er 10 sekund. I denne oppgaven skal vi utforske et bibliotek som forenkler håndteringen av informasjon i denne formen.\n",
    "\n",
    "## NumPy - en modul for behandling av multidimensjonale tabeller/arrays.\n",
    "\n",
    "I en rekke ingeniørfaglige emner kommer vi ofte til å ha behov for å gjøre matematiske bergninger på data eller matematiske funksjoner som i form av en eller annen sekvens. Eksempler på dette kan være å lage en sinusbølge, eller multiplisere en liste med en annen. La oss si at vi vil generere tallrekken som er gitt ved det matematiske uttrykket nedenfor:\n",
    "\n",
    "$$x_n = 2^n, \\ \\ \\ n\\in \\{0, 1, 2, 3, 4, 5, 6, 7, 8, 9\\}$$\n",
    "\n",
    "Uttrykket $n \\in \\{0, 1, 2, 3, 4, 5, 6, 7, 8, 9\\}$ kan leses som $n$ er heltall fra og med 0 til og med 9.\n",
    "\n",
    "Med vanlige listeoperasjoner kan dette utføres med bruk av en for-løkke, og den innebygde liste-metoden `append()`:\n",
    "```python\n",
    "x_n = []             # Initialiser en tom liste\n",
    "for n in range(10):  # Iterer over alle heltall fra 0 til 9\n",
    "    x_n.append(2**n) # Regn ut hvert element og legg til på slutten av listen\n",
    "```\n",
    "\n",
    "Når man skal utføre matematiske operasjoner med slike tallrekker, så kan det være tungvindt og uoversiktlig å måtte ta i bruk en for-løkke hver gang man skal utføre en kalkulasjon med hvert element i en liste. Det er her biblioteket `numpy` kommer inn i bildet. Numpy introduserer noe som nærmest er en \"universalklasse\" for multidimensjonale tabeller med navnet `ndarray`. Hele resten av `numpy`-modulen er bygd rundt denne datatypen. Den aller viktigste egenskapen til denne klassen er at den tillater __*elementvise operasjoner*__. Med bruk av `numpy` kan dermed utregningen ovenfor enkelt utføres med følgende kode:\n",
    "```python\n",
    "import numpy as np  \n",
    "n = np.arange(10)   # Generer en ndarray for heltallene \"n\"\n",
    "x_n = 2**n          # Elementvis utregning av eksponentialer med vanlig potens-operator\n",
    "```\n",
    "\n",
    "`np.arange(10)` tilsvarer i grunn `list(range(10))`, men returnerer en `ndarray` med lengde 10 istedenfor en 10-elements liste. Her ser vi at når vi først har generert en array med heltalsverdiene $n$, kan vi anvende det med vanlige matematiske operatorer til å produsere nye arrays ut ifra et funksjonsuttrykk. Vi kan også lage `ndarray`-objekter ut av vanlige lister med funksjonen `np.array()`.\n",
    "\n",
    "```python\n",
    "my_list = [2, 3, 1, 5]\n",
    "my_array = np.array(my_list)\n",
    "```\n",
    "\n",
    "Det er også verdt å nevne at `numpy` inneholder egne varianter av funksjoner for elementvis utregning av matematiske uttrykk som `sin()`, `cos()`, `exp()`, `sqrt()`, `log()` osv. Mer detaljert informasjon finner du [her](https://numpy.org/devdocs/user/quickstart.html). En ulempe med sekvenstypen `ndarray` er at størrelsen på arrayen er \"låst\" når den opprettes, og vi har dermed ikke tilgang til metoder som `.pop()`, `.append()` eller `.insert()`. Indeksering, list-slicing o.l. fungerer fremdeles likt som med lister.\n",
    "\n",
    "Det er også verdt å nevne at numpy-funksjoner er implementert i C og optimalisert for kjøretid, noe som betyr at behandling av store datasett er mye raskere med en funksjoner og datatyper fra `numpy` enn vanlige lister.\n",
    "\n",
    "__Nedenfor er en kodecelle som importerer en rekke matematiske funksjoner fra modulen numpy uten prefiks, samt importerer resten av modulen med prefiks `np`. Husk å kjøre denne cellen før du begynner på deloppgavene.__"
   ]
  },
  {
   "cell_type": "code",
   "execution_count": 2,
   "metadata": {
    "nbgrader": {
     "grade": false,
     "grade_id": "cell-8305ab049788e609",
     "locked": true,
     "schema_version": 3,
     "solution": false,
     "task": false
    }
   },
   "outputs": [],
   "source": [
    "# Det er ikke strengt nødvendig å importere en rekke konkrete matematiske uttrykk uten prefiks, \n",
    "# men er en personlig preferanse. Dette kan gjøre matematiske utregninger mer oversiktlig.\n",
    "from numpy import sin, cos, exp, sqrt, log, pi\n",
    "import numpy as np"
   ]
  },
  {
   "cell_type": "markdown",
   "metadata": {
    "nbgrader": {
     "grade": false,
     "grade_id": "cell-477eacf4df557884",
     "locked": true,
     "schema_version": 3,
     "solution": false,
     "task": false
    }
   },
   "source": [
    "### Før du begynner.\n",
    "Poenget med denne oppgaven er å utforske bruken av elementvise operasjoner med `numpy`. Derfor skal deloppgavene løses ***uten*** bruk av `for`-løkker.\n",
    "\n",
    "\n",
    "## a)\n",
    "Generer en array som realiserer denne rekken, hvor \"n\" er indeksverdien. Gi gjerne radvektoren variabelnavnet `xn1`, og skriv ut innholdet med `print()` funksjonen.\n",
    "$$x_1[n] = \\frac{1}{2}\\cdot n^2 + 2\\cdot n -3, \\ \\ \\ \\ \\ n \\in \\{0, 1, 2, 3, 4, 5, 6 ,7 ,8, 9\\}$$"
   ]
  },
  {
   "cell_type": "code",
   "execution_count": 2,
   "metadata": {
    "nbgrader": {
     "grade": true,
     "grade_id": "cell-bc77d85794894ad9",
     "locked": false,
     "points": 1,
     "schema_version": 3,
     "solution": true,
     "task": false
    },
    "scrolled": true
   },
   "outputs": [
    {
     "name": "stdout",
     "output_type": "stream",
     "text": [
      "[-3.  -0.5  3.   7.5 13.  19.5 27.  35.5 45.  55.5]\n"
     ]
    }
   ],
   "source": [
    "n = np.arange(10)\n",
    "xn1 = n**2/2 + 2*n - 3\n",
    "print(xn1)"
   ]
  },
  {
   "cell_type": "markdown",
   "metadata": {
    "nbgrader": {
     "grade": false,
     "grade_id": "cell-9670d386bda8d548",
     "locked": true,
     "schema_version": 3,
     "solution": false,
     "task": false
    }
   },
   "source": [
    "__Riktig Utskrift:__\\\n",
    "`[-3.  -0.5  3.   7.5 13.  19.5 27.  35.5 45.  55.5]`"
   ]
  },
  {
   "cell_type": "markdown",
   "metadata": {
    "nbgrader": {
     "grade": false,
     "grade_id": "cell-cd8650295706c28e",
     "locked": true,
     "schema_version": 3,
     "solution": false,
     "task": false
    }
   },
   "source": [
    "## b)\n",
    "Lag en ny array `xn2` som følger progresjonen til de angitte elementene i den geometriske rekken $x_2[n]$, og skriv ut innholdet med `print()` funksjonen.\n",
    "$$x_2[n] = 0.64^{\\frac{n}{2}}, \\ \\ \\ \\ \\ n \\in \\{0, 1, 2, 3, 4, 5, 6 ,7 ,8, 9\\}$$"
   ]
  },
  {
   "cell_type": "code",
   "execution_count": 4,
   "metadata": {
    "nbgrader": {
     "grade": true,
     "grade_id": "cell-70d7f44767a821eb",
     "locked": false,
     "points": 1,
     "schema_version": 3,
     "solution": true,
     "task": false
    },
    "scrolled": true
   },
   "outputs": [
    {
     "name": "stdout",
     "output_type": "stream",
     "text": [
      "[1.         0.8        0.64       0.512      0.4096     0.32768\n",
      " 0.262144   0.2097152  0.16777216 0.13421773]\n"
     ]
    }
   ],
   "source": [
    "n = np.arange(10)\n",
    "xn2 = 0.64**(n/2)\n",
    "print(xn2)"
   ]
  },
  {
   "cell_type": "markdown",
   "metadata": {
    "nbgrader": {
     "grade": false,
     "grade_id": "cell-2abae24a38f52c41",
     "locked": true,
     "schema_version": 3,
     "solution": false,
     "task": false
    }
   },
   "source": [
    "__Riktig Utskrift:__\\\n",
    "`[1.         0.8        0.64       0.512      0.4096     0.32768\n",
    " 0.262144   0.2097152  0.16777216 0.13421773]`"
   ]
  },
  {
   "cell_type": "markdown",
   "metadata": {
    "nbgrader": {
     "grade": false,
     "grade_id": "cell-9c1ded6eb9833384",
     "locked": true,
     "schema_version": 3,
     "solution": false,
     "task": false
    }
   },
   "source": [
    "## c)\n",
    "Lag en ny array `xn3` som følger sinussekvensen, og skriv ut innholdet med `print()` funksjonen.\n",
    "$$x_3[n] = \\cos \\left( \\frac{\\pi \\cdot n}{11} + \\frac{\\pi}{6} \\right), \\ \\ \\ \\ \\ n \\in \\{0, 1, 2, 3, 4, 5, 6 ,7 ,8, 9\\}$$"
   ]
  },
  {
   "cell_type": "code",
   "execution_count": 4,
   "metadata": {
    "nbgrader": {
     "grade": true,
     "grade_id": "cell-15eca99af61f183d",
     "locked": false,
     "points": 1,
     "schema_version": 3,
     "solution": true,
     "task": false
    }
   },
   "outputs": [
    {
     "name": "stdout",
     "output_type": "stream",
     "text": [
      "[ 0.8660254   0.69007901  0.45822652  0.18925124 -0.09505604 -0.37166246\n",
      " -0.61815899 -0.81457595 -0.94500082 -0.99886734]\n"
     ]
    }
   ],
   "source": [
    "n = np.arange(10)\n",
    "xn3 = cos(pi*n/11 + pi/6)\n",
    "print(xn3)"
   ]
  },
  {
   "cell_type": "markdown",
   "metadata": {
    "nbgrader": {
     "grade": false,
     "grade_id": "cell-906d0dde02e240eb",
     "locked": true,
     "schema_version": 3,
     "solution": false,
     "task": false
    }
   },
   "source": [
    "__Riktig Utskrift:__\\\n",
    "`[ 0.8660254   0.69007901  0.45822652  0.18925124 -0.09505604 -0.37166246\n",
    " -0.61815899 -0.81457595 -0.94500082 -0.99886734]`"
   ]
  },
  {
   "cell_type": "markdown",
   "metadata": {
    "nbgrader": {
     "grade": false,
     "grade_id": "cell-5fec93e0aee077c3",
     "locked": true,
     "schema_version": 3,
     "solution": false,
     "task": false
    }
   },
   "source": [
    "## d) \n",
    "Lag en array `xn4` som er _produktet_ av `xn2`og `xn3`, og skriv ut innholdet med `print()` funksjonen.\n",
    "$$x_4[n] = x_2[n] \\cdot x_3[n], \\ \\ \\ \\ \\ n \\in \\{0, 1, 2, 3, 4, 5, 6 ,7 ,8, 9\\}$$"
   ]
  },
  {
   "cell_type": "code",
   "execution_count": 5,
   "metadata": {
    "nbgrader": {
     "grade": true,
     "grade_id": "cell-23f9f83e86dc73f3",
     "locked": false,
     "points": 1,
     "schema_version": 3,
     "solution": true,
     "task": false
    },
    "scrolled": false
   },
   "outputs": [
    {
     "name": "stdout",
     "output_type": "stream",
     "text": [
      "[ 0.8660254   0.63995295  0.39407481  0.15093377 -0.07030345 -0.25491466\n",
      " -0.39318373 -0.48048094 -0.51692316 -0.50669993]\n"
     ]
    }
   ],
   "source": [
    "xn4 = xn2*xn3\n",
    "print(xn4)"
   ]
  },
  {
   "cell_type": "markdown",
   "metadata": {
    "nbgrader": {
     "grade": false,
     "grade_id": "cell-c23717dcb39168eb",
     "locked": true,
     "schema_version": 3,
     "solution": false,
     "task": false
    }
   },
   "source": [
    "__Riktig Utskrift:__\\\n",
    "`[ 0.8660254   0.63995295  0.39407481  0.15093377 -0.07030345 -0.25491466\n",
    " -0.39318373 -0.48048094 -0.51692316 -0.50669993]`"
   ]
  }
 ],
 "metadata": {
  "celltoolbar": "Create Assignment",
  "kernelspec": {
   "display_name": "Python 3",
   "language": "python",
   "name": "python3"
  },
  "language_info": {
   "codemirror_mode": {
    "name": "ipython",
    "version": 3
   },
   "file_extension": ".py",
   "mimetype": "text/x-python",
   "name": "python",
   "nbconvert_exporter": "python",
   "pygments_lexer": "ipython3",
   "version": "3.8.5"
  }
 },
 "nbformat": 4,
 "nbformat_minor": 4
}
