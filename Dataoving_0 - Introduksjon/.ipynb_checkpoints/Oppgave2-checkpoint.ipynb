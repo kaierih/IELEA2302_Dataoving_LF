{
 "cells": [
  {
   "cell_type": "markdown",
   "metadata": {
    "nbgrader": {
     "grade": false,
     "grade_id": "cell-1cc0f12d4abfdb8f",
     "locked": true,
     "schema_version": 3,
     "solution": false,
     "task": false
    }
   },
   "source": [
    "<nav class=\"navbar navbar-default\">\n",
    "  <div class=\"container-fluid\">\n",
    "    <div class=\"navbar-header\">\n",
    "      <a class=\"navbar-brand\" href=\"_Dataoving1.ipynb\">Dataøving 1</a>\n",
    "    </div>\n",
    "    <ul class=\"nav navbar-nav\">\n",
    "        <li><a href=\"Oppgave1.ipynb\">Oppgave 1 - Fra matematiske uttrykk til python-kode</a></li>\n",
    "        <li class=\"active\"><a href=\"Oppgave2.ipynb\">Oppgave 2 - Plotting av matematiske funksjoner</a></li>\n",
    "        <li><a href=\"Oppgave3.ipynb\">Oppgave 3 - Plotting av flere datasett</a></li>\n",
    "        <li><a href=\"Oppgave4.ipynb\">Oppgave 4 - Analyse av lydsignal</a></li>\n",
    "    </ul>\n",
    "  </div>\n",
    "</nav>\n",
    "\n",
    "# Plotting av matematiske funksjoner med Matplotlib\n",
    "\n",
    "__Læringsmål__:\n",
    "* Tilnærming til \"kontinuerlig\" data\n",
    "* Plotting av funksjoner med bruk av matplotlib\n",
    "* Oppfriskning kvadratisk koordinatsystem og polart koordinatsystem\n",
    "\n",
    "__Bibliotek og notebook-konfigurasjon:__"
   ]
  },
  {
   "cell_type": "code",
   "execution_count": 1,
   "metadata": {},
   "outputs": [],
   "source": [
    "from numpy import sin, cos, exp, sqrt, log, pi\n",
    "import numpy as np\n",
    "import matplotlib.pyplot as plt\n",
    "\n",
    "# Vi må også spesifisere hvordan Jupyter skal håndtere figurer. \n",
    "# Jeg har valgt \"ipympl\" da den oppdateres oftere en \"matplotlib\"\n",
    "%matplotlib ipympl"
   ]
  },
  {
   "cell_type": "markdown",
   "metadata": {
    "nbgrader": {
     "grade": false,
     "grade_id": "cell-77ffeb5e1bc47c8e",
     "locked": true,
     "schema_version": 3,
     "solution": false,
     "task": false
    }
   },
   "source": [
    "__Plotting av funksjoner / signal__\n",
    "\n",
    "Vi kommer ofte til å ha lyst til å studere egenskapene til digitale signal og/eller digitale filter grafisk. Det er derfor nyttig å være i stand til å framstille gode og informative figurer som formidler informasjonen om signal/filter som vi er interessert i.\n",
    "\n",
    "Vi skal nå jobbe med matriser og vektorer med svært mange elementer. Istedenfor å benytte en array med heltall `n` slik som i oppgave 1, skal vi nå bruke en array med flyttall slik at vi får høyere \"oppløsning\" enn ett datapunkt per heltall. På denne måten kan vi plotte grafen til en funksjon $f(x)$, og få grafen til å se ut som den er kontinuerlig så lenge vi ikke zoomer inn alt for mye. Her er det anbefalt å bruke funksjonen `linspace()`.\n",
    "\n",
    "Funksjonen plot(x,y) i matplotlib.pyplot benytter to vektorer x og y med lik lengde hvor hvert element i vektorene angir x-koordinatene og y-koordinatene til et punkt på grafen. Matplotlib vil så generere en graf om trekker linjer mellom alle disse punktene i kronologisk rekkefølge. Det går også an å bruke kun ett argument plot(y), da vil matplotlib anta at x-vektoren er en heltallsarray `x = [1, 2, 3, 4, .....]`.\n",
    "\n",
    "Mer informasjon om funksjonaliteten til plot-funksjonen kan du finne [her](https://matplotlib.org/api/pyplot_api.html), og vi skal utforske en del av mulighetene utover denne oppgaven. Bruk av matplotlib likner for øvrig veldig på MATLAB.\n",
    "Nedenfor er to eksempler med kode, én som plotter den lineære kvadratiske  funksjonen $y = 0.7\\cdot x^2 - x + 4$ for $ 0 \\leq x < 10$, og én som plotter ellipsen beskrevet med $x^2 + 2y^2 = 3^2$."
   ]
  },
  {
   "cell_type": "code",
   "execution_count": 2,
   "metadata": {},
   "outputs": [
    {
     "data": {
      "application/vnd.jupyter.widget-view+json": {
       "model_id": "9bc74417c35241cfa9b7c2e10815b74f",
       "version_major": 2,
       "version_minor": 0
      },
      "text/plain": [
       "Canvas(toolbar=Toolbar(toolitems=[('Home', 'Reset original view', 'home', 'home'), ('Back', 'Back to previous …"
      ]
     },
     "metadata": {},
     "output_type": "display_data"
    }
   ],
   "source": [
    "# Kvadratisk Funksjon!\n",
    "x1 = np.linspace(0, 10, 101) # Returnerer en array med 101 flyttalsverdier uniformt fordelt f.o.m. 0 t.o.m. 10\n",
    "y1 = 0.7*x1**2 - x1 + 4\n",
    "plt.figure(1)             # Lager en ny figur\n",
    "plt.plot(x1, y1)          # Plotter en graf ut i fra x- og y koordinater i arrayene x2 og y2 med en connect-the-dots tilnærming\n",
    "plt.show()                # Viser figuren"
   ]
  },
  {
   "cell_type": "code",
   "execution_count": 3,
   "metadata": {},
   "outputs": [
    {
     "data": {
      "application/vnd.jupyter.widget-view+json": {
       "model_id": "308ce2912e674cc7bbd60c712423a10e",
       "version_major": 2,
       "version_minor": 0
      },
      "text/plain": [
       "Canvas(toolbar=Toolbar(toolitems=[('Home', 'Reset original view', 'home', 'home'), ('Back', 'Back to previous …"
      ]
     },
     "metadata": {},
     "output_type": "display_data"
    }
   ],
   "source": [
    "# Ellipse!\n",
    "# Ettersom dette er en sirkulær figur er blir det vanskelig å regne ut y-verdier med utgangspunkt i x-verdier.\n",
    "# Her er det bedre å ta utgangspunkt i vinkel \"theta\", og regne ut både x- og y arrays med utgangspunkt i vinkel.\n",
    "\n",
    "theta = np.linspace(0, 2*pi, 101) # Returnerer en array med 101 flyttalsverdier uniformt fordelt f.o.m. 0 t.o.m. 2*pi\n",
    "x2 = 3*cos(theta) \n",
    "y2 = 3*sin(theta)/sqrt(2)\n",
    "plt.figure(2)                  # Lager en ny figur\n",
    "plt.plot(x2, y2)               # Plotter en graf ut i fra x- og y koordinater i arrayene x2 og y2 med en connect-the-dots tilnærming\n",
    "plt.show()                     # Viser figuren"
   ]
  },
  {
   "cell_type": "markdown",
   "metadata": {
    "nbgrader": {
     "grade": false,
     "grade_id": "cell-ca819e3d6c8639dc",
     "locked": true,
     "schema_version": 3,
     "solution": false,
     "task": false
    }
   },
   "source": [
    "## a)\n",
    "\n",
    "Lag et script som vil generere et plot av en femkantet stjerne. Husk å bruke funksjonen `plt.figure()` til å lage en ny figur, ellers vil scriptet tegne en ny graf i forrige figur som ble laget, og stjernen vil antageligvis tegnes sammen med ellipsen."
   ]
  },
  {
   "cell_type": "code",
   "execution_count": 4,
   "metadata": {
    "nbgrader": {
     "grade": true,
     "grade_id": "cell-89265f129c8640c2",
     "locked": false,
     "points": 1,
     "schema_version": 3,
     "solution": true,
     "task": false
    }
   },
   "outputs": [
    {
     "data": {
      "application/vnd.jupyter.widget-view+json": {
       "model_id": "a1760452d9614569aeec3770246b4c20",
       "version_major": 2,
       "version_minor": 0
      },
      "text/plain": [
       "Canvas(toolbar=Toolbar(toolitems=[('Home', 'Reset original view', 'home', 'home'), ('Back', 'Back to previous …"
      ]
     },
     "metadata": {},
     "output_type": "display_data"
    }
   ],
   "source": [
    "plt.figure(figsize=(6,6))\n",
    "k = np.arange(6)\n",
    "theta = pi/2 + k*(2*pi/5*2)\n",
    "x = cos(theta)\n",
    "y = sin(theta)\n",
    "plt.plot(x, y)\n",
    "plt.axis([-1.1, 1.1, -1.1, 1.1])\n",
    "plt.show()"
   ]
  },
  {
   "cell_type": "markdown",
   "metadata": {
    "nbgrader": {
     "grade": false,
     "grade_id": "cell-d7fb9ffd76f1bf80",
     "locked": true,
     "schema_version": 3,
     "solution": false,
     "task": false
    }
   },
   "source": [
    "__Tilleggsinformasjon:__\n",
    "\n",
    "Det er mange tilpasninger man kan gjøre for å legge til informasjon i et plot. Noen nyttige funksjoner gir muligheten til å legge til rutenett, og gi plot og akser tittel.\n",
    "\n",
    "```python\n",
    "plt.grid(True)         # Aktiverer rutenett\n",
    "plt.xlabel(\"x-akse\")   # Gir x-aksen en tittel\n",
    "plt.ylabel(\"y-akse\")   # Gir y-aksen en tittel\n",
    "ptl.title(\"Mitt Plot\") # Gir figuren en tittel\n",
    "```"
   ]
  },
  {
   "cell_type": "markdown",
   "metadata": {
    "nbgrader": {
     "grade": false,
     "grade_id": "cell-8d6eae18129d1f2c",
     "locked": true,
     "schema_version": 3,
     "solution": false,
     "task": false
    }
   },
   "source": [
    "## b)\n",
    "Formelen for en dempet oscillasjon som funksjon av tid er gitt nedenfor:\n",
    "\n",
    "$$x(t) = 0.8^t \\cdot \\cos (2\\pi \\cdot 8 \\cdot t), \\ \\ \\ \\ \\ t \\geq 0$$\n",
    "\n",
    "* generer arrayene `t` og `xt` som vil representere funksjonen $x(t)$ for $0\\leq t < 5$. Arrayene skal ha 100 datapunkt per sekund.\n",
    "* lag et plot av signalet, aktiver rutenett i plotet, gi figuren navn på aksene og en tittel"
   ]
  },
  {
   "cell_type": "code",
   "execution_count": 5,
   "metadata": {
    "nbgrader": {
     "grade": true,
     "grade_id": "cell-a8d635ec94584639",
     "locked": false,
     "points": 2,
     "schema_version": 3,
     "solution": true,
     "task": false
    },
    "scrolled": false
   },
   "outputs": [
    {
     "data": {
      "application/vnd.jupyter.widget-view+json": {
       "model_id": "4bfc3676a4c446b2bce4af6c245b305c",
       "version_major": 2,
       "version_minor": 0
      },
      "text/plain": [
       "Canvas(toolbar=Toolbar(toolitems=[('Home', 'Reset original view', 'home', 'home'), ('Back', 'Back to previous …"
      ]
     },
     "metadata": {},
     "output_type": "display_data"
    }
   ],
   "source": [
    "t = np.linspace(0, 5, 501)\n",
    "xt = 0.8**t*cos(2*pi*8*t)\n",
    "plt.figure()\n",
    "plt.subplot(2,1,1)\n",
    "plt.plot(t, xt)\n",
    "plt.grid(True)\n",
    "plt.xlabel(\"t\")\n",
    "plt.ylabel(\"x(t)\");\n",
    "\n",
    "plt.subplot(2,1,2)\n",
    "n1, n2 = round(2.0*100), round(2.75*100)\n",
    "plt.plot(t[n1:n2], xt[n1:n2])\n",
    "plt.grid(True)\n",
    "plt.xlabel(\"t\")\n",
    "plt.ylabel(\"x(t)\");\n"
   ]
  },
  {
   "cell_type": "markdown",
   "metadata": {
    "nbgrader": {
     "grade": false,
     "grade_id": "cell-acbf48a2b2c8a77a",
     "locked": true,
     "schema_version": 3,
     "solution": false,
     "task": false
    }
   },
   "source": [
    "__Subplot:__\n",
    "\n",
    "Det kan ofte være aktuelt å framstille flere plot i samme figur slik at de kan studeres ved siden av hverandre. Til dette kan vi bruke funksjonen `subplot`, som deler opp en figur i et rutenett med mulige plot-felt. Ved bruk av subplot må man spesifisere antall rader, antall kolonner og aktiv posisjon som skal plottes i: `plt.subplot(rows, cols, pos)`. \n",
    "\n",
    "For eksempel vil funksjonskallet `plt.subplot(2,3,5)` dele opp en figur i 6 ruter fordelt på 2 rader og 3 kolonner, og aktivere rute nr. 5 slik tabellen illustrerer.\n",
    "\n",
    "| |  |  |\n",
    "| --- | --- | --- |\n",
    "| 1 | 2 | 3 |\n",
    "| 4 | [5] | 6 |"
   ]
  },
  {
   "cell_type": "markdown",
   "metadata": {
    "nbgrader": {
     "grade": false,
     "grade_id": "cell-6ff6a6f4310f76e6",
     "locked": true,
     "points": 1,
     "schema_version": 3,
     "solution": false,
     "task": true
    }
   },
   "source": [
    "## c)\n",
    "Bygg videre på koden fra deloppgave __b__ slik at figuren viser to plot nedenfor hverandre. Den øverste skal være figuren fra oppgave __b__, og den nederste skal være et utklipp av den øverste figuren hvor vi har zoomet inn langs x-aksen. Plotet skal vise et utsnitt av signalet $x(t)$ for tidsintervallet $2.0 \\leq t < 2.75$. Dette kan for eksempel gjøres ved å velge ut en liten del av signalet med bruk av _list slicing_. Eksempel: `plt.plot(t[a:b], xt[a:b])`. "
   ]
  },
  {
   "cell_type": "markdown",
   "metadata": {
    "nbgrader": {
     "grade": false,
     "grade_id": "cell-8554014b79d50c4f",
     "locked": true,
     "schema_version": 3,
     "solution": false,
     "task": false
    }
   },
   "source": [
    "## d)\n",
    "Responsen (filtergain som funksjon av frekvens) $G(\\omega)$ til et førsteordens analogt lavpassfilter er gitt ved følgende formel der $\\omega$ er frekvens gitt i rad/s:\n",
    "$$G(\\omega) = \\frac{1}{\\sqrt{1 + \\left(\\frac{\\omega}{\\omega_c} \\right) ^2 }}$$\n",
    "Et slikt filter kan realiseres med f.eks. en enkel RC-krets.\n",
    "\n",
    "Filteregenskapene visualiseres typisk med et såkalt bode-plot hvor både x-akse og y-akse er i logaritmisk skala. En slik figur kan lages med bruk av funksjonen `loglog()` som er dokumentert [her](https://matplotlib.org/3.1.1/api/_as_gen/matplotlib.pyplot.loglog.html). Det er også en god idé å generere dataen som skal plottes i etter en logaritmisk fordelt array med vinkelfrekvenser $\\omega$. Enkleste måte å få til dette er med bruk av `logspace()`som er dokumentert [her](https://numpy.org/doc/stable/reference/generated/numpy.logspace.html), men det er også fullt mulig å bruke potensregning (`x_log = 10**linspace(start, stop, n_of_values)`).\n",
    "\n",
    "Bruk `loglog()` til å generere et bode-plot av $G(\\omega)$ der kantfrekvensen er $\\omega_c = \\pi$ rad/s. Gjør dette ved å regne ut $G(\\omega)$ for et frekvensintervall $\\frac{2\\pi}{100} \\leq \\omega \\leq 2\\pi \\cdot 1000$."
   ]
  },
  {
   "cell_type": "code",
   "execution_count": 6,
   "metadata": {
    "nbgrader": {
     "grade": true,
     "grade_id": "cell-6dcfaaaee1edb7ed",
     "locked": false,
     "points": 1,
     "schema_version": 3,
     "solution": true,
     "task": false
    }
   },
   "outputs": [
    {
     "data": {
      "application/vnd.jupyter.widget-view+json": {
       "model_id": "5d3e2075f5144445b62688853d3a1e3a",
       "version_major": 2,
       "version_minor": 0
      },
      "text/plain": [
       "Canvas(toolbar=Toolbar(toolitems=[('Home', 'Reset original view', 'home', 'home'), ('Back', 'Back to previous …"
      ]
     },
     "metadata": {},
     "output_type": "display_data"
    }
   ],
   "source": [
    "w_log = np.logspace(-2, 3, 501)*2*pi\n",
    "Gw = 1/sqrt(1+(w_log/pi)**2)\n",
    "plt.figure()\n",
    "plt.loglog(w_log, Gw)\n",
    "plt.grid(True)"
   ]
  }
 ],
 "metadata": {
  "celltoolbar": "Create Assignment",
  "kernelspec": {
   "display_name": "Python 3",
   "language": "python",
   "name": "python3"
  },
  "language_info": {
   "codemirror_mode": {
    "name": "ipython",
    "version": 3
   },
   "file_extension": ".py",
   "mimetype": "text/x-python",
   "name": "python",
   "nbconvert_exporter": "python",
   "pygments_lexer": "ipython3",
   "version": "3.8.5"
  }
 },
 "nbformat": 4,
 "nbformat_minor": 4
}
