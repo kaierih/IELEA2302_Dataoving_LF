{
 "cells": [
  {
   "cell_type": "markdown",
   "metadata": {},
   "source": [
    "# Dataøving 0 - Introduksjon til Signalbehandling med Python\n",
    "\n",
    "### Relevant lesestoff: \n",
    "- Kapittel 1 i boka DSP First\n",
    "- [Numpy Quickstart Tutorial](https://numpy.org/devdocs/user/quickstart.html)\n",
    "- [Pyplot Tutorial](https://matplotlib.org/tutorials/introductory/pyplot.html)\n",
    "\n",
    "### Forberedelser:\n",
    "- Ta med hodetelefoner. Vi skal lytte til audiosignal i enkelte av oppgavene.\n",
    "- Det forutsettes at studenten har oversikt over grunnleggende programmeringsprinsipp som aritmetiske operatorer, variabler, if-setninger, løkker, lister og funksjoner. Trenger du en oppfriskning kan du finne øvingsopplegget til pythonmodulen i INGA1001 [her](https://ielea2302.apps.stack.it.ntnu.no/hub/user-redirect/git-pull?repo=https%3A%2F%2Fgithub.com%2Fkaierih%2FINGA1001&urlpath=tree%2FINGA1001%2F&branch=master).\n",
    "\n",
    "Oppgave | Tema \n",
    "--- | --- \n",
    "[Oppgave 1 - Fra matematiske rekkeuttrykk til python-kode](Oppgave1.ipynb) | Bruk av NumPy til å utføre matematiske operasjoner på tallrekker.\n",
    "[Oppgave 2 - Plotting av matematiske funksjoner](Oppgave2.ipynb) | Matplotlib for datavisualisering\n",
    "[Oppgave 3 - Plotting av flere datasett](Oppgave3.ipynb) | Matplotlib fortsettelse\n",
    "[Oppgave 4 - Analyse av Lydsignal](Oppgave4.ipynb) | Introduksjon til signalanalyse i tid og frekvens\n",
    "[Oppgave 5 - Koch Søflak](Oppgave5.ipynb) | For de som vil ha en ekstra utfordring\n",
    "\n",
    "#### NB! Husk å svare på [spørreundersøkelsen](https://ntnu.blackboard.com/webapps/blackboard/content/launchAssessment.jsp?course_id=_22548_1&content_id=_1228616_1&mode=cpview) i forkant av python-forelesningen fredag 15. januar."
   ]
  }
 ],
 "metadata": {
  "kernelspec": {
   "display_name": "Python 3",
   "language": "python",
   "name": "python3"
  },
  "language_info": {
   "codemirror_mode": {
    "name": "ipython",
    "version": 3
   },
   "file_extension": ".py",
   "mimetype": "text/x-python",
   "name": "python",
   "nbconvert_exporter": "python",
   "pygments_lexer": "ipython3",
   "version": "3.8.5"
  }
 },
 "nbformat": 4,
 "nbformat_minor": 4
}
