{
 "cells": [
  {
   "cell_type": "markdown",
   "metadata": {
    "nbgrader": {
     "grade": false,
     "grade_id": "cell-4b33f7a251d47d0d",
     "locked": true,
     "schema_version": 3,
     "solution": false,
     "task": false
    }
   },
   "source": [
    "<nav class=\"navbar navbar-default\">\n",
    "  <div class=\"container-fluid\">\n",
    "    <div class=\"navbar-header\">\n",
    "      <a class=\"navbar-brand\" href=\"_Dataoving1.ipynb\">Dataøving 1</a>\n",
    "    </div>\n",
    "    <ul class=\"nav navbar-nav\">\n",
    "        <li><a href=\"Oppgave1.ipynb\">Oppgave 1 - Fra matematiske uttrykk til python-kode</a></li>\n",
    "        <li><a href=\"Oppgave2.ipynb\">Oppgave 2 - Plotting av matematiske funksjoner</a></li>\n",
    "        <li class=\"active\"><a href=\"Oppgave3.ipynb\">Oppgave 3 - Plotting av flere datasett</a></li>\n",
    "        <li><a href=\"Oppgave4.ipynb\">Oppgave 4 - Analyse av lydsignal</a></li>\n",
    "        <li><a href=\"Oppgave5.ipynb\">Oppgave 5 - For de som vil ha en ekstra utfordring</a></li>\n",
    "    </ul>\n",
    "  </div>\n",
    "</nav>\n",
    "\n",
    "# Plotting av flere datasett\n",
    "\n",
    "__Læringsmål__:\n",
    "* Bruk av matplotlib til å framstille flere grafer i samme figur.\n",
    "* Tilleggsinformasjon som øker lesbarheten til figurer.\n",
    "\n",
    "__Bibliotek og notebook-konfigurasjon:__"
   ]
  },
  {
   "cell_type": "code",
   "execution_count": 1,
   "metadata": {},
   "outputs": [],
   "source": [
    "from numpy import sin, cos, exp, sqrt, log10, pi\n",
    "import numpy as np\n",
    "import matplotlib.pyplot as plt\n",
    "\n",
    "%matplotlib ipympl"
   ]
  },
  {
   "cell_type": "markdown",
   "metadata": {
    "nbgrader": {
     "grade": false,
     "grade_id": "cell-101105dc9fef53b8",
     "locked": true,
     "schema_version": 3,
     "solution": false,
     "task": false
    }
   },
   "source": [
    "__Linjestil, farger og merkelapper:__\n",
    "\n",
    "Det er ofte nyttig å plotte flere grafer i samme figur, hvis kurvene skal sammenliknes med hverandre. Å plotte flere grafer i et plot som allerede har én eller flere grafer er i grunn veldig lett, da det er gjøres automatisk så lenge du ikke initialiserer en ny figur med kommandoen `plt.figure()` først. I tillegg kan man bruke `labels()` til å gi de ulike grafene merkelapper.\n",
    "\n",
    "For å differensiere mellom grafene kan det være nyttig å endre på linjestil og farger. Dette gjøres med en tekststreng i tredje argument til plot-funksjonen og er beskrevet i detalj [her](https://matplotlib.org/3.2.2/api/_as_gen/matplotlib.pyplot.plot.html) under seksjonen __*Format Strings*__.\n",
    "\n",
    "Nedenfor er et eksempel på plotting av flere geometriske former i samme figur. Eksperimenter med ulike innstillinger for farge, linjestil, etc."
   ]
  },
  {
   "cell_type": "code",
   "execution_count": 2,
   "metadata": {
    "scrolled": false
   },
   "outputs": [
    {
     "data": {
      "application/vnd.jupyter.widget-view+json": {
       "model_id": "01b38924197f4298a876377e2f91cb31",
       "version_major": 2,
       "version_minor": 0
      },
      "text/plain": [
       "Canvas(toolbar=Toolbar(toolitems=[('Home', 'Reset original view', 'home', 'home'), ('Back', 'Back to previous …"
      ]
     },
     "metadata": {},
     "output_type": "display_data"
    }
   ],
   "source": [
    "# Triangel\n",
    "x_triangle = cos(2*pi*np.linspace(1/4, 5/4, 4))\n",
    "y_triangle = sin(2*pi*np.linspace(1/4, 5/4, 4))\n",
    "\n",
    "# Kvadrat\n",
    "x_square = cos(2*pi*np.linspace(1/8, 9/8, 5))\n",
    "y_square = sin(2*pi*np.linspace(1/8, 9/8, 5))\n",
    "\n",
    "# Heksagon\n",
    "x_hex = cos(2*pi*np.linspace(0, 1, 7))\n",
    "y_hex = sin(2*pi*np.linspace(0, 1, 7))\n",
    "\n",
    "# Sirkel\n",
    "x_circ = cos(2*pi*np.linspace(0, 1, 501))\n",
    "y_circ = sin(2*pi*np.linspace(0, 1, 501))\n",
    "\n",
    "plt.figure()\n",
    "# Lag en graf av triangelet med blå kontinuerlig linje:\n",
    "triangle = plt.plot(x_triangle, y_triangle, 'b', label='Trekant')\n",
    "\n",
    "# Lag en graf av firkanten med rød \"dashdot\" linje:\n",
    "square = plt.plot(x_square, y_square, 'r-.', label='Firkant')\n",
    "\n",
    "# Lag en graf av heksagonet med farge \"magenta\" og striplet linje:\n",
    "hexagon = plt.plot(x_hex, y_hex, 'm:', label='Heksagon')\n",
    "\n",
    "# Lag en graf av sirkelen med egendefinert farge angitt i RGB HEX-kode og linjetykkelse lik 2:\n",
    "circle = plt.plot(x_circ, y_circ, color='#77AC30', linewidth=2, label='Sirkel')\n",
    "\n",
    "plt.axis([-1, 1, -1, 1]) # Spesifiser aksegrensene\n",
    "\n",
    "# Vis merkelappene i øvre venstre hjørne.\n",
    "plt.legend(loc='upper left')\n",
    "plt.show()"
   ]
  },
  {
   "cell_type": "markdown",
   "metadata": {
    "nbgrader": {
     "grade": false,
     "grade_id": "cell-9878d1627a74a558",
     "locked": true,
     "schema_version": 3,
     "solution": false,
     "task": false
    }
   },
   "source": [
    "## a)\n",
    "\n",
    "Vi fortsetter med bode-plot av filtergain, og bruker samme kantfrekvens. For et n'te ordens analogt butterworth-filter vil Gain-funksjonen være gitt av følgende formel:\n",
    "$$ G\\left(\\omega, n \\right) = \\frac{1}{\\sqrt{1 + \\left(\\frac{\\omega}{\\omega_c}\\right)^{2\\cdot n}}}$$\n",
    " \n",
    "\n",
    "Lag en figur som viser bode diagrammet til ulike filter med filterorden 2, 3, 4, 5 & 6. Grafene skal vises i samme plot."
   ]
  },
  {
   "cell_type": "code",
   "execution_count": 3,
   "metadata": {
    "nbgrader": {
     "grade": true,
     "grade_id": "cell-8821fa59e9093212",
     "locked": false,
     "points": 1,
     "schema_version": 3,
     "solution": true,
     "task": false
    }
   },
   "outputs": [
    {
     "data": {
      "application/vnd.jupyter.widget-view+json": {
       "model_id": "aa45ffe762574e7dbbb93413628d92a6",
       "version_major": 2,
       "version_minor": 0
      },
      "text/plain": [
       "Canvas(toolbar=Toolbar(toolitems=[('Home', 'Reset original view', 'home', 'home'), ('Back', 'Back to previous …"
      ]
     },
     "metadata": {},
     "output_type": "display_data"
    }
   ],
   "source": [
    "plt.figure()\n",
    "w_log = np.logspace(-2, 3, 501)*2*pi\n",
    "\n",
    "for filt_ord in range(2, 7):\n",
    "    Gw = 1/sqrt(1+(w_log/pi)**(2*filt_ord))\n",
    "    plt.loglog(w_log, Gw, label=\"Filterorden \"+str(filt_ord))\n",
    "\n",
    "plt.legend(loc='lower left')\n",
    "plt.grid(True)\n",
    "plt.xlabel(\"Frekvens (rad/s)\")\n",
    "plt.ylabel(r'$G(\\omega)$')\n",
    "plt.title('Frekvensrespons for ulike filterordener')\n",
    "plt.show()"
   ]
  },
  {
   "cell_type": "markdown",
   "metadata": {
    "nbgrader": {
     "grade": false,
     "grade_id": "cell-1265e54b39c6b44b",
     "locked": true,
     "points": 1,
     "schema_version": 3,
     "solution": false,
     "task": true
    }
   },
   "source": [
    "## b)\n",
    "\n",
    "Modifiser koden slik at den også viser merkelapper i figuren som forklarer hvilken kurve som hører til hvilken filterorden."
   ]
  }
 ],
 "metadata": {
  "celltoolbar": "Create Assignment",
  "kernelspec": {
   "display_name": "Python 3",
   "language": "python",
   "name": "python3"
  },
  "language_info": {
   "codemirror_mode": {
    "name": "ipython",
    "version": 3
   },
   "file_extension": ".py",
   "mimetype": "text/x-python",
   "name": "python",
   "nbconvert_exporter": "python",
   "pygments_lexer": "ipython3",
   "version": "3.8.5"
  }
 },
 "nbformat": 4,
 "nbformat_minor": 4
}
