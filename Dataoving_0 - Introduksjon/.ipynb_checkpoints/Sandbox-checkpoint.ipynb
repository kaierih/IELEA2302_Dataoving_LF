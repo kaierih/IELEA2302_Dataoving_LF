{
 "cells": [
  {
   "cell_type": "code",
   "execution_count": 96,
   "metadata": {},
   "outputs": [],
   "source": [
    "from numpy import sin, cos, pi, exp\n",
    "import numpy as np\n",
    "import matplotlib.pyplot as plt\n",
    "from ipywidgets import interact, fixed, FloatSlider, IntSlider, HBox, VBox, interactive_output, Layout\n",
    "import ipywidgets as widget\n",
    "\n",
    "%matplotlib ipympl"
   ]
  },
  {
   "cell_type": "code",
   "execution_count": 86,
   "metadata": {},
   "outputs": [
    {
     "data": {
      "application/vnd.jupyter.widget-view+json": {
       "model_id": "432e1df26c344d03a077e3dc5d1b3c38",
       "version_major": 2,
       "version_minor": 0
      },
      "text/plain": [
       "HBox(children=(VBox(children=(BoundedIntText(value=4000, description='Signal segment start (sample number):', …"
      ]
     },
     "metadata": {},
     "output_type": "display_data"
    },
    {
     "data": {
      "application/vnd.jupyter.widget-view+json": {
       "model_id": "49a970d8b49540cfada46f0416bfe629",
       "version_major": 2,
       "version_minor": 0
      },
      "text/plain": [
       "Output()"
      ]
     },
     "metadata": {},
     "output_type": "display_data"
    }
   ],
   "source": [
    "def testOutput(n_start, n_stop, domain):\n",
    "    print(n_start, '\\n', \n",
    "          n_stop, '\\n',\n",
    "          domain)\n",
    "    win_stop.min = n_start+1\n",
    "\n",
    "\n",
    "domainSelection = widget.RadioButtons(\n",
    "    options=['Time Trace', 'Frequency Spectrum'],\n",
    "    value='Time Trace',\n",
    "    description='Display: ',\n",
    "    disabled=False,\n",
    "    continuous_update=False\n",
    ")\n",
    "win_start = widget.BoundedIntText(    \n",
    "    value=4000,\n",
    "    min=0,\n",
    "    max=100000,\n",
    "    step=1,\n",
    "    description='Signal segment start (sample number):',\n",
    "    disabled=False,\n",
    "    style = {'description_width': 'initial'},\n",
    "    layout=Layout(width='95%'),\n",
    "    continuous_update=False\n",
    ")\n",
    "win_stop = widget.BoundedIntText(    \n",
    "    value=8000,\n",
    "    min=0,\n",
    "    max=10000,\n",
    "    step=1,\n",
    "    description='Signal segment stop (sample number):',\n",
    "    disabled=False,\n",
    "    style = {'description_width': 'initial'},\n",
    "    layout=Layout(width='95%'),\n",
    "    continuous_update=False\n",
    ")\n",
    "layout = HBox(\n",
    "    [VBox([win_start, win_stop]), \n",
    "     domainSelection]\n",
    ")\n",
    "userInput = {\n",
    "    'n_start': win_start,\n",
    "    'n_stop': win_stop,\n",
    "    'domain': domainSelection\n",
    "}\n",
    "out = interactive_output(testOutput, userInput)\n",
    "display(layout, out)"
   ]
  },
  {
   "cell_type": "code",
   "execution_count": 2,
   "metadata": {},
   "outputs": [],
   "source": [
    "\n",
    "\n",
    "def sliderPanelSetup(set_details, n_of_sets=1, slider_type='float'):\n",
    "    panel_col = []\n",
    "    sliders = {}\n",
    "    for i in range(n_of_sets):\n",
    "        panel_row = []\n",
    "        for item in set_details:\n",
    "            mathtext = item['description']\n",
    "            mathtext = mathtext.strip('$')\n",
    "            if n_of_sets > 1:\n",
    "                if mathtext.find(\" \") == -1:\n",
    "                    mathtext = '$' + mathtext + '_' + str(i+1) + '$' \n",
    "                else:\n",
    "                    mathtext = '$' + mathtext.replace(\" \", '_'+str(i+1)+'\\ ', 1) + '$'\n",
    "            else:\n",
    "                mathtext = '$' + mathtext + '$'\n",
    "            #mathtext = r'{}'.format(mathtext)\n",
    "\n",
    "            panel_row.append(FloatSlider(value=item['value'], \n",
    "                                         min=item['min'],\n",
    "                                         max = item['max'], \n",
    "                                         step = item['step'], \n",
    "                                         description=mathtext, \n",
    "                                         layout=Layout(width='95%')))\n",
    "            \n",
    "            sliders[item['keyword']+str(i+1)] = panel_row[-1]\n",
    "        panel_col.append(HBox(panel_row, layout = Layout(width='100%')))\n",
    "    layout = VBox(panel_col, layout = Layout(width='90%'))\n",
    "    return sliders, layout\n",
    "\n",
    "class y_of_x_plot:\n",
    "    def __init__(self, ax, t, A_max, N=1, t_unit='s'):\n",
    "        res  = len(t)\n",
    "        self.N = N\n",
    "        t_nd = np.outer(t, np.ones(self.N))\n",
    "        x_t = np.zeros((res, self.N))          \n",
    "\n",
    "        self.ax = ax\n",
    "        self.lines = self.ax.plot(t_nd, x_t)\n",
    "        \n",
    "        # avgrensning av akser, rutenett, merkede punkt på aksene, tittel, aksenavn\n",
    "        self.ax.axis([t[0], t[-1], -A_max, A_max])\n",
    "        self.ax.grid(True)\n",
    "        #self.ax.set_xticks(np.linspace(t[0],t[-1],11))\n",
    "        self.ax.set_xlabel(\"Tid (\" + t_unit + \")\")\n",
    "        \n",
    "    def update(self, new_lines_x, new_lines_y):\n",
    "        assert self.N == len(new_lines_x) == len(new_lines_y), \"Error: Parameter lenght different from number of sines.\"\n",
    "        for i in range(self.N):\n",
    "            self.lines[i].set_ydata(new_lines_y[i])\n",
    "            self.lines[i].set_xdata(new_lines_x[i])\n",
    "            \n",
    "    def setLabels(self, names):\n",
    "        self.ax.legend(self.lines, names, loc='upper right')\n",
    "        \n",
    "    def setStyles(self, styles):\n",
    "        for i in range(min(len(styles), len(self.lines))):\n",
    "            try:\n",
    "                self.lines[i].set_color(styles[i]['color'])\n",
    "            except:\n",
    "                pass\n",
    "            \n",
    "            try:\n",
    "                self.lines[i].set_linestyle(styles[i]['linestyle'])\n",
    "            except:\n",
    "                pass\n"
   ]
  },
  {
   "cell_type": "code",
   "execution_count": 135,
   "metadata": {},
   "outputs": [
    {
     "data": {
      "application/vnd.jupyter.widget-view+json": {
       "model_id": "1203cf865da242b8bc85a4adb2e403a0",
       "version_major": 2,
       "version_minor": 0
      },
      "text/plain": [
       "Canvas(toolbar=Toolbar(toolitems=[('Home', 'Reset original view', 'home', 'home'), ('Back', 'Back to previous …"
      ]
     },
     "metadata": {},
     "output_type": "display_data"
    },
    {
     "data": {
      "application/vnd.jupyter.widget-view+json": {
       "model_id": "7da663a17aef425fa35813a63b4575d6",
       "version_major": 2,
       "version_minor": 0
      },
      "text/plain": [
       "HBox(children=(VBox(children=(BoundedIntText(value=4000, description='Signal segment start (sample number):', …"
      ]
     },
     "metadata": {},
     "output_type": "display_data"
    },
    {
     "data": {
      "application/vnd.jupyter.widget-view+json": {
       "model_id": "2d717fcd5b224869bd42ba6e23862647",
       "version_major": 2,
       "version_minor": 0
      },
      "text/plain": [
       "Output()"
      ]
     },
     "metadata": {},
     "output_type": "display_data"
    },
    {
     "data": {
      "text/plain": [
       "<__main__.signalAnalyzer at 0x1676d3845e0>"
      ]
     },
     "execution_count": 135,
     "metadata": {},
     "output_type": "execute_result"
    }
   ],
   "source": [
    "# Demo 4:\n",
    "# Sum av sinusbølger med vektoraddisjon        \n",
    "class signalAnalyzer:\n",
    "    def __init__(self, x_n, f_s, fig_num=1):\n",
    "        self.x_n = x_n\n",
    "        self.f_s = f_s\n",
    "        self.t = np.linspace(0, len(self.x_n)/self.f_s, len(self.x_n), endpoint=False)\n",
    "        \n",
    "        \n",
    "        # Set up canvas\n",
    "        plt.close(fig_num)\n",
    "        self.fig = plt.figure(fig_num, figsize=(9, 6))\n",
    "        \n",
    "        \n",
    "        # Set up plot showing signal selection\n",
    "        self.ax1 = plt.subplot(4, 1, 1)\n",
    "        self.ax1.set_title(r\"Full Signal Plot\")\n",
    "        self.ax1.plot(self.t, self.x_n,  color='tab:blue')\n",
    "        self.ax1.grid(True)\n",
    "        self.ax1.set_xlabel('Time t (seconds)')\n",
    "        self.highlight, = self.ax1.plot(self.t, self.x_n, color='tab:orange')\n",
    "        self.ax1.axis(xmin=self.t[0], xmax=self.t[-1])\n",
    "        \n",
    "        \n",
    "        \n",
    "        # Set up signal segment inspection plot\n",
    "        self.ax2 = plt.subplot(4, 1, (2,4))\n",
    "        \n",
    "        self.selectionCurve, = self.ax2.plot(self.t, self.x_n, color='tab:blue')\n",
    "        self.ax2.grid(True)\n",
    "        \n",
    "        \n",
    "        # Adjust figure layout\n",
    "        self.fig.tight_layout(pad=2.0, w_pad=1.0, h_pad=2.0)\n",
    "        \n",
    "        # Set up UI panel\n",
    "        domainSelection = widget.RadioButtons(\n",
    "            options=['Time Trace', 'Frequency Spectrum'],\n",
    "            value='Time Trace',\n",
    "            description='Display: ',\n",
    "            disabled=False,\n",
    "            continuous_update=False\n",
    "        )\n",
    "        win_start = widget.BoundedIntText(    \n",
    "            value=4000,\n",
    "            min=0,\n",
    "            max=100000,\n",
    "            step=1,\n",
    "            description='Signal segment start (sample number):',\n",
    "            disabled=False,\n",
    "            style = {'description_width': 'initial'},\n",
    "            layout=Layout(width='95%'),\n",
    "            continuous_update=False\n",
    "        )\n",
    "        win_stop = widget.BoundedIntText(    \n",
    "            value=8000,\n",
    "            min=0,\n",
    "            max=10000,\n",
    "            step=1,\n",
    "            description='Signal segment stop (sample number):',\n",
    "            disabled=False,\n",
    "            style = {'description_width': 'initial'},\n",
    "            layout=Layout(width='95%'),\n",
    "            continuous_update=False\n",
    "        )\n",
    "        self.layout = HBox(\n",
    "            [VBox([win_start, win_stop]), \n",
    "             domainSelection]\n",
    "        )\n",
    "        self.userInput = {\n",
    "            'n_start': win_start,\n",
    "            'n_stop': win_stop,\n",
    "            'domain': domainSelection\n",
    "        }\n",
    "        out = interactive_output(self.update, self.userInput)\n",
    "        display(self.layout, out)\n",
    "        # Run demo\n",
    "        #out = interactive_output(self.update, self.sliders)\n",
    "        #display(self.layout, out)\n",
    "        \n",
    "    def update(self, n_start, n_stop, domain):\n",
    "        self.userInput['n_stop'].min=n_start+1\n",
    "        self.highlight.set_ydata(self.x_n[n_start:n_stop])\n",
    "        self.highlight.set_xdata(self.t[n_start:n_stop])\n",
    "        if domain=='Time Trace':\n",
    "            self.ax2.set_xlabel('Time t (seconds)')\n",
    "            self.ax2.set_ylabel('Value x(t)')\n",
    "            self.selectionCurve.set_ydata(self.x_n[n_start:n_stop])\n",
    "            self.selectionCurve.set_xdata(self.t[n_start:n_stop])\n",
    "            self.ax2.set_xlabel(\"Time t (seconds)\")\n",
    "            self.ax2.set_ylabel(\"Value x(t)\")\n",
    "            self.ax2.set_title(\"Time plot of selected signal segment\")\n",
    "            self.ax2.relim()\n",
    "            self.ax2.autoscale_view()\n",
    "            self.ax2.axis(xmin=self.t[n_start], xmax=self.t[n_stop])\n",
    "            \n",
    "        elif domain=='Frequency Spectrum':\n",
    "            M = n_stop-n_start\n",
    "            f, Sxx_sub = welch(self.x_n[n_start:n_stop], self.fs, 'hamming', int(M/4), int(M/8), int(M/2))\n",
    "            \n",
    "            self.ax2.set_xlabel(\"Frequency f (Hz)\")\n",
    "            self.ax2.set_ylabel(\"Power Pxx(f) (dB)\")\n",
    "            self.ax2.set_title(\"Frequency content of selected signal segment\")\n",
    "            self.selectionCurve.set_ydata(10*np.log10(Sxx_sub))\n",
    "            self.selectionCurve.set_xdata(f)\n",
    "            self.ax2.relim()\n",
    "            self.ax2.autoscale_view()\n",
    "            self.ax2.axis(xmin=0, xmax=self.fs/2)\n",
    "            \n",
    "\n",
    "            plt.grid(True)\n",
    "            plt.title(\"Signal Segment Frequency Spectrum\")\n",
    "\n",
    "        else:\n",
    "            pass\n",
    "\n",
    "\n",
    "signalAnalyzer(np.linspace(0, 1, 10000, endpoint=False), 8000)              "
   ]
  }
 ],
 "metadata": {
  "kernelspec": {
   "display_name": "Python 3",
   "language": "python",
   "name": "python3"
  },
  "language_info": {
   "codemirror_mode": {
    "name": "ipython",
    "version": 3
   },
   "file_extension": ".py",
   "mimetype": "text/x-python",
   "name": "python",
   "nbconvert_exporter": "python",
   "pygments_lexer": "ipython3",
   "version": "3.8.5"
  }
 },
 "nbformat": 4,
 "nbformat_minor": 4
}
