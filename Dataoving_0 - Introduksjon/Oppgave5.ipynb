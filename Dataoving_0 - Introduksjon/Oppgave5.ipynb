{
 "cells": [
  {
   "cell_type": "markdown",
   "metadata": {
    "nbgrader": {
     "grade": false,
     "grade_id": "cell-86e9e3d0b7069b37",
     "locked": true,
     "schema_version": 3,
     "solution": false,
     "task": false
    }
   },
   "source": [
    "<nav class=\"navbar navbar-default\">\n",
    "  <div class=\"container-fluid\">\n",
    "    <div class=\"navbar-header\">\n",
    "      <a class=\"navbar-brand\" href=\"_Dataoving1.ipynb\">Dataøving 1</a>\n",
    "    </div>\n",
    "    <ul class=\"nav navbar-nav\">\n",
    "        <li><a href=\"Oppgave1.ipynb\">Oppgave 1 - Fra matematiske uttrykk til python-kode</a></li>\n",
    "        <li><a href=\"Oppgave2.ipynb\">Oppgave 2 - Plotting av matematiske funksjoner</a></li>\n",
    "        <li><a href=\"Oppgave3.ipynb\">Oppgave 3 - Plotting av flere datasett</a></li>\n",
    "        <li><a href=\"Oppgave4.ipynb\">Oppgave 4 - Analyse av lydsignal</a></li>\n",
    "        <li class=\"active\"><a href=\"Oppgave5.ipynb\">Oppgave 5 - For de som vil ha en ekstra utfordring</a></li>\n",
    "    </ul>\n",
    "  </div>\n",
    "</nav>\n",
    "\n",
    "# Koch's Snøkflak \n",
    "### (*frivillig og ekstra vanskelig*)\n",
    "\n",
    "<br></br>\n",
    "\n",
    "Koch's Snøflak er en matematisk kurve, og en av de tidligste breskrevede _fraktale_ kurver. Fraktaler er typisk tilsynelatende uendelig intrikate mønster som gjentar et \"grunnmønster\" igjen og igjen etter hvert som man \"zoomer inn\" på mønsteret. Fraktaler kan du lese mer om [her](https://en.wikipedia.org/wiki/Fractal).\n",
    "\n",
    "Se for deg at man starter med en likesidet trekant, og så bryter opp hver side av trekanten i tre like store segment. Om man da erstatter det midterste segmentet i hver av sidene med en ny likesidet trekant hvor sidene har $\\frac{1}{3}$ av lengden de hadde før, og så fjerner segmentet som var en del va den \"gamle\" trekanten, så ender man opp med en sekskantet stjerne.\n",
    "\n",
    "Prosessen beskrevet over kan man repetere for alle de 12 siden i den sekskantede stjernen, og så alle 48 sidene av kurven dette vil gi osv. Gjentar man denne prosessen mange nok ganger vil man ende opp med en kurve som ser ut som et snøflak.\n",
    "\n",
    "Hvis vi sier at $K_n$ er kurven til Koch's snøflak, der $n$ er antall iterasjoner, så vil de ulike iterasjonene gi et resultat slik som beskrevet i tabellen nedenfor:\n",
    "\n",
    "Iterasjoner ($n$) | Geometrisk form på $K_n$ | Antall sider\n",
    "---|---|---\n",
    "0 | Likesidet Trekant | 3\n",
    "1 | Sekskantet Stjerne | 12\n",
    "2 | Snøflak | 48\n",
    "3 | Snøflak | 192\n",
    "4 | Snøflak | 768\n",
    "osv.. | osv.. | osv..\n",
    "\n",
    "Det er tydelig at antalllet sider firedobles ved hver iterasjon. Formelen for antallet sider $N_n$ ved $n$'te iterasjon er da:\n",
    "$$N_n = 3\\cdot 4^{n}$$\n",
    "\n",
    "De første 7 iterasjonene av Koch's Snøflak er vist i animasjonen nedenfor. Ønsker du å lese mer om Koch's Snøflak så er wikipedia-artikkelen [her](https://en.wikipedia.org/wiki/Koch_snowflake).\n",
    "\n",
    "![7 iterasjoner av Koch's Snøflak](Figurer/Von_Koch_curve.gif)"
   ]
  },
  {
   "cell_type": "markdown",
   "metadata": {
    "nbgrader": {
     "grade": false,
     "grade_id": "cell-ad110324dc079be4",
     "locked": true,
     "schema_version": 3,
     "solution": false,
     "task": false
    }
   },
   "source": [
    "## Oppgave:\n",
    "\n",
    "Denne oppgaven dreier seg om å skrive et program som tar inn antall iterasjoner som input `n`, genererer to lister med henholdsvis x- og y-koordinatene til _alle_ kantene i den resulterende kurven, og plotter det i en figur.\n",
    "\n",
    "Et godt sted å starte kan være generering av et enkelt trekant-plot. Dette gjør vi for eksempel med følgende oppskrift:\n",
    "0. Importer moduler osv...\n",
    "1. Definer 4 punkt på enhetssirkelen (første og siste skal ha samme verdi). \n",
    "    * Dette gjør vi ved å lage en listestruktur med vinklene $-\\frac{\\pi}{2}$, $\\frac{\\pi}{6}$, $\\frac{5\\pi}{6}$ og $\\frac{3\\pi}{2}$ (tilsvarer $-\\frac{\\pi}{2}$).\n",
    "    * Disse 4 vinklene er tilstrekkelig til å definere 4 punkt som alle har avstand $1$ fra origo, men ulike vinkler.\n",
    "2. Konverter fra polarkoordinater (*radius og vinkel*) til kartesiske koordinater (*x og y*).\n",
    "    * $ x = r\\cdot \\cos(\\theta)$\n",
    "    * $ y = r\\cdot \\sin(\\theta)$\n",
    "    * P.S. Alle punktene har raduis $r = 1$\n",
    "    \n",
    "    \n",
    "3. Bruk modulen `matplotlib.pyplot` til å tegne kurven. Funksjonen `plot()` vil utføre en \"connect-the-dots\" gjennomgang av listene med x- og y- koordinater. Dette betyr at for å få 3 linjer som \"slutter\" trekanten må vi ha 4 punkt slik at siste linje slutter på samme sted som den startet å tegne.\n",
    "    * dvs: kant1 -> kant2, kant2 -> kant3, kant3 -> kant1.\n",
    "    \n",
    "Kodecellen nedenfor vil gjøre nøyaktig dette. Ta utgangspunkt i eksisterende kode, og utvid slik at figuren ender opp med å vise Koch's Snøflak med `iterasjoner` antall iterasoner."
   ]
  },
  {
   "cell_type": "code",
   "execution_count": null,
   "metadata": {
    "nbgrader": {
     "grade": true,
     "grade_id": "cell-829ba68dc35aa58e",
     "locked": false,
     "points": 1,
     "schema_version": 3,
     "solution": true,
     "task": false
    },
    "scrolled": false
   },
   "outputs": [],
   "source": [
    "from numpy import pi, sin, cos\n",
    "import numpy as np\n",
    "import matplotlib.pyplot as plt\n",
    "%matplotlib ipympl\n",
    "\n",
    "# Vi kan tegne en trekant ved å plotte kurven mellom 4 punkt.\n",
    "# Listen med koordinater må gå \"full sirkel\" så det er viktig \n",
    "# at første og siste element har samme verdier.\n",
    "# En trekant (3 sider) kan derfor plottes med 3+1=4 punkt.\n",
    "\n",
    "theta = pi*np.linspace(0, 2, 4) - pi/2 # ndarray som inneholder vinklene -90, 30, 150 og 270 grader.\n",
    "x = cos(theta) # x-koordinater for kantene\n",
    "y = sin(theta) # y-koordinater for kantene\n",
    "#plt.plot(x, y) # Tegn kurven\n",
    "\n",
    "# Bruker definerer antall iterasjoner\n",
    "iterasjoner = int(input(\"Skriv inn antall iterasjoner: \"))\n",
    "\n",
    "### BEGIN SOLUTION\n",
    "theta_R = pi/3 # 60 grader rotasjonsvinkel\n",
    "\n",
    "# Rotasjonsmatrise for å rotere med klokka\n",
    "R_left = np.array([[cos(theta_R), -sin(theta_R)],\n",
    "                   [sin(theta_R), cos(theta_R)]])\n",
    "\n",
    "# Rotasjonsmatrise for å rotere mot klokka\n",
    "R_right = np.array([[cos(-theta_R), -sin(-theta_R)],\n",
    "                    [sin(-theta_R), cos(-theta_R)]])\n",
    "\n",
    "# Bruk kurven fra forrige iterasjon som utgangspunkt i utregning av neste iterasjon. \n",
    "# Må repeteres like mange ganger som antall iterasjoner.\n",
    "for n in range(1, iterasjoner+1):\n",
    "    \n",
    "    # Kopier eksisterende x- og y listene til variabler for data tilhørende forrige iterasjon.\n",
    "    x_old = x\n",
    "    y_old = y\n",
    "    \n",
    "    # Initialiser nye array for x og y som er store nok til å inneholde alle de punktene\n",
    "    # vi regner ut i nåværende iterasjon.\n",
    "    x = np.zeros(3*4**n + 1)\n",
    "    y = np.zeros(3*4**n + 1)\n",
    "    \n",
    "    # Bla gjennom alle sidene i kurven fra forrige iterasjon, K_(n-1)\n",
    "    for i in range(len(x_old)-1):\n",
    "        \n",
    "        # Vektoren v_i peker langs den \"aktive\" siden, men er 1/3 så lang\n",
    "        v_i = np.array([(x_old[i+1] - x_old[i])/3, \n",
    "                        (y_old[i+1] - y_old[i])/3])\n",
    "        \n",
    "        # Hvis vektoren v_i renges som et \"steg\", finner vi de nye kantene som følger:\n",
    "        # 1. Ta ett seg fram\n",
    "        # 2. Snu 60 grader mot høyre og ta et nytt steg\n",
    "        # 3. Snu 120 grader mot venstre og ta et steg til\n",
    "        kant_1 = np.array([x_old[i], y_old[i]]) + v_i\n",
    "        kant_2 = kant_1 + R_right@v_i\n",
    "        kant_3 = kant_2 + R_left@v_i\n",
    "        \n",
    "        # Kopier startposisjonen fra de gamle koordinatlistene til en kant i figuren, \n",
    "        # og etterfølg den med de 3 nye kantene du har funnet.\n",
    "        x[i*4:i*4+4] = np.array([x_old[i], kant_1[0], kant_2[0], kant_3[0]])\n",
    "        y[i*4:i*4+4] = np.array([y_old[i], kant_1[1], kant_2[1], kant_3[1]])\n",
    "        \n",
    "    # Avslutt det hele med å kopiere siste punkt i den gamle kurven til den nye kurven.\n",
    "    x[-1] = x_old[-1]\n",
    "    y[-1] = y_old[-1]\n",
    "\n",
    "# Plot figur\n",
    "plt.plot(x, y)\n",
    "### END SOLUTION"
   ]
  },
  {
   "cell_type": "markdown",
   "metadata": {
    "nbgrader": {
     "grade": false,
     "grade_id": "cell-ab5db67c4e8cb3af",
     "locked": true,
     "schema_version": 3,
     "solution": false,
     "task": false
    }
   },
   "source": [
    "Noen nøkkelpunkt:\n",
    "* Hvis antallet sider i kurven er $N_n = 3\\cdot 4^{n}$, betyr det at lengden på listene vi må finne vil være $L_n = N_n+1 = 3\\cdot 4^{n}+1$ (der $n$ er antall iterasjoner) for at første og siste punkt skal være det samme.\n",
    "* Hvis én side av figuren er gitt av linjen mellom punktene $(x_i, y_i)$ og $(x_{i+1}, y_{i+1})$, så kan det være hensiktsmessig å omdefinere til startkoordinater $(x_i, y_i)$, og en vektor $\\vec{v}_i = \\begin{bmatrix}x_{i+1} - x_i \\\\ y_{i+1}-y_i\\end{bmatrix} = \\begin{bmatrix}\\Delta x_i \\\\ \\Delta y_i\\end{bmatrix}$\n",
    "* Vektorer (som f.eks. $\\vec{v}_i$) kan roteres $\\theta$ radianer ved å multiplisere med en _rotasjonsmatrise_ $\\boldsymbol{R}$ :\n",
    "$$\\vec{v}_{rot} = \\boldsymbol{R}\\cdot \\vec{v}_i, \\ \\ \\ \\boldsymbol{R} = \\begin{bmatrix} \\cos(\\theta) & -\\sin(\\theta) \\\\ \\sin(\\theta) & \\cos(\\theta) \\end{bmatrix}$$\n",
    "\n",
    "#### Lykke til!\n",
    "**P.S.** Ikke bli forundret hvis programmet ditt bruker lang tid på å kjøre. Det er ikke anbefalt å forsåke noe særlig mer enn 10 iterasjoner."
   ]
  }
 ],
 "metadata": {
  "celltoolbar": "Create Assignment",
  "kernelspec": {
   "display_name": "Python 3",
   "language": "python",
   "name": "python3"
  },
  "language_info": {
   "codemirror_mode": {
    "name": "ipython",
    "version": 3
   },
   "file_extension": ".py",
   "mimetype": "text/x-python",
   "name": "python",
   "nbconvert_exporter": "python",
   "pygments_lexer": "ipython3",
   "version": "3.8.3"
  }
 },
 "nbformat": 4,
 "nbformat_minor": 4
}
