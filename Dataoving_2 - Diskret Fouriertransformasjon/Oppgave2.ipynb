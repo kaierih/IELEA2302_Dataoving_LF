{
 "cells": [
  {
   "cell_type": "markdown",
   "metadata": {
    "nbgrader": {
     "grade": false,
     "grade_id": "cell-483c68ab31aafe98",
     "locked": true,
     "schema_version": 3,
     "solution": false,
     "task": false
    }
   },
   "source": [
    "<nav class=\"navbar navbar-default\">\n",
    "  <div class=\"container-fluid\">\n",
    "    <div class=\"navbar-header\">\n",
    "      <a class=\"navbar-brand\" href=\"_Dataoving2.ipynb\">Dataøving 2</a>\n",
    "    </div>\n",
    "    <ul class=\"nav navbar-nav\">\n",
    "        <li><a href=\"Oppgave1.ipynb\">Oppgave1 - Digitale Signal og Diskrét Datarepresentasjon.</a></li>\n",
    "        <li class=\"active\"><a href=\"Oppgave2.ipynb\">Oppgave 2 - Signalanalyse med DFT.</a></li>\n",
    "        <li><a href=\"Oppgave3.ipynb\">Oppgave 3 - Signalgenerasjon med IDFT.</a></li>\n",
    "        <li><a href=\"Oppgave4.ipynb\">Oppgave 4 - Reparasjon av lydsignal.</a></li>\n",
    "    </ul>\n",
    "  </div>\n",
    "</nav>\n",
    "\n",
    "# Signalanalyse med DFT\n",
    "\n",
    "__Læringsmål__:\n",
    "* Forståelse for sammenheng mellom DFT-indeks og frekvens.\n",
    "* Tolking av Amplituden til sinuskomponenter i en N-punkts DFT.\n",
    "* Tolking av Fasen til sinuskomponenter i en N-punkts DFT.\n",
    "\n",
    "__Bibliotek og notebook-konfigurasjon:__"
   ]
  },
  {
   "cell_type": "code",
   "execution_count": 1,
   "metadata": {},
   "outputs": [],
   "source": [
    "from numpy import sin, cos, pi, exp, append, mean, absolute, angle # Sentrale matematiske funksjoner\n",
    "from numpy.fft import fft, ifft             # DFT og IDFT\n",
    "import numpy as np                          # Importer funksjonalitet fra numpy biblioteket med prefiks \"np\"\n",
    "import matplotlib.pyplot as plt             # Importer pyplot modulen i matplotlib med prefiks \"plt\"\n",
    "import csv                                  # Håndtering av .csv fil\n",
    "from funksjoner_data3 import timeSpectrumStem\n",
    "from scipy.io import loadmat\n",
    "\n",
    "%matplotlib ipympl"
   ]
  },
  {
   "cell_type": "markdown",
   "metadata": {
    "nbgrader": {
     "grade": false,
     "grade_id": "cell-b5a40af0636e3ee7",
     "locked": true,
     "schema_version": 3,
     "solution": false,
     "task": false
    }
   },
   "source": [
    "**Introduksjon**\n",
    "\n",
    "I denne oppgaven skal vi se på et testsignal $x[n]$ med 128 sampler, bestående av to sinussekvenser som er lagt sammen $x[n] = A_1\\cdot \\cos\\left(\\hat{\\omega}_1\\cdot n + \\phi_1 \\right) + A_2\\cdot \\cos\\left(\\hat{\\omega}_2\\cdot n + \\phi_2 \\right)$. Signalet lastes inn fra datafila `lab3.mat`, og er signalet gitt i kolonnen merket `x1[n]`. Ved å regne DFT (fft) av dette signalet kan vi analysere frekvensinnholdet i signalet. Koden nedenfor vil laste inn signalet `x1[n]` fra datafila, regne ut signalets DFT, og visualisere resultatet ved bruk av funksjonen `timeSpectrumStem()` som er laget for denne dataøvingen. Denne funksjonen tar in digitalt signal som tidsserie (`xn1`), signalets DFT (`Xk1`), og antall sampler (`N`) som parametre."
   ]
  },
  {
   "cell_type": "code",
   "execution_count": 2,
   "metadata": {
    "scrolled": false
   },
   "outputs": [
    {
     "data": {
      "application/vnd.jupyter.widget-view+json": {
       "model_id": "56a77d143be1449e8b2861dbc3eeebcc",
       "version_major": 2,
       "version_minor": 0
      },
      "text/plain": [
       "Canvas(toolbar=Toolbar(toolitems=[('Home', 'Reset original view', 'home', 'home'), ('Back', 'Back to previous …"
      ]
     },
     "metadata": {},
     "output_type": "display_data"
    }
   ],
   "source": [
    "fileData = loadmat('lab3.mat', squeeze_me=True)\n",
    "\n",
    "n = fileData['n']\n",
    "xn1 = fileData['x1[n]']\n",
    "\n",
    "Xk1 = fft(xn1);\n",
    "N = len(xn1);\n",
    "\n",
    "plt.close(1); \n",
    "plt.figure(1);\n",
    "timeSpectrumStem(xn1, Xk1, N)"
   ]
  },
  {
   "cell_type": "markdown",
   "metadata": {
    "nbgrader": {
     "grade": false,
     "grade_id": "cell-11369ac03231a6b9",
     "locked": true,
     "schema_version": 3,
     "solution": false,
     "task": false
    }
   },
   "source": [
    "## a)\n",
    "\n",
    "Studer figurene. For hvilke indeksverdier $k$ finner vi elementene i DFT-sekvensen $X[k]$ som hører til de to sinuskomponentene med frekvens $\\hat{\\omega}_1$ og $\\hat{\\omega}_2$? "
   ]
  },
  {
   "cell_type": "markdown",
   "metadata": {
    "nbgrader": {
     "grade": true,
     "grade_id": "cell-87a18d2b47d8b13b",
     "locked": false,
     "points": 2,
     "schema_version": 3,
     "solution": true,
     "task": false
    }
   },
   "source": [
    "$\\hat{\\omega}_1$:\n",
    "* Ett komplekskonjugert \"par\" nær starten og slutten av DFT-sekvensen $X[k]$ \n",
    "    - Positiv frekvenskomponent: $k=2$ \n",
    "    - Alias av negativ frekvenskomponent: $k=N-2=128-2=126$\n",
    "    \n",
    "    \n",
    "$\\hat{\\omega}_2$:\n",
    "* Ett komplekskonjugert \"par\" nærmere midten av DFT-sekvensen $X[k]$\n",
    "    - Positiv frekvenskomponent: $k=33$\n",
    "    - Alias av negativ frekvenskomponent: $k=N-33=128-33=95$"
   ]
  },
  {
   "cell_type": "markdown",
   "metadata": {
    "nbgrader": {
     "grade": false,
     "grade_id": "cell-2b26f31ab234270d",
     "locked": true,
     "schema_version": 3,
     "solution": false,
     "task": false
    }
   },
   "source": [
    "## b)\n",
    "Vi kan skrive ut numeriske verdier til utvalgte element i $X_1[k]$, og ett \"par\" med symmetrisk plasserte element representerer én sinusbølge. Ett eksempel på hvordan man kan finne verdien til eksempelvis $X_1[81]$ i polarkoordinater er vist nedenfor:\n",
    "```python\n",
    "k = 81\n",
    "print(\"X[%d] har absoluttverdi %.1f og vinkel %.2f Pi\"% (k, absolute(Xk1[k]), angle(Xk1[k])/pi))\n",
    "```\n",
    "- Studer de ulike sinuskomponentene til $x_1[n]$ i frekvensplanet ved å skrive ut verdien(e) til alle DFT-elementene som tilhører de to sinusbølgene som utgjør signalet. Finn så amplitude $A$, normalisert vinkelfrekvens $\\hat{\\omega}$ og fase $\\phi$ for hver sinuskomponent.\n",
    "- Hvis signalet har en samplingsfrekvens $f_s = 4096Hz$, hva er frekvensen til de to sinuskomponentene $f_1$ og $f_2$ i Hz?"
   ]
  },
  {
   "cell_type": "code",
   "execution_count": 3,
   "metadata": {
    "nbgrader": {
     "grade": true,
     "grade_id": "cell-2fc8f5c07db4253f",
     "locked": false,
     "points": 1,
     "schema_version": 3,
     "solution": true,
     "task": false
    },
    "scrolled": false
   },
   "outputs": [
    {
     "name": "stdout",
     "output_type": "stream",
     "text": [
      "X[2] har absoluttverdi 64.0 og vinkel -0.50 Pi\n",
      "X[33] har absoluttverdi 25.6 og vinkel -0.75 Pi\n",
      "X[95] har absoluttverdi 25.6 og vinkel 0.75 Pi\n",
      "X[126] har absoluttverdi 64.0 og vinkel 0.50 Pi\n"
     ]
    }
   ],
   "source": [
    "k = [2, 33, 95, 126]      # DFT Element \n",
    "for i in range(len(k)):\n",
    "    print(\"X[%d] har absoluttverdi %.1f og vinkel %.2f Pi\"% (k[i], absolute(Xk1[k[i]]), angle(Xk1[k[i]])/pi))"
   ]
  },
  {
   "cell_type": "markdown",
   "metadata": {
    "nbgrader": {
     "grade": true,
     "grade_id": "cell-869962ca16ed928f",
     "locked": false,
     "points": 1,
     "schema_version": 3,
     "solution": true,
     "task": false
    }
   },
   "source": [
    "**Komponent 1:**\n",
    "\n",
    "- $f_1 = \\frac{2}{N}\\cdot f_s = \\frac{2}{128}\\cdot 4096 = 64Hz$\n",
    "- $A_1 = \\frac{|X[2]|+|X[126|}{N}=\\frac{64+64}{128}=1$\n",
    "- $\\phi_1 = \\angle{X[2]} = -\\frac{\\pi}{2}$\n",
    "\n",
    "**Komponent 2:**\n",
    "\n",
    "- $f_2 = \\frac{33}{N}\\cdot f_s = \\frac{33}{128}\\cdot 4096 = 1056Hz$\n",
    "- $A_2 = \\frac{|X[33]|+|X[95|}{N}=\\frac{25.6+25.6}{128}=0.4$\n",
    "- $\\phi_2 = \\angle{X[33]} = -\\frac{3\\pi}{4}$"
   ]
  }
 ],
 "metadata": {
  "celltoolbar": "Create Assignment",
  "kernelspec": {
   "display_name": "Python 3",
   "language": "python",
   "name": "python3"
  },
  "language_info": {
   "codemirror_mode": {
    "name": "ipython",
    "version": 3
   },
   "file_extension": ".py",
   "mimetype": "text/x-python",
   "name": "python",
   "nbconvert_exporter": "python",
   "pygments_lexer": "ipython3",
   "version": "3.8.3"
  }
 },
 "nbformat": 4,
 "nbformat_minor": 4
}
