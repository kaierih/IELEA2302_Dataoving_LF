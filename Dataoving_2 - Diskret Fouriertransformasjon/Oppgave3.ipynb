{
 "cells": [
  {
   "cell_type": "markdown",
   "metadata": {
    "nbgrader": {
     "grade": false,
     "grade_id": "cell-29b0aa29981ff87c",
     "locked": true,
     "schema_version": 3,
     "solution": false,
     "task": false
    }
   },
   "source": [
    "<nav class=\"navbar navbar-default\">\n",
    "  <div class=\"container-fluid\">\n",
    "    <div class=\"navbar-header\">\n",
    "      <a class=\"navbar-brand\" href=\"_Dataoving2.ipynb\">Dataøving 2</a>\n",
    "    </div>\n",
    "    <ul class=\"nav navbar-nav\">\n",
    "        <li><a href=\"Oppgave1.ipynb\">Oppgave1 - Digitale Signal og Diskrét Datarepresentasjon.</a></li>\n",
    "        <li><a href=\"Oppgave2.ipynb\">Oppgave 2 - Signalanalyse med DFT.</a></li>\n",
    "        <li class=\"active\"><a href=\"Oppgave3.ipynb\">Oppgave 3 - Signalgenerasjon med IDFT.</a></li>\n",
    "        <li><a href=\"Oppgave4.ipynb\">Oppgave 4 - Reparasjon av lydsignal.</a></li>\n",
    "    </ul>\n",
    "  </div>\n",
    "</nav>\n",
    "\n",
    "# Signalgenerasjon med IDFT\n",
    "\n",
    "__Læringsmål__:\n",
    "* Sammenhengen mellom en DFT og komposisjon av et signal.\n",
    "* Hvordan legge til, fjerne og justere på sinuskomponenter i et signal med bruk av IDFT.\n",
    "\n",
    "__Bibliotek og notebook-konfigurasjon:__"
   ]
  },
  {
   "cell_type": "code",
   "execution_count": 2,
   "metadata": {},
   "outputs": [],
   "source": [
    "from numpy import sin, cos, pi, exp, mean, absolute, angle, conj # Sentrale matematiske funksjoner\n",
    "from numpy.fft import fft, ifft             # DFT og IDFT\n",
    "import numpy as np                          # Importer funksjonalitet fra numpy biblioteket med prefiks \"np\"\n",
    "import matplotlib.pyplot as plt             # Importer pyplot modulen i matplotlib med prefiks \"plt\"\n",
    "from funksjoner_data3 import timeSpectrumStem\n",
    "\n",
    "%matplotlib ipympl"
   ]
  },
  {
   "cell_type": "markdown",
   "metadata": {},
   "source": [
    "**Introduksjon**\n",
    "\n",
    "Fouriertransformasjon kan brukes til mer enn å identifisere frekvenskomponenter i et signal. En DFT er en *fullstendig* dekomposisjon av et signal, som betyr at den inneholder all informasjon som er nødvendig for å rekonstruere et signal fra frekvenskomponentene. \n",
    "\n",
    "I denne oppgaven skal vi konstruere signal ved å legge til og modifisere komponentene i frekvensplanet, for så å regne oss frem til et signal i tidsdomenet med bruk av IDFT. Nedenfor føgler et eksempel som viser matematikken rundt signalgenerasjon med IDFT. Signalet som genereres er 64 sampler av en sinussekvens gitt ved formelen $x[n] = 2\\cdot \\cos\\left(2\\pi \\frac{4}{64}\\cdot n - \\frac{\\pi}{3} \\right), \\ \\ \\ 0 \\leq n < 64$.\n",
    "* Finn ut hvilkde indekser i DFT-sekvensen som vil korrespondere med et sinussignal med normalisert vinkelfrekvens $\\hat{\\omega} = 2\\pi \\frac{4}{64}$:\n",
    "$$\\pm \\hat{\\omega}_k = \\pm 2\\pi \\cdot \\frac{4}{64} = \\pm 2\\pi \\cdot \\frac{k}{N}, \\ \\ \\ N = 64$$\n",
    "$$k = \\pm 4 $$ \n",
    "$$ \\downarrow$$\n",
    "$$\\text{(negative tall 'ruller over' og teller ned fra høyeste indeks.) }$$\n",
    "$$ \\downarrow$$\n",
    "$$ k = \\pm 4 \\% 64$$\n",
    " \n",
    "$$\n",
    "k =\n",
    "\\begin{cases}\n",
    "\\begin{align}\n",
    "4\\ \\ \\ & \\text{(positiv frekvenskomponent)} \\\\\n",
    "-4 \\% 64 = 64 - 4 = 60\\ \\ \\ & \\text{(negativ frekvenskomponent)}\n",
    "\\end{align}\n",
    "\\end{cases}\n",
    "$$\n",
    " \n",
    "\n",
    "* Finn den komplekse amplituden $a_k$ slik at signalet kan skrives som $x[n] = a_k \\cdot e^{j\\hat{\\omega}_k\\cdot n} + a_k^{*} \\cdot e^{-j\\hat{\\omega}_k\\cdot n}$:\n",
    "$$2\\cdot \\cos \\left(2\\pi \\frac{4}{64}\\cdot n - \\frac{\\pi}{3} \\right) = e^{-j\\frac{\\pi}{3}}\\cdot e^{j2\\pi \\frac{4}{64}\\cdot n} + e^{j\\frac{\\pi}{3}}\\cdot e^{-j2\\pi \\frac{4}{64}\\cdot n}$$\n",
    "$$a_4 = e^{-j\\frac{\\pi}{3}}$$\n",
    " \n",
    " \n",
    "* Sett de aktuelle elementene i $X[k]$ til riktig verdi *(her må vi multiplisere med antall sampler i DFT-sekvensen)*\n",
    "$$\n",
    "X[k] = \n",
    "\\begin{cases}\n",
    "\\begin{align}\n",
    "N \\cdot a_4= 64 \\cdot e^{-j\\frac{\\pi}{3}},\\ \\ \\  & k = 4 \\\\\n",
    "N \\cdot a_4^{*} = 64\\cdot e^{j\\frac{\\pi}{3}},\\ \\ \\  & k = 60 \\\\\n",
    "0 \\ \\ \\ & ellers\n",
    "\\end{align}\n",
    "\\end{cases}\n",
    "$$\n",
    " \n",
    " \n",
    "* Invers DFT gir det ønskede signalet:\n",
    "$$x[n] = IDFT(X[k])$$\n",
    "\n",
    "\n",
    "Kodecellen nedenfor utfører de to siste stegene i denne prosessen. Parmaetrene `k`, `A` og `phi` er arrays, noe som lar oss bygge et signal med én eller flere sinussekvenser. Foreløpig vil koden kun generere signalet fra utregningen ovenfor. \n",
    "\n",
    "*NB! legg merke til at vi kun trenger å angi de positive frekvenskomponentene. Kode for å regne ut det komplekskonjugerte \"speilbildet\" som inneholder de negative frekvenskomponentene er allerede inkludert.*"
   ]
  },
  {
   "cell_type": "code",
   "execution_count": 13,
   "metadata": {},
   "outputs": [
    {
     "data": {
      "application/vnd.jupyter.widget-view+json": {
       "model_id": "8b5479d3eae34a8dbd985806d8bdd0fa",
       "version_major": 2,
       "version_minor": 0
      },
      "text/plain": [
       "Canvas(toolbar=Toolbar(toolitems=[('Home', 'Reset original view', 'home', 'home'), ('Back', 'Back to previous …"
      ]
     },
     "metadata": {},
     "output_type": "display_data"
    }
   ],
   "source": [
    "# Parametre for sinusledd(ene)\n",
    "N = 96                         # Antall sampler DFT'en skal representere\n",
    "k = np.array([6, 9])              # DFT-indeks(er) = antall svingninger i løpet av N sampler\n",
    "A = np.array([2, 2.3])              # Amplitude(r)\n",
    "phi = np.array([-pi/3, 3*pi/5])        # Fase(r)\n",
    "phi += -17*2*pi*k/N               # Oppgave c\n",
    "\n",
    "# Utregning av signalsampler\n",
    "Xk = 1j*np.zeros(N)             # Lag et \"tomt\" komplekst signal med lengde N\n",
    "a_k = A*exp(1j*phi)/2.0         # Kompleks amplitude (A*e^(j*phi)) positiv frekvenskomponent \n",
    "Xk[k] = a_k*N                   # Sett DFT-verdier for de positive frekvenskomponentene\n",
    "Xk[N-k] = conj(a_k)*N           # Sett DFT-verdier for de negative frekvenskomponentene\n",
    "\n",
    "xn = ifft(Xk)\n",
    "\n",
    "plt.close(1); plt.figure(1)\n",
    "if(np.sum(np.absolute(np.imag(xn)))>1e-10):\n",
    "    print(\"DFT conjugate symmetry not maintained. IDFT produced complex signal.\")\n",
    "else:\n",
    "    timeSpectrumStem(np.real(xn), Xk, N)"
   ]
  },
  {
   "cell_type": "markdown",
   "metadata": {
    "nbgrader": {
     "grade": false,
     "grade_id": "cell-766c728aabc8e8c8",
     "locked": true,
     "points": 2,
     "schema_version": 3,
     "solution": false,
     "task": true
    }
   },
   "source": [
    "Kjør gjennom koden og studer figurene som blir generert. Det kan også være en god idé å justere på noen av parametrene og observere hva resultatet blir.\n",
    "\n",
    "## a) \n",
    "* Legg til en ny sinuskomponent med normalisert vinkelfrekvens $\\hat{\\omega} = \\frac{3\\pi}{16}$, amplitude $A = 2.3$ og fase $\\phi = \\frac{3\\pi}{5}$ ved å legge til et nytt element arrayene `k`, `A` og `phi`. "
   ]
  },
  {
   "cell_type": "markdown",
   "metadata": {
    "nbgrader": {
     "grade": false,
     "grade_id": "cell-aad7949ec57617cd",
     "locked": true,
     "points": 2,
     "schema_version": 3,
     "solution": false,
     "task": true
    }
   },
   "source": [
    "## b) \n",
    "* Vi vil generere flere sampler av samme signal. Gjør ytterligere endringer på variablene `k`, `A` og `phi` i tillegg til `N` for å produsere 96 sampler istedenfor 64. Pass på at vinkelfrekvensen til sinuskomponentene forblir uendret. "
   ]
  },
  {
   "cell_type": "markdown",
   "metadata": {
    "nbgrader": {
     "grade": false,
     "grade_id": "cell-31c72b25e32582ac",
     "locked": true,
     "points": 2,
     "schema_version": 3,
     "solution": false,
     "task": true
    }
   },
   "source": [
    "## c)\n",
    "\n",
    "* Påfør hele signalet $M=-17$ sampler tidsforskyvning ved å justere på fasen til frekvenskomponentene."
   ]
  }
 ],
 "metadata": {
  "celltoolbar": "Create Assignment",
  "kernelspec": {
   "display_name": "Python 3",
   "language": "python",
   "name": "python3"
  },
  "language_info": {
   "codemirror_mode": {
    "name": "ipython",
    "version": 3
   },
   "file_extension": ".py",
   "mimetype": "text/x-python",
   "name": "python",
   "nbconvert_exporter": "python",
   "pygments_lexer": "ipython3",
   "version": "3.8.3"
  }
 },
 "nbformat": 4,
 "nbformat_minor": 4
}
